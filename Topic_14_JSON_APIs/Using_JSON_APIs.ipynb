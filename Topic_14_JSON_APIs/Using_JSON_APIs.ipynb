{
 "cells": [
  {
   "cell_type": "markdown",
   "metadata": {},
   "source": [
    "# JSON and APIs\n",
    "\n",
    "## Introduction to JSON\n",
    "\n",
    "JSON was invented by Douglas Crockford in 2001. It is a lightweight data-interchange format that is easy for humans to read and write and easy for machines to parse and generate. JSON is based on a subset of the JavaScript Programming Language, Standard ECMA-262 3rd Edition - December 1999. JSON is a text format that is completely language independent but uses conventions that are familiar to programmers of the C-family of languages, including C, C++, C#, Java, JavaScript, Perl. Also JSON was influenced by Python. These properties make JSON an ideal data-interchange language.\n",
    "\n",
    "Goal: Human Readable, Machine Parsable\n",
    "\n",
    "Website: [https://www.json.org/](https://www.json.org/)"
   ]
  },
  {
   "cell_type": "code",
   "execution_count": 1,
   "metadata": {},
   "outputs": [
    {
     "name": "stdout",
     "output_type": "stream",
     "text": [
      "{\"first_name\": \"Guido\", \"last_name\":\"Rossum\", \"age\": 64, \"is_python_dev\": true}\n"
     ]
    }
   ],
   "source": [
    "# let's get some sample json\n",
    "import json # typically we import libraries at the top of the file\n",
    "json_string = '{\"first_name\": \"Guido\", \"last_name\":\"Rossum\", \"age\": 64, \"is_python_dev\": true}'\n",
    "# note that json_string is just a string, this is how JSON is exchanged between systems\n",
    "print(json_string)\n",
    "\n"
   ]
  },
  {
   "cell_type": "markdown",
   "metadata": {},
   "source": [
    "## Parsing JSON strings to Python objects\n",
    "\n",
    "Python has a built-in package called `json`, which can be used to work with JSON data. The `json` package provides a convenient way to convert JSON data to Python objects and vice versa."
   ]
  },
  {
   "cell_type": "code",
   "execution_count": 2,
   "metadata": {},
   "outputs": [
    {
     "name": "stdout",
     "output_type": "stream",
     "text": [
      "{'first_name': 'Guido', 'last_name': 'Rossum', 'age': 64, 'is_python_dev': True}\n"
     ]
    }
   ],
   "source": [
    "# parsing JSON string\n",
    "python_object = json.loads(json_string)\n",
    "print(python_object)"
   ]
  },
  {
   "cell_type": "markdown",
   "metadata": {},
   "source": [
    "## Saving Python objects as JSON strings\n",
    "\n",
    "To save a Python object as a JSON string, you can use the `json.dumps()` function. This function takes a Python object as input and returns a JSON string.\n",
    "\n",
    "Alternatively we can use the `json.dump()` function to write the JSON string to a file."
   ]
  },
  {
   "cell_type": "code",
   "execution_count": 3,
   "metadata": {},
   "outputs": [],
   "source": [
    "# let's dump a python object to a json file\n",
    "with open('guido.json', 'w') as f: # so we open file stream to write to a file\n",
    "    json.dump(python_object, f)\n",
    "    \n",
    "# file stream f is closed automatically when we exit the with block"
   ]
  },
  {
   "cell_type": "code",
   "execution_count": 4,
   "metadata": {},
   "outputs": [],
   "source": [
    "# i can indent the json file\n",
    "with open('guido_indented.json', 'w') as f:\n",
    "    json.dump(python_object, f, indent=4)"
   ]
  },
  {
   "cell_type": "markdown",
   "metadata": {},
   "source": [
    "## Dealing with non ASCII data"
   ]
  },
  {
   "cell_type": "code",
   "execution_count": 5,
   "metadata": {},
   "outputs": [],
   "source": [
    "# let's create a list of three dictionaries\n",
    "# each dictionary will represent a person in Latvia with name, surname, age and is_student\n",
    "people = [\n",
    "    {\n",
    "        \"name\": \"Jānis\",\n",
    "        \"surname\": \"Bērziņš\",\n",
    "        \"age\": 25,\n",
    "        \"is_student\": True\n",
    "    },\n",
    "    {\n",
    "        \"name\": \"Pēteris\",\n",
    "        \"surname\": \"Liepiņš\",\n",
    "        \"age\": 35,\n",
    "        \"is_student\": False\n",
    "    },\n",
    "    {\n",
    "        \"name\": \"Anna\",\n",
    "        \"surname\": \"Ozoliņa\",\n",
    "        \"age\": 22,\n",
    "        \"is_student\": True\n",
    "    }\n",
    "]"
   ]
  },
  {
   "cell_type": "code",
   "execution_count": 6,
   "metadata": {},
   "outputs": [],
   "source": [
    "# now I will save it\n",
    "with open('latvian_people.json', 'w') as f:\n",
    "    json.dump(people, f, indent=4)"
   ]
  },
  {
   "cell_type": "code",
   "execution_count": 7,
   "metadata": {},
   "outputs": [],
   "source": [
    "# the above cell saved the data with ASCII encoding\n",
    "# we would like to save it with UTF-8 encoding and ensure ASCII is not used\n",
    "with open('latvian_people_utf8.json', 'w', encoding='utf-8') as f:\n",
    "    json.dump(people, f, indent=4, ensure_ascii=False)"
   ]
  }
 ],
 "metadata": {
  "kernelspec": {
   "display_name": ".venv",
   "language": "python",
   "name": "python3"
  },
  "language_info": {
   "codemirror_mode": {
    "name": "ipython",
    "version": 3
   },
   "file_extension": ".py",
   "mimetype": "text/x-python",
   "name": "python",
   "nbconvert_exporter": "python",
   "pygments_lexer": "ipython3",
   "version": "3.12.3"
  }
 },
 "nbformat": 4,
 "nbformat_minor": 2
}
