{
  "cells": [
    {
      "cell_type": "markdown",
      "metadata": {
        "id": "Ky6t4B3L-dTq"
      },
      "source": [
        "# First Steps with Jupyter Notebooks\n",
        "\n",
        "Jupyter Notebooks are a great way to write and run code in Python. They are also a great way to write and share text, images, and other media. This notebook will show you how to use Jupyter Notebooks to write and run code in Python.\n",
        "\n",
        "## What is a Jupyter Notebook?\n",
        "\n",
        "A Jupyter Notebook is a document that contains both code and text. The code can be written in many different programming languages, but the most common language is Python. The text can be written in Markdown, a simple markup language that is easy to learn.\n",
        "\n",
        "## What is Markdown?\n",
        "\n",
        "Markdown is a simple markup language that is easy to learn. It is used to format text in Jupyter Notebooks. Here are some examples of Markdown formatting:\n",
        "\n",
        "- **Bold text**: `**Bold text**`\n",
        "- *Italic text*: `*Italic text*`\n",
        "- [Link to Google](https://www.google.com): `[Link to Google](https://www.google.com)`\n",
        "- `Code block`: `` `Code block` ``\n",
        "- Bulleted list:\n",
        "  - Item 1\n",
        "  - Item 2\n",
        "  - Item 3\n",
        "- Numbered list:\n",
        "    1. Item 1\n",
        "    2. Item 2\n",
        "    3. Item 3\n",
        "\n",
        "Note that Markdown cells are for human-readable text, not for code. If you want to write code, you should use a code cell.\n",
        "\n",
        "## Code cells\n",
        "\n",
        "Code cells are where you write and run code in Jupyter Notebooks. To create a new code cell, click on the `+` button in the toolbar at the top of the notebook. To run a code cell, click on the `Run` button in the toolbar or press `Shift + Enter`.\n",
        "\n",
        "## Links to Github guide to Markdown\n",
        "\n",
        "- [Basic writing and formatting syntax](https://docs.github.com/en/github/writing-on-github/basic-writing-and-formatting-syntax)"
      ]
    },
    {
      "cell_type": "code",
      "execution_count": 23,
      "metadata": {
        "id": "ASwIDEn1-dTw"
      },
      "outputs": [],
      "source": [
        "# With Jupyter Notebooks I run code from individual cells\n",
        "# Think of each cell as small program\n",
        "# we can run code in any order we want\n",
        "# we keep the state of the program in memory - meaning all variables are stored in memory\n",
        "\n",
        "# alternativve ways of running Jupyter Notebooks are through Jupyter Lab or Jupyter Notebook server\n",
        "# also Google Colab offers a custom version of Jupyter Notebooksb"
      ]
    },
    {
      "cell_type": "markdown",
      "metadata": {
        "id": "SQThm6W7-dT0"
      },
      "source": [
        "## Simple Hello World Program"
      ]
    },
    {
      "cell_type": "code",
      "execution_count": 24,
      "metadata": {
        "colab": {
          "base_uri": "https://localhost:8080/"
        },
        "id": "Iet3r3wB-dT2",
        "outputId": "11e92af5-334b-4dcb-b963-12683e4fc242"
      },
      "outputs": [
        {
          "name": "stdout",
          "output_type": "stream",
          "text": [
            "Hello, Valdis!\n"
          ]
        }
      ],
      "source": [
        "# Let's start with a simple hello world program\n",
        "name = \"Valdis\"\n",
        "print(f\"Hello, {name}!\")"
      ]
    },
    {
      "cell_type": "code",
      "execution_count": 25,
      "metadata": {
        "colab": {
          "base_uri": "https://localhost:8080/"
        },
        "id": "v_R4Dadf-dT5",
        "outputId": "4d23e28f-933e-41f8-d700-120aebda8097"
      },
      "outputs": [
        {
          "name": "stdout",
          "output_type": "stream",
          "text": [
            "Indeed, Hello again, Valdis!\n"
          ]
        }
      ],
      "source": [
        "# i can use the variable again\n",
        "print(f\"Indeed, Hello again, {name}!\")"
      ]
    },
    {
      "cell_type": "code",
      "execution_count": 26,
      "metadata": {
        "colab": {
          "base_uri": "https://localhost:8080/"
        },
        "id": "k1tc5CC2-dT6",
        "outputId": "b00babf2-9a13-4350-cf01-8877ad2386ee"
      },
      "outputs": [
        {
          "name": "stdout",
          "output_type": "stream",
          "text": [
            "Counter is 0\n"
          ]
        }
      ],
      "source": [
        "# variables persist between running of cells\n",
        "counter = 0\n",
        "print(f\"Counter is {counter}\")"
      ]
    },
    {
      "cell_type": "code",
      "execution_count": 27,
      "metadata": {
        "id": "MKRYG84Q-dT7",
        "outputId": "f5fbe5cb-bf85-43b3-e032-c42d56ad741b"
      },
      "outputs": [
        {
          "name": "stdout",
          "output_type": "stream",
          "text": [
            "Counter is now 1\n"
          ]
        }
      ],
      "source": [
        "counter += 1\n",
        "print(f\"Counter is now {counter}\")"
      ]
    },
    {
      "cell_type": "markdown",
      "metadata": {
        "id": "tKuywEtq-dT8"
      },
      "source": [
        "## Good practice for notebooks\n",
        "\n",
        "Notebooks should run their cells in order from top to bottom. This is because the output of one cell can be used as input for another cell. If you run the cells out of order, you may get unexpected results."
      ]
    },
    {
      "cell_type": "markdown",
      "metadata": {
        "id": "07oF90rW-dT8"
      },
      "source": [
        "## Learning more about Jupyter Notebook\n",
        "\n",
        "- [Jupyter Notebook Documentation](https://jupyter-notebook.readthedocs.io/en/stable/)\n",
        "- [Jupyter Notebook Tutorial](https://www.datacamp.com/community/tutorials/tutorial-jupyter-notebook)"
      ]
    },
    {
      "cell_type": "markdown",
      "metadata": {
        "id": "4OfWH9k3-dT9"
      },
      "source": [
        "## Running matplotlib in Jupyter Notebook"
      ]
    },
    {
      "cell_type": "code",
      "execution_count": 28,
      "metadata": {
        "colab": {
          "base_uri": "https://localhost:8080/",
          "height": 430
        },
        "id": "l5e8aMNA-dT9",
        "outputId": "c4385d53-152a-4bc1-9414-e2ce4d6b9671"
      },
      "outputs": [
        {
          "data": {
            "image/png": "[encoded data removed]",
            "text/plain": [
              "<Figure size 640x480 with 1 Axes>"
            ]
          },
          "metadata": {},
          "output_type": "display_data"
        }
      ],
      "source": [
        "# first we import the module\n",
        "from matplotlib import pyplot as plt\n",
        "\n",
        "# let's create some data\n",
        "# we want 0 to 10 in 0.1 increments\n",
        "x = [i/10 for i in range(101)]\n",
        "# y will be square of x\n",
        "y = [i**2 for i in x]\n",
        "\n",
        "# let's plot the data\n",
        "plt.plot(x, y)\n",
        "plt.show()"
      ]
    },
    {
      "cell_type": "code",
      "execution_count": 29,
      "metadata": {
        "colab": {
          "base_uri": "https://localhost:8080/"
        },
        "id": "0n8YJuT5_dkA",
        "outputId": "64a5f307-b72e-4689-f71b-bf1f7c508cdc"
      },
      "outputs": [
        {
          "name": "stdout",
          "output_type": "stream",
          "text": [
            " Volume in drive D is Data\n",
            " Volume Serial Number is 72A3-8E69\n",
            "\n",
            " Directory of d:\\Github\\DAS_Python_24\\Topic_13_Visualizations\n",
            "\n",
            "06/04/2024  07:08 PM    <DIR>          .\n",
            "06/04/2024  07:08 PM    <DIR>          ..\n",
            "06/04/2024  06:39 PM             1,206 matplot.py\n",
            "06/04/2024  07:08 PM            32,747 matplot_notebook.ipynb\n",
            "               2 File(s)         33,953 bytes\n",
            "               2 Dir(s)  31,223,103,488 bytes free\n"
          ]
        }
      ],
      "source": [
        "!dir\n",
        "# so i can call any command line command with !"
      ]
    },
    {
      "cell_type": "markdown",
      "metadata": {
        "id": "YiGl1Tvo_rD8"
      },
      "source": [
        "## Installing external packages from Jupyter directly\n",
        "\n",
        "I can call any command line system command by prefixing with !\n",
        "\n",
        "So to install matplotlib\n",
        "I can do\n",
        "!pip install matplotlib"
      ]
    },
    {
      "cell_type": "code",
      "execution_count": 30,
      "metadata": {
        "colab": {
          "base_uri": "https://localhost:8080/"
        },
        "id": "wJyj6br9_mfC",
        "outputId": "67df4ac8-0d25-441f-c724-c83d2db63135"
      },
      "outputs": [
        {
          "name": "stdout",
          "output_type": "stream",
          "text": [
            "Requirement already satisfied: matplotlib in d:\\github\\das_python_24\\.venv\\lib\\site-packages (3.9.0)\n",
            "Requirement already satisfied: contourpy>=1.0.1 in d:\\github\\das_python_24\\.venv\\lib\\site-packages (from matplotlib) (1.2.1)\n",
            "Requirement already satisfied: cycler>=0.10 in d:\\github\\das_python_24\\.venv\\lib\\site-packages (from matplotlib) (0.12.1)\n",
            "Requirement already satisfied: fonttools>=4.22.0 in d:\\github\\das_python_24\\.venv\\lib\\site-packages (from matplotlib) (4.53.0)\n",
            "Requirement already satisfied: kiwisolver>=1.3.1 in d:\\github\\das_python_24\\.venv\\lib\\site-packages (from matplotlib) (1.4.5)\n",
            "Requirement already satisfied: numpy>=1.23 in d:\\github\\das_python_24\\.venv\\lib\\site-packages (from matplotlib) (1.26.4)\n",
            "Requirement already satisfied: packaging>=20.0 in d:\\github\\das_python_24\\.venv\\lib\\site-packages (from matplotlib) (24.0)\n",
            "Requirement already satisfied: pillow>=8 in d:\\github\\das_python_24\\.venv\\lib\\site-packages (from matplotlib) (10.3.0)\n",
            "Requirement already satisfied: pyparsing>=2.3.1 in d:\\github\\das_python_24\\.venv\\lib\\site-packages (from matplotlib) (3.1.2)\n",
            "Requirement already satisfied: python-dateutil>=2.7 in d:\\github\\das_python_24\\.venv\\lib\\site-packages (from matplotlib) (2.9.0.post0)\n",
            "Requirement already satisfied: six>=1.5 in d:\\github\\das_python_24\\.venv\\lib\\site-packages (from python-dateutil>=2.7->matplotlib) (1.16.0)\n"
          ]
        }
      ],
      "source": [
        "# !pip install matplotlib # this would install matplotlib package"
      ]
    },
    {
      "cell_type": "markdown",
      "metadata": {
        "id": "FxyUomAG_5jV"
      },
      "source": [
        "## Checking Python Version"
      ]
    },
    {
      "cell_type": "code",
      "execution_count": 31,
      "metadata": {
        "colab": {
          "base_uri": "https://localhost:8080/"
        },
        "id": "LAcTeoAK_8-Q",
        "outputId": "89c5594f-118d-457e-af0a-8521e61f734e"
      },
      "outputs": [
        {
          "name": "stdout",
          "output_type": "stream",
          "text": [
            "3.12.3 (tags/v3.12.3:f6650f9, Apr  9 2024, 14:05:25) [MSC v.1938 64 bit (AMD64)]\n"
          ]
        }
      ],
      "source": [
        "import sys\n",
        "print(sys.version)\n",
        "# so Google Colab uses older version of Python - no big deal usually"
      ]
    }
  ],
  "metadata": {
    "colab": {
      "provenance": []
    },
    "kernelspec": {
      "display_name": ".venv",
      "language": "python",
      "name": "python3"
    },
    "language_info": {
      "codemirror_mode": {
        "name": "ipython",
        "version": 3
      },
      "file_extension": ".py",
      "mimetype": "text/x-python",
      "name": "python",
      "nbconvert_exporter": "python",
      "pygments_lexer": "ipython3",
      "version": "3.12.3"
    }
  },
  "nbformat": 4,
  "nbformat_minor": 0
}
