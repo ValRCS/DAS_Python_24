{
 "cells": [
  {
   "cell_type": "markdown",
   "metadata": {},
   "source": [
    "# Exploring Car Data with Pandas"
   ]
  },
  {
   "cell_type": "code",
   "execution_count": 1,
   "metadata": {},
   "outputs": [
    {
     "name": "stdout",
     "output_type": "stream",
     "text": [
      "Python version: 3.12.3 (tags/v3.12.3:f6650f9, Apr  9 2024, 14:05:25) [MSC v.1938 64 bit (AMD64)]\n",
      "Pandas version: 2.2.2\n",
      "Plotly version: 5.22.0\n"
     ]
    }
   ],
   "source": [
    "# now that we have scraped data we want to clean and process it\n",
    "# afterwards we will want to generate some statistics and visualizations\n",
    "\n",
    "# first let's load libraries \n",
    "\n",
    "# first standard libraries\n",
    "# python version\n",
    "import sys\n",
    "print(f\"Python version: {sys.version}\")\n",
    "from pathlib import Path\n",
    "from datetime import datetime\n",
    "import re\n",
    "\n",
    "# data manipulation\n",
    "import pandas as pd\n",
    "print(f\"Pandas version: {pd.__version__}\")\n",
    "\n",
    "# visualization with plotly\n",
    "import plotly\n",
    "import plotly.express as px\n",
    "import plotly.graph_objects as go\n",
    "# version\n",
    "print(f\"Plotly version: {plotly.__version__}\")"
   ]
  },
  {
   "cell_type": "code",
   "execution_count": 2,
   "metadata": {},
   "outputs": [],
   "source": [
    "parquet_folder = Path(\"../data/parquet\")\n",
    "assert parquet_folder.exists(), \"Parquet folder does not exist\""
   ]
  },
  {
   "cell_type": "code",
   "execution_count": 5,
   "metadata": {},
   "outputs": [
    {
     "name": "stdout",
     "output_type": "stream",
     "text": [
      "Found 1 parquet files\n",
      "Latest parquet file: ..\\data\\parquet\\all_cars.parquet\n",
      "Dataframe shape: (24611, 8)\n",
      "Dataframe columns: Index(['description', 'url', 'Modelis', 'Gads', 'Tilp.', 'Nobrauk.', 'Cena',\n",
      "       'Marka'],\n",
      "      dtype='object')\n"
     ]
    },
    {
     "data": {
      "text/html": [
       "<div>\n",
       "<style scoped>\n",
       "    .dataframe tbody tr th:only-of-type {\n",
       "        vertical-align: middle;\n",
       "    }\n",
       "\n",
       "    .dataframe tbody tr th {\n",
       "        vertical-align: top;\n",
       "    }\n",
       "\n",
       "    .dataframe thead th {\n",
       "        text-align: right;\n",
       "    }\n",
       "</style>\n",
       "<table border=\"1\" class=\"dataframe\">\n",
       "  <thead>\n",
       "    <tr style=\"text-align: right;\">\n",
       "      <th></th>\n",
       "      <th>description</th>\n",
       "      <th>url</th>\n",
       "      <th>Modelis</th>\n",
       "      <th>Gads</th>\n",
       "      <th>Tilp.</th>\n",
       "      <th>Nobrauk.</th>\n",
       "      <th>Cena</th>\n",
       "      <th>Marka</th>\n",
       "    </tr>\n",
       "  </thead>\n",
       "  <tbody>\n",
       "    <tr>\n",
       "      <th>0</th>\n",
       "      <td>1.9 88kw. Labā tehniskā un vizuāla stāvoklī. Ļ...</td>\n",
       "      <td>https://ss.com/msg/lv/transport/cars/alfa-rome...</td>\n",
       "      <td>159</td>\n",
       "      <td>2008</td>\n",
       "      <td>1.9D</td>\n",
       "      <td>-</td>\n",
       "      <td>1,550  €</td>\n",
       "      <td>None</td>\n",
       "    </tr>\n",
       "    <tr>\n",
       "      <th>1</th>\n",
       "      <td>Pārdodu vāciešu alfa romeo 1.9 Jtd tehniski la...</td>\n",
       "      <td>https://ss.com/msg/lv/transport/cars/alfa-rome...</td>\n",
       "      <td>159</td>\n",
       "      <td>2009</td>\n",
       "      <td>1.9D</td>\n",
       "      <td>177 tūkst.</td>\n",
       "      <td>2,900  €</td>\n",
       "      <td>None</td>\n",
       "    </tr>\n",
       "    <tr>\n",
       "      <th>2</th>\n",
       "      <td>Alfa Romeo Stelvio\\r\\n2.2 dīzeļdzinējs\\r\\nAuto...</td>\n",
       "      <td>https://ss.com/msg/lv/transport/cars/alfa-rome...</td>\n",
       "      <td>Stelvio</td>\n",
       "      <td>2017</td>\n",
       "      <td>2.2D</td>\n",
       "      <td>158 tūkst.</td>\n",
       "      <td>16,990  €</td>\n",
       "      <td>None</td>\n",
       "    </tr>\n",
       "    <tr>\n",
       "      <th>3</th>\n",
       "      <td>Alfa Romeo Mito 1.3Jtdm 95Hp, \"Distinctive\" ap...</td>\n",
       "      <td>https://ss.com/msg/lv/transport/cars/alfa-rome...</td>\n",
       "      <td>Citi</td>\n",
       "      <td>2011</td>\n",
       "      <td>1.3D</td>\n",
       "      <td>175 tūkst.</td>\n",
       "      <td>3,900  €</td>\n",
       "      <td>None</td>\n",
       "    </tr>\n",
       "    <tr>\n",
       "      <th>4</th>\n",
       "      <td>Alfa romeo 147. Automāts 2.0benzīns ekonomisks...</td>\n",
       "      <td>https://ss.com/msg/lv/transport/cars/alfa-rome...</td>\n",
       "      <td>147</td>\n",
       "      <td>2004</td>\n",
       "      <td>2.0</td>\n",
       "      <td>-</td>\n",
       "      <td>1,499  €</td>\n",
       "      <td>None</td>\n",
       "    </tr>\n",
       "  </tbody>\n",
       "</table>\n",
       "</div>"
      ],
      "text/plain": [
       "                                         description  \\\n",
       "0  1.9 88kw. Labā tehniskā un vizuāla stāvoklī. Ļ...   \n",
       "1  Pārdodu vāciešu alfa romeo 1.9 Jtd tehniski la...   \n",
       "2  Alfa Romeo Stelvio\\r\\n2.2 dīzeļdzinējs\\r\\nAuto...   \n",
       "3  Alfa Romeo Mito 1.3Jtdm 95Hp, \"Distinctive\" ap...   \n",
       "4  Alfa romeo 147. Automāts 2.0benzīns ekonomisks...   \n",
       "\n",
       "                                                 url  Modelis  Gads Tilp.  \\\n",
       "0  https://ss.com/msg/lv/transport/cars/alfa-rome...      159  2008  1.9D   \n",
       "1  https://ss.com/msg/lv/transport/cars/alfa-rome...      159  2009  1.9D   \n",
       "2  https://ss.com/msg/lv/transport/cars/alfa-rome...  Stelvio  2017  2.2D   \n",
       "3  https://ss.com/msg/lv/transport/cars/alfa-rome...     Citi  2011  1.3D   \n",
       "4  https://ss.com/msg/lv/transport/cars/alfa-rome...      147  2004   2.0   \n",
       "\n",
       "     Nobrauk.       Cena Marka  \n",
       "0           -   1,550  €  None  \n",
       "1  177 tūkst.   2,900  €  None  \n",
       "2  158 tūkst.  16,990  €  None  \n",
       "3  175 tūkst.   3,900  €  None  \n",
       "4           -   1,499  €  None  "
      ]
     },
     "metadata": {},
     "output_type": "display_data"
    }
   ],
   "source": [
    "parquet_files = list(parquet_folder.glob(\"*.parquet\"))\n",
    "print(f\"Found {len(parquet_files)} parquet files\")\n",
    "# if we have at least one get the latest\n",
    "# sort by modification time and get the last one\n",
    "parquet_files = sorted(parquet_files, key=lambda x: x.stat().st_mtime)\n",
    "\n",
    "if len(parquet_files) > 0:\n",
    "    latest_parquet = parquet_files[-1]\n",
    "    print(f\"Latest parquet file: {latest_parquet}\")\n",
    "    # read the parquet file\n",
    "    df = pd.read_parquet(latest_parquet)\n",
    "    print(f\"Dataframe shape: {df.shape}\")\n",
    "    print(f\"Dataframe columns: {df.columns}\")\n",
    "    display(df.head())\n",
    "else:\n",
    "    print(\"No parquet files found, please run the scraping notebook first\")"
   ]
  },
  {
   "cell_type": "code",
   "execution_count": 6,
   "metadata": {},
   "outputs": [
    {
     "data": {
      "text/html": [
       "<style type=\"text/css\">\n",
       "</style>\n",
       "<table id=\"T_a4e99\">\n",
       "  <thead>\n",
       "    <tr>\n",
       "      <th class=\"blank level0\" >&nbsp;</th>\n",
       "      <th id=\"T_a4e99_level0_col0\" class=\"col_heading level0 col0\" >description</th>\n",
       "      <th id=\"T_a4e99_level0_col1\" class=\"col_heading level0 col1\" >url</th>\n",
       "      <th id=\"T_a4e99_level0_col2\" class=\"col_heading level0 col2\" >Modelis</th>\n",
       "      <th id=\"T_a4e99_level0_col3\" class=\"col_heading level0 col3\" >Gads</th>\n",
       "      <th id=\"T_a4e99_level0_col4\" class=\"col_heading level0 col4\" >Tilp.</th>\n",
       "      <th id=\"T_a4e99_level0_col5\" class=\"col_heading level0 col5\" >Nobrauk.</th>\n",
       "      <th id=\"T_a4e99_level0_col6\" class=\"col_heading level0 col6\" >Cena</th>\n",
       "      <th id=\"T_a4e99_level0_col7\" class=\"col_heading level0 col7\" >Marka</th>\n",
       "    </tr>\n",
       "  </thead>\n",
       "  <tbody>\n",
       "    <tr>\n",
       "      <th id=\"T_a4e99_level0_row0\" class=\"row_heading level0 row0\" >0</th>\n",
       "      <td id=\"T_a4e99_row0_col0\" class=\"data row0 col0\" >1.9 88kw. Labā tehniskā un vizuāla stāvoklī. Ļoti labas vissezonas riepas uz</td>\n",
       "      <td id=\"T_a4e99_row0_col1\" class=\"data row0 col1\" ><a target=\"_blank\" href=\"https://ss.com/msg/lv/transport/cars/alfa-romeo/159/gnhhf.html\">https://ss.com/msg/lv/transport/cars/alfa-romeo/159/gnhhf.html</a></td>\n",
       "      <td id=\"T_a4e99_row0_col2\" class=\"data row0 col2\" >159</td>\n",
       "      <td id=\"T_a4e99_row0_col3\" class=\"data row0 col3\" >2008</td>\n",
       "      <td id=\"T_a4e99_row0_col4\" class=\"data row0 col4\" >1.9D</td>\n",
       "      <td id=\"T_a4e99_row0_col5\" class=\"data row0 col5\" >-</td>\n",
       "      <td id=\"T_a4e99_row0_col6\" class=\"data row0 col6\" >1,550  €</td>\n",
       "      <td id=\"T_a4e99_row0_col7\" class=\"data row0 col7\" >None</td>\n",
       "    </tr>\n",
       "    <tr>\n",
       "      <th id=\"T_a4e99_level0_row1\" class=\"row_heading level0 row1\" >1</th>\n",
       "      <td id=\"T_a4e99_row1_col0\" class=\"data row1 col0\" >Pārdodu vāciešu alfa romeo 1.9 Jtd tehniski labā stāvoklī ar dažiem vizuālie</td>\n",
       "      <td id=\"T_a4e99_row1_col1\" class=\"data row1 col1\" ><a target=\"_blank\" href=\"https://ss.com/msg/lv/transport/cars/alfa-romeo/159/cdocni.html\">https://ss.com/msg/lv/transport/cars/alfa-romeo/159/cdocni.html</a></td>\n",
       "      <td id=\"T_a4e99_row1_col2\" class=\"data row1 col2\" >159</td>\n",
       "      <td id=\"T_a4e99_row1_col3\" class=\"data row1 col3\" >2009</td>\n",
       "      <td id=\"T_a4e99_row1_col4\" class=\"data row1 col4\" >1.9D</td>\n",
       "      <td id=\"T_a4e99_row1_col5\" class=\"data row1 col5\" >177 tūkst.</td>\n",
       "      <td id=\"T_a4e99_row1_col6\" class=\"data row1 col6\" >2,900  €</td>\n",
       "      <td id=\"T_a4e99_row1_col7\" class=\"data row1 col7\" >None</td>\n",
       "    </tr>\n",
       "    <tr>\n",
       "      <th id=\"T_a4e99_level0_row2\" class=\"row_heading level0 row2\" >2</th>\n",
       "      <td id=\"T_a4e99_row2_col0\" class=\"data row2 col0\" >Alfa Romeo Stelvio\r\n",
       "2.2 dīzeļdzinējs\r\n",
       "Automātiskā 8 pakāpju ātrumkārba\r\n",
       "Park</td>\n",
       "      <td id=\"T_a4e99_row2_col1\" class=\"data row2 col1\" ><a target=\"_blank\" href=\"https://ss.com/msg/lv/transport/cars/alfa-romeo/stelvio/cdxnhe.html\">https://ss.com/msg/lv/transport/cars/alfa-romeo/stelvio/cdxnhe.html</a></td>\n",
       "      <td id=\"T_a4e99_row2_col2\" class=\"data row2 col2\" >Stelvio</td>\n",
       "      <td id=\"T_a4e99_row2_col3\" class=\"data row2 col3\" >2017</td>\n",
       "      <td id=\"T_a4e99_row2_col4\" class=\"data row2 col4\" >2.2D</td>\n",
       "      <td id=\"T_a4e99_row2_col5\" class=\"data row2 col5\" >158 tūkst.</td>\n",
       "      <td id=\"T_a4e99_row2_col6\" class=\"data row2 col6\" >16,990  €</td>\n",
       "      <td id=\"T_a4e99_row2_col7\" class=\"data row2 col7\" >None</td>\n",
       "    </tr>\n",
       "    <tr>\n",
       "      <th id=\"T_a4e99_level0_row3\" class=\"row_heading level0 row3\" >3</th>\n",
       "      <td id=\"T_a4e99_row3_col0\" class=\"data row3 col0\" >Alfa Romeo Mito 1.3Jtdm 95Hp, \"Distinctive\" aprīkojuma līmenis, \"Blu Tornado</td>\n",
       "      <td id=\"T_a4e99_row3_col1\" class=\"data row3 col1\" ><a target=\"_blank\" href=\"https://ss.com/msg/lv/transport/cars/alfa-romeo/another/nbcxd.html\">https://ss.com/msg/lv/transport/cars/alfa-romeo/another/nbcxd.html</a></td>\n",
       "      <td id=\"T_a4e99_row3_col2\" class=\"data row3 col2\" >Citi</td>\n",
       "      <td id=\"T_a4e99_row3_col3\" class=\"data row3 col3\" >2011</td>\n",
       "      <td id=\"T_a4e99_row3_col4\" class=\"data row3 col4\" >1.3D</td>\n",
       "      <td id=\"T_a4e99_row3_col5\" class=\"data row3 col5\" >175 tūkst.</td>\n",
       "      <td id=\"T_a4e99_row3_col6\" class=\"data row3 col6\" >3,900  €</td>\n",
       "      <td id=\"T_a4e99_row3_col7\" class=\"data row3 col7\" >None</td>\n",
       "    </tr>\n",
       "    <tr>\n",
       "      <th id=\"T_a4e99_level0_row4\" class=\"row_heading level0 row4\" >4</th>\n",
       "      <td id=\"T_a4e99_row4_col0\" class=\"data row4 col0\" >Alfa romeo 147. Automāts 2.0benzīns ekonomisks 5-6L 100/km, laba komplektāci</td>\n",
       "      <td id=\"T_a4e99_row4_col1\" class=\"data row4 col1\" ><a target=\"_blank\" href=\"https://ss.com/msg/lv/transport/cars/alfa-romeo/147/lpoec.html\">https://ss.com/msg/lv/transport/cars/alfa-romeo/147/lpoec.html</a></td>\n",
       "      <td id=\"T_a4e99_row4_col2\" class=\"data row4 col2\" >147</td>\n",
       "      <td id=\"T_a4e99_row4_col3\" class=\"data row4 col3\" >2004</td>\n",
       "      <td id=\"T_a4e99_row4_col4\" class=\"data row4 col4\" >2.0</td>\n",
       "      <td id=\"T_a4e99_row4_col5\" class=\"data row4 col5\" >-</td>\n",
       "      <td id=\"T_a4e99_row4_col6\" class=\"data row4 col6\" >1,499  €</td>\n",
       "      <td id=\"T_a4e99_row4_col7\" class=\"data row4 col7\" >None</td>\n",
       "    </tr>\n",
       "  </tbody>\n",
       "</table>\n"
      ],
      "text/plain": [
       "<pandas.io.formats.style.Styler at 0x1a838afb6e0>"
      ]
     },
     "execution_count": 6,
     "metadata": {},
     "output_type": "execute_result"
    }
   ],
   "source": [
    "def make_clickable(val):\n",
    "    # target _blank to open new window\n",
    "    return '<a target=\"_blank\" href=\"{}\">{}</a>'.format(val, val)\n",
    "\n",
    "df.head().style.format({'url': make_clickable})"
   ]
  },
  {
   "cell_type": "code",
   "execution_count": 8,
   "metadata": {},
   "outputs": [
    {
     "name": "stdout",
     "output_type": "stream",
     "text": [
      "Unique models: 865\n"
     ]
    }
   ],
   "source": [
    "# unique Models\n",
    "models = df['Modelis'].unique()\n",
    "print(f\"Unique models: {len(models)}\")"
   ]
  },
  {
   "cell_type": "code",
   "execution_count": 14,
   "metadata": {},
   "outputs": [
    {
     "name": "stdout",
     "output_type": "stream",
     "text": [
      "Unique brands: 62\n",
      "['', '-', 'Austin', 'CadillacCiti', 'CadillacDE Ville', 'CadillacEldorado', 'CadillacEscalade', 'CadillacSRX', 'CadillacSeville', 'Chevrolet Chev', 'DaewooKalos', 'DaewooLanos', 'Daihatsu', 'Geely ck', 'Gmc', 'HummerH2', 'HummerH3', 'Hyundai', 'IsuzuCiti', 'IsuzuPick Up', 'IsuzuTrooper', 'Iž kombi', 'IžKombi', 'Karma revero', 'Levc tx', 'Levc vn5', 'Lincoln', 'LincolnMark', 'LincolnNavigator', 'LincolnTown Car', 'Linkoln', 'Malagutti', 'Man', 'Maserati', 'Mazda B2500', 'Metallolom', 'Mg zt-t', 'Ora', 'Rl1100', 'Rover', 'Rover416', 'Rover75', 'Smz', 'Ssang yong', 'SsangYongActyon', 'SsangYongCiti', 'SsangYongKorando', 'SsangYongRexton', 'Styer', 'Tesla', 'Uaz hunter', 'Uaz3151', 'Uaz3303', 'Uaz452', 'Uaz469', 'Vissi', 'Yamaha', 'Zaz', 'Zaz1102', 'Zaz965', 'Zaz966', 'Zaz968']\n"
     ]
    }
   ],
   "source": [
    "# unique Marka\n",
    "brands = df['Marka'].unique()\n",
    "print(f\"Unique brands: {len(brands)}\")\n",
    "# print all brands sorted\n",
    "# convert NoneType to empty string\n",
    "brands = [\"\" if pd.isna(b) else b for b in brands]\n",
    "brands = sorted(brands)\n",
    "print(brands)"
   ]
  },
  {
   "cell_type": "code",
   "execution_count": 16,
   "metadata": {},
   "outputs": [
    {
     "data": {
      "text/plain": [
       "Marka\n",
       "SsangYongRexton     7\n",
       "CadillacEscalade    7\n",
       "Uaz469              6\n",
       "LincolnTown Car     5\n",
       "Uaz452              4\n",
       "                   ..\n",
       "DaewooKalos         1\n",
       "DaewooLanos         1\n",
       "Zaz965              1\n",
       "Ora                 1\n",
       "Zaz966              1\n",
       "Name: count, Length: 61, dtype: int64"
      ]
     },
     "execution_count": 16,
     "metadata": {},
     "output_type": "execute_result"
    }
   ],
   "source": [
    "# value counts of brands\n",
    "brand_counts = df['Marka'].value_counts()\n",
    "brand_counts"
   ]
  },
  {
   "cell_type": "code",
   "execution_count": 18,
   "metadata": {},
   "outputs": [
    {
     "name": "stdout",
     "output_type": "stream",
     "text": [
      "None brands: 24507\n"
     ]
    }
   ],
   "source": [
    "# How many are none?\n",
    "none_brands = df['Marka'].isnull().sum()\n",
    "print(f\"None brands: {none_brands}\")"
   ]
  },
  {
   "cell_type": "code",
   "execution_count": 22,
   "metadata": {},
   "outputs": [],
   "source": [
    "# let's create a function that extracts brand from url\n",
    "# brand comes after cars/ and before next /\n",
    "def extract_brand(url):\n",
    "    if pd.isna(url):\n",
    "        return None\n",
    "    match = re.search(r\"cars/(.*?)/\", url)\n",
    "    if match:\n",
    "        return match.group(1)\n",
    "    else:\n",
    "        return None"
   ]
  },
  {
   "cell_type": "code",
   "execution_count": 23,
   "metadata": {},
   "outputs": [
    {
     "data": {
      "text/plain": [
       "Brand\n",
       "bmw           3748\n",
       "volkswagen    3186\n",
       "audi          2538\n",
       "volvo         2310\n",
       "mercedes      1594\n",
       "toyota        1421\n",
       "opel          1396\n",
       "ford          1000\n",
       "renault        739\n",
       "skoda          654\n",
       "nissan         632\n",
       "peugeot        600\n",
       "citroen        447\n",
       "hyundai        440\n",
       "honda          358\n",
       "kia            313\n",
       "land-rover     304\n",
       "lexus          275\n",
       "mitsubishi     258\n",
       "mazda          249\n",
       "seat           214\n",
       "porsche        194\n",
       "subaru         175\n",
       "jeep           172\n",
       "mini           158\n",
       "chrysler       138\n",
       "fiat           138\n",
       "chevrolet      129\n",
       "jaguar         105\n",
       "vaz             95\n",
       "dacia           91\n",
       "suzuki          83\n",
       "saab            65\n",
       "alfa-romeo      60\n",
       "dodge           53\n",
       "lancia          40\n",
       "others          36\n",
       "smart           33\n",
       "gaz             28\n",
       "infiniti        26\n",
       "cupra           25\n",
       "moskvich        17\n",
       "ssangyong       15\n",
       "cadillac        15\n",
       "uaz             12\n",
       "lincoln          9\n",
       "zaz              6\n",
       "hummer           5\n",
       "isuzu            5\n",
       "rover            4\n",
       "daewoo           2\n",
       "iz               1\n",
       "Name: count, dtype: int64"
      ]
     },
     "execution_count": 23,
     "metadata": {},
     "output_type": "execute_result"
    }
   ],
   "source": [
    "# let's create a brand column\n",
    "df['Brand'] = df['url'].apply(extract_brand)\n",
    "# value counts\n",
    "brand_counts = df['Brand'].value_counts()\n",
    "brand_counts"
   ]
  },
  {
   "cell_type": "code",
   "execution_count": 26,
   "metadata": {},
   "outputs": [
    {
     "data": {
      "text/plain": [
       "Price\n",
       "0.0        1473\n",
       "2500.0      228\n",
       "3500.0      226\n",
       "4500.0      203\n",
       "1500.0      201\n",
       "           ... \n",
       "1455.0        1\n",
       "34100.0       1\n",
       "8288.0        1\n",
       "22385.0       1\n",
       "830.0         1\n",
       "Name: count, Length: 2089, dtype: int64"
      ]
     },
     "execution_count": 26,
     "metadata": {},
     "output_type": "execute_result"
    }
   ],
   "source": [
    "# now let's extract price from Cena\n",
    "# we want to get rid of whitespace then comman and then Euro sign\n",
    "def extract_price(price):\n",
    "    if pd.isna(price):\n",
    "        return None\n",
    "    price = price.strip()\n",
    "    price = price.replace(\" \", \"\")\n",
    "    price = price.replace(\",\", \"\")\n",
    "    price = price.replace(\"€\", \"\")\n",
    "    # now try converting to float\n",
    "    try:\n",
    "        return float(price)\n",
    "    except ValueError:\n",
    "        return 0\n",
    "\n",
    "\n",
    "# let's create a price column\n",
    "df['Price'] = df['Cena'].apply(extract_price)\n",
    "# value counts\n",
    "price_counts = df['Price'].value_counts()\n",
    "price_counts"
   ]
  },
  {
   "cell_type": "code",
   "execution_count": 27,
   "metadata": {},
   "outputs": [
    {
     "data": {
      "text/plain": [
       "Km\n",
       "0.0         5176\n",
       "300000.0     194\n",
       "250000.0     165\n",
       "280000.0     148\n",
       "260000.0     144\n",
       "            ... \n",
       "2.8            1\n",
       "162.0          1\n",
       "2.4            1\n",
       "969000.0       1\n",
       "5.7            1\n",
       "Name: count, Length: 694, dtype: int64"
      ]
     },
     "execution_count": 27,
     "metadata": {},
     "output_type": "execute_result"
    }
   ],
   "source": [
    "# now let's create km column \n",
    "# we will use Nobrauk. column\n",
    "# we will replace km with empty string\n",
    "# we will replace tukst. with 000\n",
    "# we will replace whitespace with empty string\n",
    "def extract_km(km):\n",
    "    if pd.isna(km):\n",
    "        return None\n",
    "    km = km.replace(\"km\", \"\")\n",
    "    km = km.replace(\"tūkst.\", \"000\")\n",
    "    km = km.replace(\" \", \"\")\n",
    "    # now try converting to float\n",
    "    try:\n",
    "        return float(km)\n",
    "    except ValueError:\n",
    "        return 0\n",
    "    \n",
    "# let's create a km column\n",
    "df['Km'] = df['Nobrauk.'].apply(extract_km)\n",
    "# value counts\n",
    "km_counts = df['Km'].value_counts()\n",
    "km_counts"
   ]
  },
  {
   "cell_type": "code",
   "execution_count": 28,
   "metadata": {},
   "outputs": [
    {
     "data": {
      "text/plain": [
       "Year\n",
       "2007    1730\n",
       "2008    1626\n",
       "2011    1434\n",
       "2012    1368\n",
       "2006    1298\n",
       "        ... \n",
       "1956       1\n",
       "1965       1\n",
       "1968       1\n",
       "1967       1\n",
       "1936       1\n",
       "Name: count, Length: 70, dtype: int64"
      ]
     },
     "execution_count": 28,
     "metadata": {},
     "output_type": "execute_result"
    }
   ],
   "source": [
    "# let's create Year column from Gads column by converting to int\n",
    "def extract_year(year):\n",
    "    if pd.isna(year):\n",
    "        return None\n",
    "    # now try converting to int\n",
    "    try:\n",
    "        return int(year)\n",
    "    except ValueError:\n",
    "        return 0\n",
    "\n",
    "# let's create a year column\n",
    "df['Year'] = df['Gads'].apply(extract_year)\n",
    "# value counts\n",
    "year_counts = df['Year'].value_counts()\n",
    "year_counts"
   ]
  },
  {
   "cell_type": "code",
   "execution_count": 29,
   "metadata": {},
   "outputs": [
    {
     "name": "stdout",
     "output_type": "stream",
     "text": [
      "<class 'pandas.core.frame.DataFrame'>\n",
      "RangeIndex: 24611 entries, 0 to 24610\n",
      "Data columns (total 12 columns):\n",
      " #   Column       Non-Null Count  Dtype  \n",
      "---  ------       --------------  -----  \n",
      " 0   description  24611 non-null  object \n",
      " 1   url          24611 non-null  object \n",
      " 2   Modelis      24507 non-null  object \n",
      " 3   Gads         24611 non-null  object \n",
      " 4   Tilp.        24611 non-null  object \n",
      " 5   Nobrauk.     24611 non-null  object \n",
      " 6   Cena         24611 non-null  object \n",
      " 7   Marka        104 non-null    object \n",
      " 8   Brand        24611 non-null  object \n",
      " 9   Price        24611 non-null  float64\n",
      " 10  Km           24611 non-null  float64\n",
      " 11  Year         24611 non-null  int64  \n",
      "dtypes: float64(2), int64(1), object(9)\n",
      "memory usage: 2.3+ MB\n"
     ]
    }
   ],
   "source": [
    "# df info\n",
    "df.info()"
   ]
  },
  {
   "cell_type": "code",
   "execution_count": 31,
   "metadata": {},
   "outputs": [
    {
     "data": {
      "text/plain": [
       "count    24611.000000\n",
       "mean      1948.640242\n",
       "std        346.974225\n",
       "min          0.000000\n",
       "25%       2006.000000\n",
       "50%       2010.000000\n",
       "75%       2015.000000\n",
       "max       2024.000000\n",
       "Name: Year, dtype: float64"
      ]
     },
     "execution_count": 31,
     "metadata": {},
     "output_type": "execute_result"
    }
   ],
   "source": [
    "# describe years column\n",
    "df['Year'].describe()"
   ]
  },
  {
   "cell_type": "code",
   "execution_count": 32,
   "metadata": {},
   "outputs": [
    {
     "name": "stdout",
     "output_type": "stream",
     "text": [
      "Zero years: 756\n"
     ]
    }
   ],
   "source": [
    "# how many 0 years?\n",
    "zero_years = df[df['Year'] == 0].shape[0]\n",
    "print(f\"Zero years: {zero_years}\")"
   ]
  },
  {
   "cell_type": "code",
   "execution_count": 33,
   "metadata": {},
   "outputs": [
    {
     "data": {
      "application/vnd.plotly.v1+json": {
       "config": {
        "plotlyServerURL": "https://plot.ly"
       },
       "data": [
        {
         "alignmentgroup": "True",
         "hovertemplate": "Year=%{x}<br>Count=%{y}<extra></extra>",
         "legendgroup": "",
         "marker": {
          "color": "#636efa",
          "pattern": {
           "shape": ""
          }
         },
         "name": "",
         "offsetgroup": "",
         "orientation": "v",
         "showlegend": false,
         "textposition": "auto",
         "type": "bar",
         "x": [
          2007,
          2008,
          2011,
          2012,
          2006,
          2014,
          2009,
          2010,
          2013,
          2015,
          2016,
          2005,
          2018,
          2019,
          2017,
          2004,
          2020,
          2003,
          2002,
          2021,
          2022,
          2001,
          2023,
          2000,
          1999,
          2024,
          1998,
          1997,
          1996,
          1995,
          1994,
          1992,
          1990,
          1991,
          1993,
          1989,
          1988,
          1987,
          1986,
          1985,
          1983,
          1981,
          1984,
          1982,
          1978,
          1979,
          1975,
          1976,
          1974,
          1980,
          1970,
          1960,
          1977,
          1958,
          1954,
          1959,
          1972,
          1971,
          1969,
          1964,
          1938,
          1963,
          1962,
          1966,
          1956,
          1965,
          1968,
          1967,
          1936
         ],
         "xaxis": "x",
         "y": [
          1730,
          1626,
          1434,
          1368,
          1298,
          1260,
          1253,
          1247,
          1212,
          1109,
          1044,
          1007,
          942,
          942,
          920,
          833,
          577,
          553,
          453,
          436,
          340,
          319,
          296,
          271,
          206,
          186,
          152,
          128,
          95,
          88,
          63,
          51,
          47,
          44,
          41,
          37,
          37,
          36,
          28,
          21,
          15,
          11,
          11,
          10,
          8,
          8,
          8,
          7,
          5,
          5,
          4,
          4,
          4,
          3,
          3,
          2,
          2,
          2,
          2,
          2,
          1,
          1,
          1,
          1,
          1,
          1,
          1,
          1,
          1
         ],
         "yaxis": "y"
        }
       ],
       "layout": {
        "barmode": "relative",
        "legend": {
         "tracegroupgap": 0
        },
        "margin": {
         "t": 60
        },
        "template": {
         "data": {
          "bar": [
           {
            "error_x": {
             "color": "#2a3f5f"
            },
            "error_y": {
             "color": "#2a3f5f"
            },
            "marker": {
             "line": {
              "color": "#E5ECF6",
              "width": 0.5
             },
             "pattern": {
              "fillmode": "overlay",
              "size": 10,
              "solidity": 0.2
             }
            },
            "type": "bar"
           }
          ],
          "barpolar": [
           {
            "marker": {
             "line": {
              "color": "#E5ECF6",
              "width": 0.5
             },
             "pattern": {
              "fillmode": "overlay",
              "size": 10,
              "solidity": 0.2
             }
            },
            "type": "barpolar"
           }
          ],
          "carpet": [
           {
            "aaxis": {
             "endlinecolor": "#2a3f5f",
             "gridcolor": "white",
             "linecolor": "white",
             "minorgridcolor": "white",
             "startlinecolor": "#2a3f5f"
            },
            "baxis": {
             "endlinecolor": "#2a3f5f",
             "gridcolor": "white",
             "linecolor": "white",
             "minorgridcolor": "white",
             "startlinecolor": "#2a3f5f"
            },
            "type": "carpet"
           }
          ],
          "choropleth": [
           {
            "colorbar": {
             "outlinewidth": 0,
             "ticks": ""
            },
            "type": "choropleth"
           }
          ],
          "contour": [
           {
            "colorbar": {
             "outlinewidth": 0,
             "ticks": ""
            },
            "colorscale": [
             [
              0,
              "#0d0887"
             ],
             [
              0.1111111111111111,
              "#46039f"
             ],
             [
              0.2222222222222222,
              "#7201a8"
             ],
             [
              0.3333333333333333,
              "#9c179e"
             ],
             [
              0.4444444444444444,
              "#bd3786"
             ],
             [
              0.5555555555555556,
              "#d8576b"
             ],
             [
              0.6666666666666666,
              "#ed7953"
             ],
             [
              0.7777777777777778,
              "#fb9f3a"
             ],
             [
              0.8888888888888888,
              "#fdca26"
             ],
             [
              1,
              "#f0f921"
             ]
            ],
            "type": "contour"
           }
          ],
          "contourcarpet": [
           {
            "colorbar": {
             "outlinewidth": 0,
             "ticks": ""
            },
            "type": "contourcarpet"
           }
          ],
          "heatmap": [
           {
            "colorbar": {
             "outlinewidth": 0,
             "ticks": ""
            },
            "colorscale": [
             [
              0,
              "#0d0887"
             ],
             [
              0.1111111111111111,
              "#46039f"
             ],
             [
              0.2222222222222222,
              "#7201a8"
             ],
             [
              0.3333333333333333,
              "#9c179e"
             ],
             [
              0.4444444444444444,
              "#bd3786"
             ],
             [
              0.5555555555555556,
              "#d8576b"
             ],
             [
              0.6666666666666666,
              "#ed7953"
             ],
             [
              0.7777777777777778,
              "#fb9f3a"
             ],
             [
              0.8888888888888888,
              "#fdca26"
             ],
             [
              1,
              "#f0f921"
             ]
            ],
            "type": "heatmap"
           }
          ],
          "heatmapgl": [
           {
            "colorbar": {
             "outlinewidth": 0,
             "ticks": ""
            },
            "colorscale": [
             [
              0,
              "#0d0887"
             ],
             [
              0.1111111111111111,
              "#46039f"
             ],
             [
              0.2222222222222222,
              "#7201a8"
             ],
             [
              0.3333333333333333,
              "#9c179e"
             ],
             [
              0.4444444444444444,
              "#bd3786"
             ],
             [
              0.5555555555555556,
              "#d8576b"
             ],
             [
              0.6666666666666666,
              "#ed7953"
             ],
             [
              0.7777777777777778,
              "#fb9f3a"
             ],
             [
              0.8888888888888888,
              "#fdca26"
             ],
             [
              1,
              "#f0f921"
             ]
            ],
            "type": "heatmapgl"
           }
          ],
          "histogram": [
           {
            "marker": {
             "pattern": {
              "fillmode": "overlay",
              "size": 10,
              "solidity": 0.2
             }
            },
            "type": "histogram"
           }
          ],
          "histogram2d": [
           {
            "colorbar": {
             "outlinewidth": 0,
             "ticks": ""
            },
            "colorscale": [
             [
              0,
              "#0d0887"
             ],
             [
              0.1111111111111111,
              "#46039f"
             ],
             [
              0.2222222222222222,
              "#7201a8"
             ],
             [
              0.3333333333333333,
              "#9c179e"
             ],
             [
              0.4444444444444444,
              "#bd3786"
             ],
             [
              0.5555555555555556,
              "#d8576b"
             ],
             [
              0.6666666666666666,
              "#ed7953"
             ],
             [
              0.7777777777777778,
              "#fb9f3a"
             ],
             [
              0.8888888888888888,
              "#fdca26"
             ],
             [
              1,
              "#f0f921"
             ]
            ],
            "type": "histogram2d"
           }
          ],
          "histogram2dcontour": [
           {
            "colorbar": {
             "outlinewidth": 0,
             "ticks": ""
            },
            "colorscale": [
             [
              0,
              "#0d0887"
             ],
             [
              0.1111111111111111,
              "#46039f"
             ],
             [
              0.2222222222222222,
              "#7201a8"
             ],
             [
              0.3333333333333333,
              "#9c179e"
             ],
             [
              0.4444444444444444,
              "#bd3786"
             ],
             [
              0.5555555555555556,
              "#d8576b"
             ],
             [
              0.6666666666666666,
              "#ed7953"
             ],
             [
              0.7777777777777778,
              "#fb9f3a"
             ],
             [
              0.8888888888888888,
              "#fdca26"
             ],
             [
              1,
              "#f0f921"
             ]
            ],
            "type": "histogram2dcontour"
           }
          ],
          "mesh3d": [
           {
            "colorbar": {
             "outlinewidth": 0,
             "ticks": ""
            },
            "type": "mesh3d"
           }
          ],
          "parcoords": [
           {
            "line": {
             "colorbar": {
              "outlinewidth": 0,
              "ticks": ""
             }
            },
            "type": "parcoords"
           }
          ],
          "pie": [
           {
            "automargin": true,
            "type": "pie"
           }
          ],
          "scatter": [
           {
            "fillpattern": {
             "fillmode": "overlay",
             "size": 10,
             "solidity": 0.2
            },
            "type": "scatter"
           }
          ],
          "scatter3d": [
           {
            "line": {
             "colorbar": {
              "outlinewidth": 0,
              "ticks": ""
             }
            },
            "marker": {
             "colorbar": {
              "outlinewidth": 0,
              "ticks": ""
             }
            },
            "type": "scatter3d"
           }
          ],
          "scattercarpet": [
           {
            "marker": {
             "colorbar": {
              "outlinewidth": 0,
              "ticks": ""
             }
            },
            "type": "scattercarpet"
           }
          ],
          "scattergeo": [
           {
            "marker": {
             "colorbar": {
              "outlinewidth": 0,
              "ticks": ""
             }
            },
            "type": "scattergeo"
           }
          ],
          "scattergl": [
           {
            "marker": {
             "colorbar": {
              "outlinewidth": 0,
              "ticks": ""
             }
            },
            "type": "scattergl"
           }
          ],
          "scattermapbox": [
           {
            "marker": {
             "colorbar": {
              "outlinewidth": 0,
              "ticks": ""
             }
            },
            "type": "scattermapbox"
           }
          ],
          "scatterpolar": [
           {
            "marker": {
             "colorbar": {
              "outlinewidth": 0,
              "ticks": ""
             }
            },
            "type": "scatterpolar"
           }
          ],
          "scatterpolargl": [
           {
            "marker": {
             "colorbar": {
              "outlinewidth": 0,
              "ticks": ""
             }
            },
            "type": "scatterpolargl"
           }
          ],
          "scatterternary": [
           {
            "marker": {
             "colorbar": {
              "outlinewidth": 0,
              "ticks": ""
             }
            },
            "type": "scatterternary"
           }
          ],
          "surface": [
           {
            "colorbar": {
             "outlinewidth": 0,
             "ticks": ""
            },
            "colorscale": [
             [
              0,
              "#0d0887"
             ],
             [
              0.1111111111111111,
              "#46039f"
             ],
             [
              0.2222222222222222,
              "#7201a8"
             ],
             [
              0.3333333333333333,
              "#9c179e"
             ],
             [
              0.4444444444444444,
              "#bd3786"
             ],
             [
              0.5555555555555556,
              "#d8576b"
             ],
             [
              0.6666666666666666,
              "#ed7953"
             ],
             [
              0.7777777777777778,
              "#fb9f3a"
             ],
             [
              0.8888888888888888,
              "#fdca26"
             ],
             [
              1,
              "#f0f921"
             ]
            ],
            "type": "surface"
           }
          ],
          "table": [
           {
            "cells": {
             "fill": {
              "color": "#EBF0F8"
             },
             "line": {
              "color": "white"
             }
            },
            "header": {
             "fill": {
              "color": "#C8D4E3"
             },
             "line": {
              "color": "white"
             }
            },
            "type": "table"
           }
          ]
         },
         "layout": {
          "annotationdefaults": {
           "arrowcolor": "#2a3f5f",
           "arrowhead": 0,
           "arrowwidth": 1
          },
          "autotypenumbers": "strict",
          "coloraxis": {
           "colorbar": {
            "outlinewidth": 0,
            "ticks": ""
           }
          },
          "colorscale": {
           "diverging": [
            [
             0,
             "#8e0152"
            ],
            [
             0.1,
             "#c51b7d"
            ],
            [
             0.2,
             "#de77ae"
            ],
            [
             0.3,
             "#f1b6da"
            ],
            [
             0.4,
             "#fde0ef"
            ],
            [
             0.5,
             "#f7f7f7"
            ],
            [
             0.6,
             "#e6f5d0"
            ],
            [
             0.7,
             "#b8e186"
            ],
            [
             0.8,
             "#7fbc41"
            ],
            [
             0.9,
             "#4d9221"
            ],
            [
             1,
             "#276419"
            ]
           ],
           "sequential": [
            [
             0,
             "#0d0887"
            ],
            [
             0.1111111111111111,
             "#46039f"
            ],
            [
             0.2222222222222222,
             "#7201a8"
            ],
            [
             0.3333333333333333,
             "#9c179e"
            ],
            [
             0.4444444444444444,
             "#bd3786"
            ],
            [
             0.5555555555555556,
             "#d8576b"
            ],
            [
             0.6666666666666666,
             "#ed7953"
            ],
            [
             0.7777777777777778,
             "#fb9f3a"
            ],
            [
             0.8888888888888888,
             "#fdca26"
            ],
            [
             1,
             "#f0f921"
            ]
           ],
           "sequentialminus": [
            [
             0,
             "#0d0887"
            ],
            [
             0.1111111111111111,
             "#46039f"
            ],
            [
             0.2222222222222222,
             "#7201a8"
            ],
            [
             0.3333333333333333,
             "#9c179e"
            ],
            [
             0.4444444444444444,
             "#bd3786"
            ],
            [
             0.5555555555555556,
             "#d8576b"
            ],
            [
             0.6666666666666666,
             "#ed7953"
            ],
            [
             0.7777777777777778,
             "#fb9f3a"
            ],
            [
             0.8888888888888888,
             "#fdca26"
            ],
            [
             1,
             "#f0f921"
            ]
           ]
          },
          "colorway": [
           "#636efa",
           "#EF553B",
           "#00cc96",
           "#ab63fa",
           "#FFA15A",
           "#19d3f3",
           "#FF6692",
           "#B6E880",
           "#FF97FF",
           "#FECB52"
          ],
          "font": {
           "color": "#2a3f5f"
          },
          "geo": {
           "bgcolor": "white",
           "lakecolor": "white",
           "landcolor": "#E5ECF6",
           "showlakes": true,
           "showland": true,
           "subunitcolor": "white"
          },
          "hoverlabel": {
           "align": "left"
          },
          "hovermode": "closest",
          "mapbox": {
           "style": "light"
          },
          "paper_bgcolor": "white",
          "plot_bgcolor": "#E5ECF6",
          "polar": {
           "angularaxis": {
            "gridcolor": "white",
            "linecolor": "white",
            "ticks": ""
           },
           "bgcolor": "#E5ECF6",
           "radialaxis": {
            "gridcolor": "white",
            "linecolor": "white",
            "ticks": ""
           }
          },
          "scene": {
           "xaxis": {
            "backgroundcolor": "#E5ECF6",
            "gridcolor": "white",
            "gridwidth": 2,
            "linecolor": "white",
            "showbackground": true,
            "ticks": "",
            "zerolinecolor": "white"
           },
           "yaxis": {
            "backgroundcolor": "#E5ECF6",
            "gridcolor": "white",
            "gridwidth": 2,
            "linecolor": "white",
            "showbackground": true,
            "ticks": "",
            "zerolinecolor": "white"
           },
           "zaxis": {
            "backgroundcolor": "#E5ECF6",
            "gridcolor": "white",
            "gridwidth": 2,
            "linecolor": "white",
            "showbackground": true,
            "ticks": "",
            "zerolinecolor": "white"
           }
          },
          "shapedefaults": {
           "line": {
            "color": "#2a3f5f"
           }
          },
          "ternary": {
           "aaxis": {
            "gridcolor": "white",
            "linecolor": "white",
            "ticks": ""
           },
           "baxis": {
            "gridcolor": "white",
            "linecolor": "white",
            "ticks": ""
           },
           "bgcolor": "#E5ECF6",
           "caxis": {
            "gridcolor": "white",
            "linecolor": "white",
            "ticks": ""
           }
          },
          "title": {
           "x": 0.05
          },
          "xaxis": {
           "automargin": true,
           "gridcolor": "white",
           "linecolor": "white",
           "ticks": "",
           "title": {
            "standoff": 15
           },
           "zerolinecolor": "white",
           "zerolinewidth": 2
          },
          "yaxis": {
           "automargin": true,
           "gridcolor": "white",
           "linecolor": "white",
           "ticks": "",
           "title": {
            "standoff": 15
           },
           "zerolinecolor": "white",
           "zerolinewidth": 2
          }
         }
        },
        "title": {
         "text": "Value counts of years"
        },
        "xaxis": {
         "anchor": "y",
         "domain": [
          0,
          1
         ],
         "title": {
          "text": "Year"
         }
        },
        "yaxis": {
         "anchor": "x",
         "domain": [
          0,
          1
         ],
         "title": {
          "text": "Count"
         }
        }
       }
      }
     },
     "metadata": {},
     "output_type": "display_data"
    }
   ],
   "source": [
    "# let's plot value counts of years\n",
    "# ignore zero years\n",
    "year_counts = year_counts[year_counts.index != 0]\n",
    "fig = px.bar(year_counts, x=year_counts.index, y=year_counts.values, labels={'x': 'Year', 'y': 'Count'})\n",
    "fig.update_layout(title_text='Value counts of years')\n",
    "fig.show()"
   ]
  },
  {
   "cell_type": "code",
   "execution_count": 34,
   "metadata": {},
   "outputs": [],
   "source": [
    "# let us save the cleaned dataframe\n",
    "cleaned_parquet = parquet_folder / \"cleaned_cars.parquet\"\n",
    "df.to_parquet(cleaned_parquet)\n"
   ]
  }
 ],
 "metadata": {
  "kernelspec": {
   "display_name": "venv312",
   "language": "python",
   "name": "python3"
  },
  "language_info": {
   "codemirror_mode": {
    "name": "ipython",
    "version": 3
   },
   "file_extension": ".py",
   "mimetype": "text/x-python",
   "name": "python",
   "nbconvert_exporter": "python",
   "pygments_lexer": "ipython3",
   "version": "3.12.3"
  }
 },
 "nbformat": 4,
 "nbformat_minor": 2
}
