{
 "cells": [
  {
   "cell_type": "markdown",
   "metadata": {},
   "source": [
    "# Exploring Car Data with Pandas"
   ]
  },
  {
   "cell_type": "code",
   "execution_count": 1,
   "metadata": {},
   "outputs": [
    {
     "name": "stdout",
     "output_type": "stream",
     "text": [
      "Python version: 3.12.3 (tags/v3.12.3:f6650f9, Apr  9 2024, 14:05:25) [MSC v.1938 64 bit (AMD64)]\n",
      "Pandas version: 2.2.2\n",
      "Plotly version: 5.22.0\n"
     ]
    }
   ],
   "source": [
    "# now that we have scraped data we want to clean and process it\n",
    "# afterwards we will want to generate some statistics and visualizations\n",
    "\n",
    "# first let's load libraries \n",
    "\n",
    "# first standard libraries\n",
    "# python version\n",
    "import sys\n",
    "print(f\"Python version: {sys.version}\")\n",
    "from pathlib import Path\n",
    "from datetime import datetime\n",
    "import re\n",
    "\n",
    "# data manipulation\n",
    "import pandas as pd\n",
    "print(f\"Pandas version: {pd.__version__}\")\n",
    "\n",
    "# visualization with plotly\n",
    "import plotly\n",
    "import plotly.express as px\n",
    "import plotly.graph_objects as go\n",
    "# version\n",
    "print(f\"Plotly version: {plotly.__version__}\")"
   ]
  },
  {
   "cell_type": "code",
   "execution_count": 2,
   "metadata": {},
   "outputs": [],
   "source": [
    "parquet_folder = Path(\"../data/parquet\")\n",
    "assert parquet_folder.exists(), \"Parquet folder does not exist\""
   ]
  },
  {
   "cell_type": "code",
   "execution_count": 5,
   "metadata": {},
   "outputs": [
    {
     "name": "stdout",
     "output_type": "stream",
     "text": [
      "Found 1 parquet files\n",
      "Latest parquet file: ..\\data\\parquet\\all_cars.parquet\n",
      "Dataframe shape: (24611, 8)\n",
      "Dataframe columns: Index(['description', 'url', 'Modelis', 'Gads', 'Tilp.', 'Nobrauk.', 'Cena',\n",
      "       'Marka'],\n",
      "      dtype='object')\n"
     ]
    },
    {
     "data": {
      "text/html": [
       "<div>\n",
       "<style scoped>\n",
       "    .dataframe tbody tr th:only-of-type {\n",
       "        vertical-align: middle;\n",
       "    }\n",
       "\n",
       "    .dataframe tbody tr th {\n",
       "        vertical-align: top;\n",
       "    }\n",
       "\n",
       "    .dataframe thead th {\n",
       "        text-align: right;\n",
       "    }\n",
       "</style>\n",
       "<table border=\"1\" class=\"dataframe\">\n",
       "  <thead>\n",
       "    <tr style=\"text-align: right;\">\n",
       "      <th></th>\n",
       "      <th>description</th>\n",
       "      <th>url</th>\n",
       "      <th>Modelis</th>\n",
       "      <th>Gads</th>\n",
       "      <th>Tilp.</th>\n",
       "      <th>Nobrauk.</th>\n",
       "      <th>Cena</th>\n",
       "      <th>Marka</th>\n",
       "    </tr>\n",
       "  </thead>\n",
       "  <tbody>\n",
       "    <tr>\n",
       "      <th>0</th>\n",
       "      <td>1.9 88kw. Labā tehniskā un vizuāla stāvoklī. Ļ...</td>\n",
       "      <td>https://ss.com/msg/lv/transport/cars/alfa-rome...</td>\n",
       "      <td>159</td>\n",
       "      <td>2008</td>\n",
       "      <td>1.9D</td>\n",
       "      <td>-</td>\n",
       "      <td>1,550  €</td>\n",
       "      <td>None</td>\n",
       "    </tr>\n",
       "    <tr>\n",
       "      <th>1</th>\n",
       "      <td>Pārdodu vāciešu alfa romeo 1.9 Jtd tehniski la...</td>\n",
       "      <td>https://ss.com/msg/lv/transport/cars/alfa-rome...</td>\n",
       "      <td>159</td>\n",
       "      <td>2009</td>\n",
       "      <td>1.9D</td>\n",
       "      <td>177 tūkst.</td>\n",
       "      <td>2,900  €</td>\n",
       "      <td>None</td>\n",
       "    </tr>\n",
       "    <tr>\n",
       "      <th>2</th>\n",
       "      <td>Alfa Romeo Stelvio\\r\\n2.2 dīzeļdzinējs\\r\\nAuto...</td>\n",
       "      <td>https://ss.com/msg/lv/transport/cars/alfa-rome...</td>\n",
       "      <td>Stelvio</td>\n",
       "      <td>2017</td>\n",
       "      <td>2.2D</td>\n",
       "      <td>158 tūkst.</td>\n",
       "      <td>16,990  €</td>\n",
       "      <td>None</td>\n",
       "    </tr>\n",
       "    <tr>\n",
       "      <th>3</th>\n",
       "      <td>Alfa Romeo Mito 1.3Jtdm 95Hp, \"Distinctive\" ap...</td>\n",
       "      <td>https://ss.com/msg/lv/transport/cars/alfa-rome...</td>\n",
       "      <td>Citi</td>\n",
       "      <td>2011</td>\n",
       "      <td>1.3D</td>\n",
       "      <td>175 tūkst.</td>\n",
       "      <td>3,900  €</td>\n",
       "      <td>None</td>\n",
       "    </tr>\n",
       "    <tr>\n",
       "      <th>4</th>\n",
       "      <td>Alfa romeo 147. Automāts 2.0benzīns ekonomisks...</td>\n",
       "      <td>https://ss.com/msg/lv/transport/cars/alfa-rome...</td>\n",
       "      <td>147</td>\n",
       "      <td>2004</td>\n",
       "      <td>2.0</td>\n",
       "      <td>-</td>\n",
       "      <td>1,499  €</td>\n",
       "      <td>None</td>\n",
       "    </tr>\n",
       "  </tbody>\n",
       "</table>\n",
       "</div>"
      ],
      "text/plain": [
       "                                         description  \\\n",
       "0  1.9 88kw. Labā tehniskā un vizuāla stāvoklī. Ļ...   \n",
       "1  Pārdodu vāciešu alfa romeo 1.9 Jtd tehniski la...   \n",
       "2  Alfa Romeo Stelvio\\r\\n2.2 dīzeļdzinējs\\r\\nAuto...   \n",
       "3  Alfa Romeo Mito 1.3Jtdm 95Hp, \"Distinctive\" ap...   \n",
       "4  Alfa romeo 147. Automāts 2.0benzīns ekonomisks...   \n",
       "\n",
       "                                                 url  Modelis  Gads Tilp.  \\\n",
       "0  https://ss.com/msg/lv/transport/cars/alfa-rome...      159  2008  1.9D   \n",
       "1  https://ss.com/msg/lv/transport/cars/alfa-rome...      159  2009  1.9D   \n",
       "2  https://ss.com/msg/lv/transport/cars/alfa-rome...  Stelvio  2017  2.2D   \n",
       "3  https://ss.com/msg/lv/transport/cars/alfa-rome...     Citi  2011  1.3D   \n",
       "4  https://ss.com/msg/lv/transport/cars/alfa-rome...      147  2004   2.0   \n",
       "\n",
       "     Nobrauk.       Cena Marka  \n",
       "0           -   1,550  €  None  \n",
       "1  177 tūkst.   2,900  €  None  \n",
       "2  158 tūkst.  16,990  €  None  \n",
       "3  175 tūkst.   3,900  €  None  \n",
       "4           -   1,499  €  None  "
      ]
     },
     "metadata": {},
     "output_type": "display_data"
    }
   ],
   "source": [
    "parquet_files = list(parquet_folder.glob(\"*.parquet\"))\n",
    "print(f\"Found {len(parquet_files)} parquet files\")\n",
    "# if we have at least one get the latest\n",
    "# sort by modification time and get the last one\n",
    "parquet_files = sorted(parquet_files, key=lambda x: x.stat().st_mtime)\n",
    "\n",
    "if len(parquet_files) > 0:\n",
    "    latest_parquet = parquet_files[-1]\n",
    "    print(f\"Latest parquet file: {latest_parquet}\")\n",
    "    # read the parquet file\n",
    "    df = pd.read_parquet(latest_parquet)\n",
    "    print(f\"Dataframe shape: {df.shape}\")\n",
    "    print(f\"Dataframe columns: {df.columns}\")\n",
    "    display(df.head())\n",
    "else:\n",
    "    print(\"No parquet files found, please run the scraping notebook first\")"
   ]
  },
  {
   "cell_type": "code",
   "execution_count": 6,
   "metadata": {},
   "outputs": [
    {
     "data": {
      "text/html": [
       "<style type=\"text/css\">\n",
       "</style>\n",
       "<table id=\"T_a4e99\">\n",
       "  <thead>\n",
       "    <tr>\n",
       "      <th class=\"blank level0\" >&nbsp;</th>\n",
       "      <th id=\"T_a4e99_level0_col0\" class=\"col_heading level0 col0\" >description</th>\n",
       "      <th id=\"T_a4e99_level0_col1\" class=\"col_heading level0 col1\" >url</th>\n",
       "      <th id=\"T_a4e99_level0_col2\" class=\"col_heading level0 col2\" >Modelis</th>\n",
       "      <th id=\"T_a4e99_level0_col3\" class=\"col_heading level0 col3\" >Gads</th>\n",
       "      <th id=\"T_a4e99_level0_col4\" class=\"col_heading level0 col4\" >Tilp.</th>\n",
       "      <th id=\"T_a4e99_level0_col5\" class=\"col_heading level0 col5\" >Nobrauk.</th>\n",
       "      <th id=\"T_a4e99_level0_col6\" class=\"col_heading level0 col6\" >Cena</th>\n",
       "      <th id=\"T_a4e99_level0_col7\" class=\"col_heading level0 col7\" >Marka</th>\n",
       "    </tr>\n",
       "  </thead>\n",
       "  <tbody>\n",
       "    <tr>\n",
       "      <th id=\"T_a4e99_level0_row0\" class=\"row_heading level0 row0\" >0</th>\n",
       "      <td id=\"T_a4e99_row0_col0\" class=\"data row0 col0\" >1.9 88kw. Labā tehniskā un vizuāla stāvoklī. Ļoti labas vissezonas riepas uz</td>\n",
       "      <td id=\"T_a4e99_row0_col1\" class=\"data row0 col1\" ><a target=\"_blank\" href=\"https://ss.com/msg/lv/transport/cars/alfa-romeo/159/gnhhf.html\">https://ss.com/msg/lv/transport/cars/alfa-romeo/159/gnhhf.html</a></td>\n",
       "      <td id=\"T_a4e99_row0_col2\" class=\"data row0 col2\" >159</td>\n",
       "      <td id=\"T_a4e99_row0_col3\" class=\"data row0 col3\" >2008</td>\n",
       "      <td id=\"T_a4e99_row0_col4\" class=\"data row0 col4\" >1.9D</td>\n",
       "      <td id=\"T_a4e99_row0_col5\" class=\"data row0 col5\" >-</td>\n",
       "      <td id=\"T_a4e99_row0_col6\" class=\"data row0 col6\" >1,550  €</td>\n",
       "      <td id=\"T_a4e99_row0_col7\" class=\"data row0 col7\" >None</td>\n",
       "    </tr>\n",
       "    <tr>\n",
       "      <th id=\"T_a4e99_level0_row1\" class=\"row_heading level0 row1\" >1</th>\n",
       "      <td id=\"T_a4e99_row1_col0\" class=\"data row1 col0\" >Pārdodu vāciešu alfa romeo 1.9 Jtd tehniski labā stāvoklī ar dažiem vizuālie</td>\n",
       "      <td id=\"T_a4e99_row1_col1\" class=\"data row1 col1\" ><a target=\"_blank\" href=\"https://ss.com/msg/lv/transport/cars/alfa-romeo/159/cdocni.html\">https://ss.com/msg/lv/transport/cars/alfa-romeo/159/cdocni.html</a></td>\n",
       "      <td id=\"T_a4e99_row1_col2\" class=\"data row1 col2\" >159</td>\n",
       "      <td id=\"T_a4e99_row1_col3\" class=\"data row1 col3\" >2009</td>\n",
       "      <td id=\"T_a4e99_row1_col4\" class=\"data row1 col4\" >1.9D</td>\n",
       "      <td id=\"T_a4e99_row1_col5\" class=\"data row1 col5\" >177 tūkst.</td>\n",
       "      <td id=\"T_a4e99_row1_col6\" class=\"data row1 col6\" >2,900  €</td>\n",
       "      <td id=\"T_a4e99_row1_col7\" class=\"data row1 col7\" >None</td>\n",
       "    </tr>\n",
       "    <tr>\n",
       "      <th id=\"T_a4e99_level0_row2\" class=\"row_heading level0 row2\" >2</th>\n",
       "      <td id=\"T_a4e99_row2_col0\" class=\"data row2 col0\" >Alfa Romeo Stelvio\r\n",
       "2.2 dīzeļdzinējs\r\n",
       "Automātiskā 8 pakāpju ātrumkārba\r\n",
       "Park</td>\n",
       "      <td id=\"T_a4e99_row2_col1\" class=\"data row2 col1\" ><a target=\"_blank\" href=\"https://ss.com/msg/lv/transport/cars/alfa-romeo/stelvio/cdxnhe.html\">https://ss.com/msg/lv/transport/cars/alfa-romeo/stelvio/cdxnhe.html</a></td>\n",
       "      <td id=\"T_a4e99_row2_col2\" class=\"data row2 col2\" >Stelvio</td>\n",
       "      <td id=\"T_a4e99_row2_col3\" class=\"data row2 col3\" >2017</td>\n",
       "      <td id=\"T_a4e99_row2_col4\" class=\"data row2 col4\" >2.2D</td>\n",
       "      <td id=\"T_a4e99_row2_col5\" class=\"data row2 col5\" >158 tūkst.</td>\n",
       "      <td id=\"T_a4e99_row2_col6\" class=\"data row2 col6\" >16,990  €</td>\n",
       "      <td id=\"T_a4e99_row2_col7\" class=\"data row2 col7\" >None</td>\n",
       "    </tr>\n",
       "    <tr>\n",
       "      <th id=\"T_a4e99_level0_row3\" class=\"row_heading level0 row3\" >3</th>\n",
       "      <td id=\"T_a4e99_row3_col0\" class=\"data row3 col0\" >Alfa Romeo Mito 1.3Jtdm 95Hp, \"Distinctive\" aprīkojuma līmenis, \"Blu Tornado</td>\n",
       "      <td id=\"T_a4e99_row3_col1\" class=\"data row3 col1\" ><a target=\"_blank\" href=\"https://ss.com/msg/lv/transport/cars/alfa-romeo/another/nbcxd.html\">https://ss.com/msg/lv/transport/cars/alfa-romeo/another/nbcxd.html</a></td>\n",
       "      <td id=\"T_a4e99_row3_col2\" class=\"data row3 col2\" >Citi</td>\n",
       "      <td id=\"T_a4e99_row3_col3\" class=\"data row3 col3\" >2011</td>\n",
       "      <td id=\"T_a4e99_row3_col4\" class=\"data row3 col4\" >1.3D</td>\n",
       "      <td id=\"T_a4e99_row3_col5\" class=\"data row3 col5\" >175 tūkst.</td>\n",
       "      <td id=\"T_a4e99_row3_col6\" class=\"data row3 col6\" >3,900  €</td>\n",
       "      <td id=\"T_a4e99_row3_col7\" class=\"data row3 col7\" >None</td>\n",
       "    </tr>\n",
       "    <tr>\n",
       "      <th id=\"T_a4e99_level0_row4\" class=\"row_heading level0 row4\" >4</th>\n",
       "      <td id=\"T_a4e99_row4_col0\" class=\"data row4 col0\" >Alfa romeo 147. Automāts 2.0benzīns ekonomisks 5-6L 100/km, laba komplektāci</td>\n",
       "      <td id=\"T_a4e99_row4_col1\" class=\"data row4 col1\" ><a target=\"_blank\" href=\"https://ss.com/msg/lv/transport/cars/alfa-romeo/147/lpoec.html\">https://ss.com/msg/lv/transport/cars/alfa-romeo/147/lpoec.html</a></td>\n",
       "      <td id=\"T_a4e99_row4_col2\" class=\"data row4 col2\" >147</td>\n",
       "      <td id=\"T_a4e99_row4_col3\" class=\"data row4 col3\" >2004</td>\n",
       "      <td id=\"T_a4e99_row4_col4\" class=\"data row4 col4\" >2.0</td>\n",
       "      <td id=\"T_a4e99_row4_col5\" class=\"data row4 col5\" >-</td>\n",
       "      <td id=\"T_a4e99_row4_col6\" class=\"data row4 col6\" >1,499  €</td>\n",
       "      <td id=\"T_a4e99_row4_col7\" class=\"data row4 col7\" >None</td>\n",
       "    </tr>\n",
       "  </tbody>\n",
       "</table>\n"
      ],
      "text/plain": [
       "<pandas.io.formats.style.Styler at 0x1a838afb6e0>"
      ]
     },
     "execution_count": 6,
     "metadata": {},
     "output_type": "execute_result"
    }
   ],
   "source": [
    "def make_clickable(val):\n",
    "    # target _blank to open new window\n",
    "    return '<a target=\"_blank\" href=\"{}\">{}</a>'.format(val, val)\n",
    "\n",
    "df.head().style.format({'url': make_clickable})"
   ]
  },
  {
   "cell_type": "code",
   "execution_count": 8,
   "metadata": {},
   "outputs": [
    {
     "name": "stdout",
     "output_type": "stream",
     "text": [
      "Unique models: 865\n"
     ]
    }
   ],
   "source": [
    "# unique Models\n",
    "models = df['Modelis'].unique()\n",
    "print(f\"Unique models: {len(models)}\")"
   ]
  },
  {
   "cell_type": "code",
   "execution_count": 14,
   "metadata": {},
   "outputs": [
    {
     "name": "stdout",
     "output_type": "stream",
     "text": [
      "Unique brands: 62\n",
      "['', '-', 'Austin', 'CadillacCiti', 'CadillacDE Ville', 'CadillacEldorado', 'CadillacEscalade', 'CadillacSRX', 'CadillacSeville', 'Chevrolet Chev', 'DaewooKalos', 'DaewooLanos', 'Daihatsu', 'Geely ck', 'Gmc', 'HummerH2', 'HummerH3', 'Hyundai', 'IsuzuCiti', 'IsuzuPick Up', 'IsuzuTrooper', 'Iž kombi', 'IžKombi', 'Karma revero', 'Levc tx', 'Levc vn5', 'Lincoln', 'LincolnMark', 'LincolnNavigator', 'LincolnTown Car', 'Linkoln', 'Malagutti', 'Man', 'Maserati', 'Mazda B2500', 'Metallolom', 'Mg zt-t', 'Ora', 'Rl1100', 'Rover', 'Rover416', 'Rover75', 'Smz', 'Ssang yong', 'SsangYongActyon', 'SsangYongCiti', 'SsangYongKorando', 'SsangYongRexton', 'Styer', 'Tesla', 'Uaz hunter', 'Uaz3151', 'Uaz3303', 'Uaz452', 'Uaz469', 'Vissi', 'Yamaha', 'Zaz', 'Zaz1102', 'Zaz965', 'Zaz966', 'Zaz968']\n"
     ]
    }
   ],
   "source": [
    "# unique Marka\n",
    "brands = df['Marka'].unique()\n",
    "print(f\"Unique brands: {len(brands)}\")\n",
    "# print all brands sorted\n",
    "# convert NoneType to empty string\n",
    "brands = [\"\" if pd.isna(b) else b for b in brands]\n",
    "brands = sorted(brands)\n",
    "print(brands)"
   ]
  },
  {
   "cell_type": "code",
   "execution_count": 16,
   "metadata": {},
   "outputs": [
    {
     "data": {
      "text/plain": [
       "Marka\n",
       "SsangYongRexton     7\n",
       "CadillacEscalade    7\n",
       "Uaz469              6\n",
       "LincolnTown Car     5\n",
       "Uaz452              4\n",
       "                   ..\n",
       "DaewooKalos         1\n",
       "DaewooLanos         1\n",
       "Zaz965              1\n",
       "Ora                 1\n",
       "Zaz966              1\n",
       "Name: count, Length: 61, dtype: int64"
      ]
     },
     "execution_count": 16,
     "metadata": {},
     "output_type": "execute_result"
    }
   ],
   "source": [
    "# value counts of brands\n",
    "brand_counts = df['Marka'].value_counts()\n",
    "brand_counts"
   ]
  },
  {
   "cell_type": "code",
   "execution_count": 18,
   "metadata": {},
   "outputs": [
    {
     "name": "stdout",
     "output_type": "stream",
     "text": [
      "None brands: 24507\n"
     ]
    }
   ],
   "source": [
    "# How many are none?\n",
    "none_brands = df['Marka'].isnull().sum()\n",
    "print(f\"None brands: {none_brands}\")"
   ]
  },
  {
   "cell_type": "code",
   "execution_count": 22,
   "metadata": {},
   "outputs": [],
   "source": [
    "# let's create a function that extracts brand from url\n",
    "# brand comes after cars/ and before next /\n",
    "def extract_brand(url):\n",
    "    if pd.isna(url):\n",
    "        return None\n",
    "    match = re.search(r\"cars/(.*?)/\", url)\n",
    "    if match:\n",
    "        return match.group(1)\n",
    "    else:\n",
    "        return None"
   ]
  },
  {
   "cell_type": "code",
   "execution_count": 23,
   "metadata": {},
   "outputs": [
    {
     "data": {
      "text/plain": [
       "Brand\n",
       "bmw           3748\n",
       "volkswagen    3186\n",
       "audi          2538\n",
       "volvo         2310\n",
       "mercedes      1594\n",
       "toyota        1421\n",
       "opel          1396\n",
       "ford          1000\n",
       "renault        739\n",
       "skoda          654\n",
       "nissan         632\n",
       "peugeot        600\n",
       "citroen        447\n",
       "hyundai        440\n",
       "honda          358\n",
       "kia            313\n",
       "land-rover     304\n",
       "lexus          275\n",
       "mitsubishi     258\n",
       "mazda          249\n",
       "seat           214\n",
       "porsche        194\n",
       "subaru         175\n",
       "jeep           172\n",
       "mini           158\n",
       "chrysler       138\n",
       "fiat           138\n",
       "chevrolet      129\n",
       "jaguar         105\n",
       "vaz             95\n",
       "dacia           91\n",
       "suzuki          83\n",
       "saab            65\n",
       "alfa-romeo      60\n",
       "dodge           53\n",
       "lancia          40\n",
       "others          36\n",
       "smart           33\n",
       "gaz             28\n",
       "infiniti        26\n",
       "cupra           25\n",
       "moskvich        17\n",
       "ssangyong       15\n",
       "cadillac        15\n",
       "uaz             12\n",
       "lincoln          9\n",
       "zaz              6\n",
       "hummer           5\n",
       "isuzu            5\n",
       "rover            4\n",
       "daewoo           2\n",
       "iz               1\n",
       "Name: count, dtype: int64"
      ]
     },
     "execution_count": 23,
     "metadata": {},
     "output_type": "execute_result"
    }
   ],
   "source": [
    "# let's create a brand column\n",
    "df['Brand'] = df['url'].apply(extract_brand)\n",
    "# value counts\n",
    "brand_counts = df['Brand'].value_counts()\n",
    "brand_counts"
   ]
  },
  {
   "cell_type": "code",
   "execution_count": 26,
   "metadata": {},
   "outputs": [
    {
     "data": {
      "text/plain": [
       "Price\n",
       "0.0        1473\n",
       "2500.0      228\n",
       "3500.0      226\n",
       "4500.0      203\n",
       "1500.0      201\n",
       "           ... \n",
       "1455.0        1\n",
       "34100.0       1\n",
       "8288.0        1\n",
       "22385.0       1\n",
       "830.0         1\n",
       "Name: count, Length: 2089, dtype: int64"
      ]
     },
     "execution_count": 26,
     "metadata": {},
     "output_type": "execute_result"
    }
   ],
   "source": [
    "# now let's extract price from Cena\n",
    "# we want to get rid of whitespace then comman and then Euro sign\n",
    "def extract_price(price):\n",
    "    if pd.isna(price):\n",
    "        return None\n",
    "    price = price.strip()\n",
    "    price = price.replace(\" \", \"\")\n",
    "    price = price.replace(\",\", \"\")\n",
    "    price = price.replace(\"€\", \"\")\n",
    "    # now try converting to float\n",
    "    try:\n",
    "        return float(price)\n",
    "    except ValueError:\n",
    "        return 0\n",
    "\n",
    "\n",
    "# let's create a price column\n",
    "df['Price'] = df['Cena'].apply(extract_price)\n",
    "# value counts\n",
    "price_counts = df['Price'].value_counts()\n",
    "price_counts"
   ]
  },
  {
   "cell_type": "code",
   "execution_count": 27,
   "metadata": {},
   "outputs": [
    {
     "data": {
      "text/plain": [
       "Km\n",
       "0.0         5176\n",
       "300000.0     194\n",
       "250000.0     165\n",
       "280000.0     148\n",
       "260000.0     144\n",
       "            ... \n",
       "2.8            1\n",
       "162.0          1\n",
       "2.4            1\n",
       "969000.0       1\n",
       "5.7            1\n",
       "Name: count, Length: 694, dtype: int64"
      ]
     },
     "execution_count": 27,
     "metadata": {},
     "output_type": "execute_result"
    }
   ],
   "source": [
    "# now let's create km column \n",
    "# we will use Nobrauk. column\n",
    "# we will replace km with empty string\n",
    "# we will replace tukst. with 000\n",
    "# we will replace whitespace with empty string\n",
    "def extract_km(km):\n",
    "    if pd.isna(km):\n",
    "        return None\n",
    "    km = km.replace(\"km\", \"\")\n",
    "    km = km.replace(\"tūkst.\", \"000\")\n",
    "    km = km.replace(\" \", \"\")\n",
    "    # now try converting to float\n",
    "    try:\n",
    "        return float(km)\n",
    "    except ValueError:\n",
    "        return 0\n",
    "    \n",
    "# let's create a km column\n",
    "df['Km'] = df['Nobrauk.'].apply(extract_km)\n",
    "# value counts\n",
    "km_counts = df['Km'].value_counts()\n",
    "km_counts"
   ]
  },
  {
   "cell_type": "code",
   "execution_count": 28,
   "metadata": {},
   "outputs": [
    {
     "data": {
      "text/plain": [
       "Year\n",
       "2007    1730\n",
       "2008    1626\n",
       "2011    1434\n",
       "2012    1368\n",
       "2006    1298\n",
       "        ... \n",
       "1956       1\n",
       "1965       1\n",
       "1968       1\n",
       "1967       1\n",
       "1936       1\n",
       "Name: count, Length: 70, dtype: int64"
      ]
     },
     "execution_count": 28,
     "metadata": {},
     "output_type": "execute_result"
    }
   ],
   "source": [
    "# let's create Year column from Gads column by converting to int\n",
    "def extract_year(year):\n",
    "    if pd.isna(year):\n",
    "        return None\n",
    "    # now try converting to int\n",
    "    try:\n",
    "        return int(year)\n",
    "    except ValueError:\n",
    "        return 0\n",
    "\n",
    "# let's create a year column\n",
    "df['Year'] = df['Gads'].apply(extract_year)\n",
    "# value counts\n",
    "year_counts = df['Year'].value_counts()\n",
    "year_counts"
   ]
  },
  {
   "cell_type": "code",
   "execution_count": 29,
   "metadata": {},
   "outputs": [
    {
     "name": "stdout",
     "output_type": "stream",
     "text": [
      "<class 'pandas.core.frame.DataFrame'>\n",
      "RangeIndex: 24611 entries, 0 to 24610\n",
      "Data columns (total 12 columns):\n",
      " #   Column       Non-Null Count  Dtype  \n",
      "---  ------       --------------  -----  \n",
      " 0   description  24611 non-null  object \n",
      " 1   url          24611 non-null  object \n",
      " 2   Modelis      24507 non-null  object \n",
      " 3   Gads         24611 non-null  object \n",
      " 4   Tilp.        24611 non-null  object \n",
      " 5   Nobrauk.     24611 non-null  object \n",
      " 6   Cena         24611 non-null  object \n",
      " 7   Marka        104 non-null    object \n",
      " 8   Brand        24611 non-null  object \n",
      " 9   Price        24611 non-null  float64\n",
      " 10  Km           24611 non-null  float64\n",
      " 11  Year         24611 non-null  int64  \n",
      "dtypes: float64(2), int64(1), object(9)\n",
      "memory usage: 2.3+ MB\n"
     ]
    }
   ],
   "source": [
    "# df info\n",
    "df.info()"
   ]
  },
  {
   "cell_type": "code",
   "execution_count": 31,
   "metadata": {},
   "outputs": [
    {
     "data": {
      "text/plain": [
       "count    24611.000000\n",
       "mean      1948.640242\n",
       "std        346.974225\n",
       "min          0.000000\n",
       "25%       2006.000000\n",
       "50%       2010.000000\n",
       "75%       2015.000000\n",
       "max       2024.000000\n",
       "Name: Year, dtype: float64"
      ]
     },
     "execution_count": 31,
     "metadata": {},
     "output_type": "execute_result"
    }
   ],
   "source": [
    "# describe years column\n",
    "df['Year'].describe()"
   ]
  },
  {
   "cell_type": "code",
   "execution_count": 32,
   "metadata": {},
   "outputs": [
    {
     "name": "stdout",
     "output_type": "stream",
     "text": [
      "Zero years: 756\n"
     ]
    }
   ],
   "source": [
    "# how many 0 years?\n",
    "zero_years = df[df['Year'] == 0].shape[0]\n",
    "print(f\"Zero years: {zero_years}\")"
   ]
  },
  {
   "cell_type": "code",
   "execution_count": 33,
   "metadata": {},
   "outputs": [
    {
     "data": {
      "application/vnd.plotly.v1+json": {
       "config": {
        "plotlyServerURL": "https://plot.ly"
       },
       "data": [
        {
         "alignmentgroup": "True",
         "hovertemplate": "Year=%{x}<br>Count=%{y}<extra></extra>",
         "legendgroup": "",
         "marker": {
          "color": "#636efa",
          "pattern": {
           "shape": ""
          }
         },
         "name": "",
         "offsetgroup": "",
         "orientation": "v",
         "showlegend": false,
         "textposition": "auto",
         "type": "bar",
         "x": [
          2007,
          2008,
          2011,
          2012,
          2006,
          2014,
          2009,
          2010,
          2013,
          2015,
          2016,
          2005,
          2018,
          2019,
          2017,
          2004,
          2020,
          2003,
          2002,
          2021,
          2022,
          2001,
          2023,
          2000,
          1999,
          2024,
          1998,
          1997,
          1996,
          1995,
          1994,
          1992,
          1990,
          1991,
          1993,
          1989,
          1988,
          1987,
          1986,
          1985,
          1983,
          1981,
          1984,
          1982,
          1978,
          1979,
          1975,
          1976,
          1974,
          1980,
          1970,
          1960,
          1977,
          1958,
          1954,
          1959,
          1972,
          1971,
          1969,
          1964,
          1938,
          1963,
          1962,
          1966,
          1956,
          1965,
          1968,
          1967,
          1936
         ],
         "xaxis": "x",
         "y": [
          1730,
          1626,
          1434,
          1368,
          1298,
          1260,
          1253,
          1247,
          1212,
          1109,
          1044,
          1007,
          942,
          942,
          920,
          833,
          577,
          553,
          453,
          436,
          340,
          319,
          296,
          271,
          206,
          186,
          152,
          128,
          95,
          88,
          63,
          51,
          47,
          44,
          41,
          37,
          37,
          36,
          28,
          21,
          15,
          11,
          11,
          10,
          8,
          8,
          8,
          7,
          5,
          5,
          4,
          4,
          4,
          3,
          3,
          2,
          2,
          2,
          2,
          2,
          1,
          1,
          1,
          1,
          1,
          1,
          1,
          1,
          1
         ],
         "yaxis": "y"
        }
       ],
       "layout": {
        "barmode": "relative",
        "legend": {
         "tracegroupgap": 0
        },
        "margin": {
         "t": 60
        },
        "template": {
         "data": {
          "bar": [
           {
            "error_x": {
             "color": "#2a3f5f"
            },
            "error_y": {
             "color": "#2a3f5f"
            },
            "marker": {
             "line": {
              "color": "#E5ECF6",
              "width": 0.5
             },
             "pattern": {
              "fillmode": "overlay",
              "size": 10,
              "solidity": 0.2
             }
            },
            "type": "bar"
           }
          ],
          "barpolar": [
           {
            "marker": {
             "line": {
              "color": "#E5ECF6",
              "width": 0.5
             },
             "pattern": {
              "fillmode": "overlay",
              "size": 10,
              "solidity": 0.2
             }
            },
            "type": "barpolar"
           }
          ],
          "carpet": [
           {
            "aaxis": {
             "endlinecolor": "#2a3f5f",
             "gridcolor": "white",
             "linecolor": "white",
             "minorgridcolor": "white",
             "startlinecolor": "#2a3f5f"
            },
            "baxis": {
             "endlinecolor": "#2a3f5f",
             "gridcolor": "white",
             "linecolor": "white",
             "minorgridcolor": "white",
             "startlinecolor": "#2a3f5f"
            },
            "type": "carpet"
           }
          ],
          "choropleth": [
           {
            "colorbar": {
             "outlinewidth": 0,
             "ticks": ""
            },
            "type": "choropleth"
           }
          ],
          "contour": [
           {
            "colorbar": {
             "outlinewidth": 0,
             "ticks": ""
            },
            "colorscale": [
             [
              0,
              "#0d0887"
             ],
             [
              0.1111111111111111,
              "#46039f"
             ],
             [
              0.2222222222222222,
              "#7201a8"
             ],
             [
              0.3333333333333333,
              "#9c179e"
             ],
             [
              0.4444444444444444,
              "#bd3786"
             ],
             [
              0.5555555555555556,
              "#d8576b"
             ],
             [
              0.6666666666666666,
              "#ed7953"
             ],
             [
              0.7777777777777778,
              "#fb9f3a"
             ],
             [
              0.8888888888888888,
              "#fdca26"
             ],
             [
              1,
              "#f0f921"
             ]
            ],
            "type": "contour"
           }
          ],
          "contourcarpet": [
           {
            "colorbar": {
             "outlinewidth": 0,
             "ticks": ""
            },
            "type": "contourcarpet"
           }
          ],
          "heatmap": [
           {
            "colorbar": {
             "outlinewidth": 0,
             "ticks": ""
            },
            "colorscale": [
             [
              0,
              "#0d0887"
             ],
             [
              0.1111111111111111,
              "#46039f"
             ],
             [
              0.2222222222222222,
              "#7201a8"
             ],
             [
              0.3333333333333333,
              "#9c179e"
             ],
             [
              0.4444444444444444,
              "#bd3786"
             ],
             [
              0.5555555555555556,
              "#d8576b"
             ],
             [
              0.6666666666666666,
              "#ed7953"
             ],
             [
              0.7777777777777778,
              "#fb9f3a"
             ],
             [
              0.8888888888888888,
              "#fdca26"
             ],
             [
              1,
              "#f0f921"
             ]
            ],
            "type": "heatmap"
           }
          ],
          "heatmapgl": [
           {
            "colorbar": {
             "outlinewidth": 0,
             "ticks": ""
            },
            "colorscale": [
             [
              0,
              "#0d0887"
             ],
             [
              0.1111111111111111,
              "#46039f"
             ],
             [
              0.2222222222222222,
              "#7201a8"
             ],
             [
              0.3333333333333333,
              "#9c179e"
             ],
             [
              0.4444444444444444,
              "#bd3786"
             ],
             [
              0.5555555555555556,
              "#d8576b"
             ],
             [
              0.6666666666666666,
              "#ed7953"
             ],
             [
              0.7777777777777778,
              "#fb9f3a"
             ],
             [
              0.8888888888888888,
              "#fdca26"
             ],
             [
              1,
              "#f0f921"
             ]
            ],
            "type": "heatmapgl"
           }
          ],
          "histogram": [
           {
            "marker": {
             "pattern": {
              "fillmode": "overlay",
              "size": 10,
              "solidity": 0.2
             }
            },
            "type": "histogram"
           }
          ],
          "histogram2d": [
           {
            "colorbar": {
             "outlinewidth": 0,
             "ticks": ""
            },
            "colorscale": [
             [
              0,
              "#0d0887"
             ],
             [
              0.1111111111111111,
              "#46039f"
             ],
             [
              0.2222222222222222,
              "#7201a8"
             ],
             [
              0.3333333333333333,
              "#9c179e"
             ],
             [
              0.4444444444444444,
              "#bd3786"
             ],
             [
              0.5555555555555556,
              "#d8576b"
             ],
             [
              0.6666666666666666,
              "#ed7953"
             ],
             [
              0.7777777777777778,
              "#fb9f3a"
             ],
             [
              0.8888888888888888,
              "#fdca26"
             ],
             [
              1,
              "#f0f921"
             ]
            ],
            "type": "histogram2d"
           }
          ],
          "histogram2dcontour": [
           {
            "colorbar": {
             "outlinewidth": 0,
             "ticks": ""
            },
            "colorscale": [
             [
              0,
              "#0d0887"
             ],
             [
              0.1111111111111111,
              "#46039f"
             ],
             [
              0.2222222222222222,
              "#7201a8"
             ],
             [
              0.3333333333333333,
              "#9c179e"
             ],
             [
              0.4444444444444444,
              "#bd3786"
             ],
             [
              0.5555555555555556,
              "#d8576b"
             ],
             [
              0.6666666666666666,
              "#ed7953"
             ],
             [
              0.7777777777777778,
              "#fb9f3a"
             ],
             [
              0.8888888888888888,
              "#fdca26"
             ],
             [
              1,
              "#f0f921"
             ]
            ],
            "type": "histogram2dcontour"
           }
          ],
          "mesh3d": [
           {
            "colorbar": {
             "outlinewidth": 0,
             "ticks": ""
            },
            "type": "mesh3d"
           }
          ],
          "parcoords": [
           {
            "line": {
             "colorbar": {
              "outlinewidth": 0,
              "ticks": ""
             }
            },
            "type": "parcoords"
           }
          ],
          "pie": [
           {
            "automargin": true,
            "type": "pie"
           }
          ],
          "scatter": [
           {
            "fillpattern": {
             "fillmode": "overlay",
             "size": 10,
             "solidity": 0.2
            },
            "type": "scatter"
           }
          ],
          "scatter3d": [
           {
            "line": {
             "colorbar": {
              "outlinewidth": 0,
              "ticks": ""
             }
            },
            "marker": {
             "colorbar": {
              "outlinewidth": 0,
              "ticks": ""
             }
            },
            "type": "scatter3d"
           }
          ],
          "scattercarpet": [
           {
            "marker": {
             "colorbar": {
              "outlinewidth": 0,
              "ticks": ""
             }
            },
            "type": "scattercarpet"
           }
          ],
          "scattergeo": [
           {
            "marker": {
             "colorbar": {
              "outlinewidth": 0,
              "ticks": ""
             }
            },
            "type": "scattergeo"
           }
          ],
          "scattergl": [
           {
            "marker": {
             "colorbar": {
              "outlinewidth": 0,
              "ticks": ""
             }
            },
            "type": "scattergl"
           }
          ],
          "scattermapbox": [
           {
            "marker": {
             "colorbar": {
              "outlinewidth": 0,
              "ticks": ""
             }
            },
            "type": "scattermapbox"
           }
          ],
          "scatterpolar": [
           {
            "marker": {
             "colorbar": {
              "outlinewidth": 0,
              "ticks": ""
             }
            },
            "type": "scatterpolar"
           }
          ],
          "scatterpolargl": [
           {
            "marker": {
             "colorbar": {
              "outlinewidth": 0,
              "ticks": ""
             }
            },
            "type": "scatterpolargl"
           }
          ],
          "scatterternary": [
           {
            "marker": {
             "colorbar": {
              "outlinewidth": 0,
              "ticks": ""
             }
            },
            "type": "scatterternary"
           }
          ],
          "surface": [
           {
            "colorbar": {
             "outlinewidth": 0,
             "ticks": ""
            },
            "colorscale": [
             [
              0,
              "#0d0887"
             ],
             [
              0.1111111111111111,
              "#46039f"
             ],
             [
              0.2222222222222222,
              "#7201a8"
             ],
             [
              0.3333333333333333,
              "#9c179e"
             ],
             [
              0.4444444444444444,
              "#bd3786"
             ],
             [
              0.5555555555555556,
              "#d8576b"
             ],
             [
              0.6666666666666666,
              "#ed7953"
             ],
             [
              0.7777777777777778,
              "#fb9f3a"
             ],
             [
              0.8888888888888888,
              "#fdca26"
             ],
             [
              1,
              "#f0f921"
             ]
            ],
            "type": "surface"
           }
          ],
          "table": [
           {
            "cells": {
             "fill": {
              "color": "#EBF0F8"
             },
             "line": {
              "color": "white"
             }
            },
            "header": {
             "fill": {
              "color": "#C8D4E3"
             },
             "line": {
              "color": "white"
             }
            },
            "type": "table"
           }
          ]
         },
         "layout": {
          "annotationdefaults": {
           "arrowcolor": "#2a3f5f",
           "arrowhead": 0,
           "arrowwidth": 1
          },
          "autotypenumbers": "strict",
          "coloraxis": {
           "colorbar": {
            "outlinewidth": 0,
            "ticks": ""
           }
          },
          "colorscale": {
           "diverging": [
            [
             0,
             "#8e0152"
            ],
            [
             0.1,
             "#c51b7d"
            ],
            [
             0.2,
             "#de77ae"
            ],
            [
             0.3,
             "#f1b6da"
            ],
            [
             0.4,
             "#fde0ef"
            ],
            [
             0.5,
             "#f7f7f7"
            ],
            [
             0.6,
             "#e6f5d0"
            ],
            [
             0.7,
             "#b8e186"
            ],
            [
             0.8,
             "#7fbc41"
            ],
            [
             0.9,
             "#4d9221"
            ],
            [
             1,
             "#276419"
            ]
           ],
           "sequential": [
            [
             0,
             "#0d0887"
            ],
            [
             0.1111111111111111,
             "#46039f"
            ],
            [
             0.2222222222222222,
             "#7201a8"
            ],
            [
             0.3333333333333333,
             "#9c179e"
            ],
            [
             0.4444444444444444,
             "#bd3786"
            ],
            [
             0.5555555555555556,
             "#d8576b"
            ],
            [
             0.6666666666666666,
             "#ed7953"
            ],
            [
             0.7777777777777778,
             "#fb9f3a"
            ],
            [
             0.8888888888888888,
             "#fdca26"
            ],
            [
             1,
             "#f0f921"
            ]
           ],
           "sequentialminus": [
            [
             0,
             "#0d0887"
            ],
            [
             0.1111111111111111,
             "#46039f"
            ],
            [
             0.2222222222222222,
             "#7201a8"
            ],
            [
             0.3333333333333333,
             "#9c179e"
            ],
            [
             0.4444444444444444,
             "#bd3786"
            ],
            [
             0.5555555555555556,
             "#d8576b"
            ],
            [
             0.6666666666666666,
             "#ed7953"
            ],
            [
             0.7777777777777778,
             "#fb9f3a"
            ],
            [
             0.8888888888888888,
             "#fdca26"
            ],
            [
             1,
             "#f0f921"
            ]
           ]
          },
          "colorway": [
           "#636efa",
           "#EF553B",
           "#00cc96",
           "#ab63fa",
           "#FFA15A",
           "#19d3f3",
           "#FF6692",
           "#B6E880",
           "#FF97FF",
           "#FECB52"
          ],
          "font": {
           "color": "#2a3f5f"
          },
          "geo": {
           "bgcolor": "white",
           "lakecolor": "white",
           "landcolor": "#E5ECF6",
           "showlakes": true,
           "showland": true,
           "subunitcolor": "white"
          },
          "hoverlabel": {
           "align": "left"
          },
          "hovermode": "closest",
          "mapbox": {
           "style": "light"
          },
          "paper_bgcolor": "white",
          "plot_bgcolor": "#E5ECF6",
          "polar": {
           "angularaxis": {
            "gridcolor": "white",
            "linecolor": "white",
            "ticks": ""
           },
           "bgcolor": "#E5ECF6",
           "radialaxis": {
            "gridcolor": "white",
            "linecolor": "white",
            "ticks": ""
           }
          },
          "scene": {
           "xaxis": {
            "backgroundcolor": "#E5ECF6",
            "gridcolor": "white",
            "gridwidth": 2,
            "linecolor": "white",
            "showbackground": true,
            "ticks": "",
            "zerolinecolor": "white"
           },
           "yaxis": {
            "backgroundcolor": "#E5ECF6",
            "gridcolor": "white",
            "gridwidth": 2,
            "linecolor": "white",
            "showbackground": true,
            "ticks": "",
            "zerolinecolor": "white"
           },
           "zaxis": {
            "backgroundcolor": "#E5ECF6",
            "gridcolor": "white",
            "gridwidth": 2,
            "linecolor": "white",
            "showbackground": true,
            "ticks": "",
            "zerolinecolor": "white"
           }
          },
          "shapedefaults": {
           "line": {
            "color": "#2a3f5f"
           }
          },
          "ternary": {
           "aaxis": {
            "gridcolor": "white",
            "linecolor": "white",
            "ticks": ""
           },
           "baxis": {
            "gridcolor": "white",
            "linecolor": "white",
            "ticks": ""
           },
           "bgcolor": "#E5ECF6",
           "caxis": {
            "gridcolor": "white",
            "linecolor": "white",
            "ticks": ""
           }
          },
          "title": {
           "x": 0.05
          },
          "xaxis": {
           "automargin": true,
           "gridcolor": "white",
           "linecolor": "white",
           "ticks": "",
           "title": {
            "standoff": 15
           },
           "zerolinecolor": "white",
           "zerolinewidth": 2
          },
          "yaxis": {
           "automargin": true,
           "gridcolor": "white",
           "linecolor": "white",
           "ticks": "",
           "title": {
            "standoff": 15
           },
           "zerolinecolor": "white",
           "zerolinewidth": 2
          }
         }
        },
        "title": {
         "text": "Value counts of years"
        },
        "xaxis": {
         "anchor": "y",
         "domain": [
          0,
          1
         ],
         "title": {
          "text": "Year"
         }
        },
        "yaxis": {
         "anchor": "x",
         "domain": [
          0,
          1
         ],
         "title": {
          "text": "Count"
         }
        }
       }
      }
     },
     "metadata": {},
     "output_type": "display_data"
    }
   ],
   "source": [
    "# let's plot value counts of years\n",
    "# ignore zero years\n",
    "year_counts = year_counts[year_counts.index != 0]\n",
    "fig = px.bar(year_counts, x=year_counts.index, y=year_counts.values, labels={'x': 'Year', 'y': 'Count'})\n",
    "fig.update_layout(title_text='Value counts of years')\n",
    "fig.show()"
   ]
  },
  {
   "cell_type": "code",
   "execution_count": 34,
   "metadata": {},
   "outputs": [],
   "source": [
    "# let us save the cleaned dataframe\n",
    "cleaned_parquet = parquet_folder / \"cleaned_cars.parquet\"\n",
    "df.to_parquet(cleaned_parquet)\n"
   ]
  },
  {
   "cell_type": "code",
   "execution_count": 38,
   "metadata": {},
   "outputs": [
    {
     "name": "stdout",
     "output_type": "stream",
     "text": [
      "Dataframe shape: (24611, 12)\n"
     ]
    }
   ],
   "source": [
    "# df shape\n",
    "print(f\"Dataframe shape: {df.shape}\")"
   ]
  },
  {
   "cell_type": "code",
   "execution_count": 41,
   "metadata": {},
   "outputs": [
    {
     "name": "stdout",
     "output_type": "stream",
     "text": [
      "RAV4 cars shape: (252, 12)\n"
     ]
    }
   ],
   "source": [
    "# let us get all RAV4 cars\n",
    "# this means we will filter by Modelis column or Description column\n",
    "rav4_cars = df[(df['Modelis'].str.contains(\"RAV\") )| (df['description'].str.contains(\"RAV\", na=False))]\n",
    "print(f\"RAV4 cars shape: {rav4_cars.shape}\")"
   ]
  },
  {
   "cell_type": "code",
   "execution_count": 42,
   "metadata": {},
   "outputs": [
    {
     "name": "stdout",
     "output_type": "stream",
     "text": [
      "Year\n",
      "2019    29\n",
      "0       22\n",
      "2007    17\n",
      "2006    15\n",
      "2014    13\n",
      "2012    12\n",
      "2008    12\n",
      "2011    11\n",
      "2022    11\n",
      "2003    11\n",
      "2021    10\n",
      "2013    10\n",
      "2020    10\n",
      "2010    10\n",
      "2023     7\n",
      "2015     7\n",
      "2016     7\n",
      "2005     6\n",
      "2002     6\n",
      "2017     6\n",
      "2004     5\n",
      "2001     4\n",
      "2018     3\n",
      "2009     3\n",
      "2024     3\n",
      "2000     2\n",
      "Name: count, dtype: int64\n"
     ]
    }
   ],
   "source": [
    "# print value counts for rav4 cars by years\n",
    "rav4_year_counts = rav4_cars['Year'].value_counts()\n",
    "print(rav4_year_counts)"
   ]
  },
  {
   "cell_type": "code",
   "execution_count": 44,
   "metadata": {},
   "outputs": [
    {
     "data": {
      "application/vnd.plotly.v1+json": {
       "config": {
        "plotlyServerURL": "https://plot.ly"
       },
       "data": [
        {
         "alignmentgroup": "True",
         "hovertemplate": "Year=%{x}<br>Price=%{y}<extra></extra>",
         "legendgroup": "",
         "marker": {
          "color": "#636efa"
         },
         "name": "",
         "notched": false,
         "offsetgroup": "",
         "orientation": "v",
         "showlegend": false,
         "type": "box",
         "x": [
          2011,
          2006,
          2010,
          2014,
          2005,
          2019,
          2022,
          2018,
          2019,
          2003,
          2011,
          2014,
          2005,
          2011,
          2003,
          2022,
          2005,
          2006,
          2008,
          2007,
          2022,
          2023,
          2020,
          2006,
          2007,
          2018,
          2006,
          2013,
          2023,
          2012,
          2008,
          2012,
          2007,
          2022,
          2019,
          2012,
          2015,
          2006,
          2022,
          2019,
          2023,
          2008,
          2014,
          2007,
          2016,
          2019,
          2021,
          2022,
          2008,
          2006,
          2008,
          2008,
          2021,
          2014,
          2016,
          2006,
          2010,
          2014,
          2021,
          2011,
          2015,
          2006,
          2005,
          2019,
          2019,
          2019,
          2020,
          2000,
          2019,
          2003,
          2013,
          2006,
          2002,
          2011,
          2016,
          2014,
          2019,
          2015,
          2017,
          2017,
          2022,
          2002,
          2015,
          2008,
          2010,
          2010,
          2007,
          2013,
          2008,
          2014,
          2011,
          2010,
          2019,
          2010,
          2007,
          2019,
          2002,
          2019,
          2000,
          2011,
          2008,
          2010,
          2006,
          2019,
          2022,
          2020,
          2019,
          2013,
          2009,
          2012,
          2003,
          2001,
          2019,
          2008,
          2016,
          2019,
          2010,
          2007,
          2017,
          2015,
          2017,
          2010,
          2007,
          2021,
          2007,
          2006,
          2014,
          2013,
          2023,
          2017,
          2023,
          2002,
          2011,
          2014,
          2020,
          2012,
          2013,
          2017,
          2019,
          2016,
          2011,
          2023,
          2019,
          2009,
          2007,
          2001,
          2011,
          2020,
          2019,
          2001,
          2024,
          2007,
          2019,
          2008,
          2009,
          2020,
          2021,
          2021,
          2012,
          2021,
          2020,
          2007,
          2019,
          2004,
          2002,
          2019,
          2006,
          2006,
          2003,
          2007,
          2012,
          2004,
          2012,
          2003,
          2019,
          2023,
          2015,
          2006,
          2024,
          2013,
          2021,
          2021,
          2022,
          2014,
          2013,
          2020,
          2014,
          2003,
          2010,
          2013,
          2022,
          2016,
          2005,
          2020,
          2015,
          2024,
          2014,
          2012,
          2003,
          2022,
          2018,
          2003,
          2002,
          2007,
          2020,
          2019,
          2019,
          2019,
          2019,
          2019,
          2016,
          2013,
          2021,
          2012,
          2007,
          2006,
          2012,
          2012,
          2008,
          2014
         ],
         "x0": " ",
         "xaxis": "x",
         "y": [
          8970,
          3750,
          9850,
          13890,
          4550,
          31850,
          32750,
          20500,
          24990,
          2850,
          8800,
          12000,
          1600,
          8450,
          2550,
          29900,
          4000,
          4990,
          2990,
          2700,
          31990,
          49500,
          26500,
          4495,
          6000,
          16500,
          5250,
          13400,
          38990,
          8000,
          3200,
          8770,
          5300,
          31990,
          26500,
          8650,
          14150,
          5800,
          36000,
          31990,
          38200,
          5200,
          11750,
          4799,
          16999,
          25000,
          28900,
          28900,
          5200,
          4590,
          5350,
          6500,
          29900,
          11500,
          14800,
          6300,
          7499,
          16200,
          26500,
          9980,
          16800,
          4700,
          4700,
          26990,
          22000,
          19990,
          25990,
          2350,
          24990,
          2400,
          13200,
          4700,
          2950,
          8500,
          20500,
          13350,
          22899,
          14500,
          16900,
          15890,
          28900,
          1990,
          13850,
          3190,
          9655,
          8500,
          6200,
          13500,
          4400,
          12000,
          8299,
          7190,
          26700,
          5500,
          6200,
          27590,
          1350,
          25990,
          2550,
          8950,
          8000,
          9900,
          4880,
          33300,
          25900,
          24500,
          31400,
          12500,
          2800,
          9600,
          4850,
          2490,
          24800,
          5500,
          16800,
          27990,
          9100,
          4490,
          18400,
          16300,
          16600,
          9750,
          5300,
          28900,
          5750,
          5850,
          13500,
          11450,
          39990,
          17500,
          37990,
          1750,
          6299,
          14990,
          31000,
          9750,
          12850,
          15450,
          28700,
          15490,
          10000,
          57990,
          31990,
          6100,
          4300,
          3700,
          7950,
          23600,
          19500,
          1400,
          38420,
          5580,
          21500,
          5950,
          6650,
          29400,
          32200,
          26590,
          9150,
          29200,
          28000,
          5500,
          27500,
          4590,
          2500,
          29900,
          4500,
          2990,
          2950,
          5300,
          9750,
          3000,
          7800,
          2600,
          22490,
          34990,
          12990,
          4500,
          46600,
          8500,
          29000,
          29000,
          28700,
          13200,
          11000,
          25990,
          13590,
          2490,
          9650,
          12900,
          54700,
          19990,
          4000,
          30900,
          12300,
          45150,
          14500,
          9490,
          3200,
          26900,
          22500,
          2499,
          2300,
          5490,
          21900,
          24900,
          22500,
          29000,
          23950,
          28950,
          16000,
          11800,
          29700,
          7800,
          4700,
          5300,
          7900,
          7900,
          6200,
          12055
         ],
         "y0": " ",
         "yaxis": "y"
        }
       ],
       "layout": {
        "boxmode": "group",
        "legend": {
         "tracegroupgap": 0
        },
        "margin": {
         "t": 60
        },
        "template": {
         "data": {
          "bar": [
           {
            "error_x": {
             "color": "#2a3f5f"
            },
            "error_y": {
             "color": "#2a3f5f"
            },
            "marker": {
             "line": {
              "color": "#E5ECF6",
              "width": 0.5
             },
             "pattern": {
              "fillmode": "overlay",
              "size": 10,
              "solidity": 0.2
             }
            },
            "type": "bar"
           }
          ],
          "barpolar": [
           {
            "marker": {
             "line": {
              "color": "#E5ECF6",
              "width": 0.5
             },
             "pattern": {
              "fillmode": "overlay",
              "size": 10,
              "solidity": 0.2
             }
            },
            "type": "barpolar"
           }
          ],
          "carpet": [
           {
            "aaxis": {
             "endlinecolor": "#2a3f5f",
             "gridcolor": "white",
             "linecolor": "white",
             "minorgridcolor": "white",
             "startlinecolor": "#2a3f5f"
            },
            "baxis": {
             "endlinecolor": "#2a3f5f",
             "gridcolor": "white",
             "linecolor": "white",
             "minorgridcolor": "white",
             "startlinecolor": "#2a3f5f"
            },
            "type": "carpet"
           }
          ],
          "choropleth": [
           {
            "colorbar": {
             "outlinewidth": 0,
             "ticks": ""
            },
            "type": "choropleth"
           }
          ],
          "contour": [
           {
            "colorbar": {
             "outlinewidth": 0,
             "ticks": ""
            },
            "colorscale": [
             [
              0,
              "#0d0887"
             ],
             [
              0.1111111111111111,
              "#46039f"
             ],
             [
              0.2222222222222222,
              "#7201a8"
             ],
             [
              0.3333333333333333,
              "#9c179e"
             ],
             [
              0.4444444444444444,
              "#bd3786"
             ],
             [
              0.5555555555555556,
              "#d8576b"
             ],
             [
              0.6666666666666666,
              "#ed7953"
             ],
             [
              0.7777777777777778,
              "#fb9f3a"
             ],
             [
              0.8888888888888888,
              "#fdca26"
             ],
             [
              1,
              "#f0f921"
             ]
            ],
            "type": "contour"
           }
          ],
          "contourcarpet": [
           {
            "colorbar": {
             "outlinewidth": 0,
             "ticks": ""
            },
            "type": "contourcarpet"
           }
          ],
          "heatmap": [
           {
            "colorbar": {
             "outlinewidth": 0,
             "ticks": ""
            },
            "colorscale": [
             [
              0,
              "#0d0887"
             ],
             [
              0.1111111111111111,
              "#46039f"
             ],
             [
              0.2222222222222222,
              "#7201a8"
             ],
             [
              0.3333333333333333,
              "#9c179e"
             ],
             [
              0.4444444444444444,
              "#bd3786"
             ],
             [
              0.5555555555555556,
              "#d8576b"
             ],
             [
              0.6666666666666666,
              "#ed7953"
             ],
             [
              0.7777777777777778,
              "#fb9f3a"
             ],
             [
              0.8888888888888888,
              "#fdca26"
             ],
             [
              1,
              "#f0f921"
             ]
            ],
            "type": "heatmap"
           }
          ],
          "heatmapgl": [
           {
            "colorbar": {
             "outlinewidth": 0,
             "ticks": ""
            },
            "colorscale": [
             [
              0,
              "#0d0887"
             ],
             [
              0.1111111111111111,
              "#46039f"
             ],
             [
              0.2222222222222222,
              "#7201a8"
             ],
             [
              0.3333333333333333,
              "#9c179e"
             ],
             [
              0.4444444444444444,
              "#bd3786"
             ],
             [
              0.5555555555555556,
              "#d8576b"
             ],
             [
              0.6666666666666666,
              "#ed7953"
             ],
             [
              0.7777777777777778,
              "#fb9f3a"
             ],
             [
              0.8888888888888888,
              "#fdca26"
             ],
             [
              1,
              "#f0f921"
             ]
            ],
            "type": "heatmapgl"
           }
          ],
          "histogram": [
           {
            "marker": {
             "pattern": {
              "fillmode": "overlay",
              "size": 10,
              "solidity": 0.2
             }
            },
            "type": "histogram"
           }
          ],
          "histogram2d": [
           {
            "colorbar": {
             "outlinewidth": 0,
             "ticks": ""
            },
            "colorscale": [
             [
              0,
              "#0d0887"
             ],
             [
              0.1111111111111111,
              "#46039f"
             ],
             [
              0.2222222222222222,
              "#7201a8"
             ],
             [
              0.3333333333333333,
              "#9c179e"
             ],
             [
              0.4444444444444444,
              "#bd3786"
             ],
             [
              0.5555555555555556,
              "#d8576b"
             ],
             [
              0.6666666666666666,
              "#ed7953"
             ],
             [
              0.7777777777777778,
              "#fb9f3a"
             ],
             [
              0.8888888888888888,
              "#fdca26"
             ],
             [
              1,
              "#f0f921"
             ]
            ],
            "type": "histogram2d"
           }
          ],
          "histogram2dcontour": [
           {
            "colorbar": {
             "outlinewidth": 0,
             "ticks": ""
            },
            "colorscale": [
             [
              0,
              "#0d0887"
             ],
             [
              0.1111111111111111,
              "#46039f"
             ],
             [
              0.2222222222222222,
              "#7201a8"
             ],
             [
              0.3333333333333333,
              "#9c179e"
             ],
             [
              0.4444444444444444,
              "#bd3786"
             ],
             [
              0.5555555555555556,
              "#d8576b"
             ],
             [
              0.6666666666666666,
              "#ed7953"
             ],
             [
              0.7777777777777778,
              "#fb9f3a"
             ],
             [
              0.8888888888888888,
              "#fdca26"
             ],
             [
              1,
              "#f0f921"
             ]
            ],
            "type": "histogram2dcontour"
           }
          ],
          "mesh3d": [
           {
            "colorbar": {
             "outlinewidth": 0,
             "ticks": ""
            },
            "type": "mesh3d"
           }
          ],
          "parcoords": [
           {
            "line": {
             "colorbar": {
              "outlinewidth": 0,
              "ticks": ""
             }
            },
            "type": "parcoords"
           }
          ],
          "pie": [
           {
            "automargin": true,
            "type": "pie"
           }
          ],
          "scatter": [
           {
            "fillpattern": {
             "fillmode": "overlay",
             "size": 10,
             "solidity": 0.2
            },
            "type": "scatter"
           }
          ],
          "scatter3d": [
           {
            "line": {
             "colorbar": {
              "outlinewidth": 0,
              "ticks": ""
             }
            },
            "marker": {
             "colorbar": {
              "outlinewidth": 0,
              "ticks": ""
             }
            },
            "type": "scatter3d"
           }
          ],
          "scattercarpet": [
           {
            "marker": {
             "colorbar": {
              "outlinewidth": 0,
              "ticks": ""
             }
            },
            "type": "scattercarpet"
           }
          ],
          "scattergeo": [
           {
            "marker": {
             "colorbar": {
              "outlinewidth": 0,
              "ticks": ""
             }
            },
            "type": "scattergeo"
           }
          ],
          "scattergl": [
           {
            "marker": {
             "colorbar": {
              "outlinewidth": 0,
              "ticks": ""
             }
            },
            "type": "scattergl"
           }
          ],
          "scattermapbox": [
           {
            "marker": {
             "colorbar": {
              "outlinewidth": 0,
              "ticks": ""
             }
            },
            "type": "scattermapbox"
           }
          ],
          "scatterpolar": [
           {
            "marker": {
             "colorbar": {
              "outlinewidth": 0,
              "ticks": ""
             }
            },
            "type": "scatterpolar"
           }
          ],
          "scatterpolargl": [
           {
            "marker": {
             "colorbar": {
              "outlinewidth": 0,
              "ticks": ""
             }
            },
            "type": "scatterpolargl"
           }
          ],
          "scatterternary": [
           {
            "marker": {
             "colorbar": {
              "outlinewidth": 0,
              "ticks": ""
             }
            },
            "type": "scatterternary"
           }
          ],
          "surface": [
           {
            "colorbar": {
             "outlinewidth": 0,
             "ticks": ""
            },
            "colorscale": [
             [
              0,
              "#0d0887"
             ],
             [
              0.1111111111111111,
              "#46039f"
             ],
             [
              0.2222222222222222,
              "#7201a8"
             ],
             [
              0.3333333333333333,
              "#9c179e"
             ],
             [
              0.4444444444444444,
              "#bd3786"
             ],
             [
              0.5555555555555556,
              "#d8576b"
             ],
             [
              0.6666666666666666,
              "#ed7953"
             ],
             [
              0.7777777777777778,
              "#fb9f3a"
             ],
             [
              0.8888888888888888,
              "#fdca26"
             ],
             [
              1,
              "#f0f921"
             ]
            ],
            "type": "surface"
           }
          ],
          "table": [
           {
            "cells": {
             "fill": {
              "color": "#EBF0F8"
             },
             "line": {
              "color": "white"
             }
            },
            "header": {
             "fill": {
              "color": "#C8D4E3"
             },
             "line": {
              "color": "white"
             }
            },
            "type": "table"
           }
          ]
         },
         "layout": {
          "annotationdefaults": {
           "arrowcolor": "#2a3f5f",
           "arrowhead": 0,
           "arrowwidth": 1
          },
          "autotypenumbers": "strict",
          "coloraxis": {
           "colorbar": {
            "outlinewidth": 0,
            "ticks": ""
           }
          },
          "colorscale": {
           "diverging": [
            [
             0,
             "#8e0152"
            ],
            [
             0.1,
             "#c51b7d"
            ],
            [
             0.2,
             "#de77ae"
            ],
            [
             0.3,
             "#f1b6da"
            ],
            [
             0.4,
             "#fde0ef"
            ],
            [
             0.5,
             "#f7f7f7"
            ],
            [
             0.6,
             "#e6f5d0"
            ],
            [
             0.7,
             "#b8e186"
            ],
            [
             0.8,
             "#7fbc41"
            ],
            [
             0.9,
             "#4d9221"
            ],
            [
             1,
             "#276419"
            ]
           ],
           "sequential": [
            [
             0,
             "#0d0887"
            ],
            [
             0.1111111111111111,
             "#46039f"
            ],
            [
             0.2222222222222222,
             "#7201a8"
            ],
            [
             0.3333333333333333,
             "#9c179e"
            ],
            [
             0.4444444444444444,
             "#bd3786"
            ],
            [
             0.5555555555555556,
             "#d8576b"
            ],
            [
             0.6666666666666666,
             "#ed7953"
            ],
            [
             0.7777777777777778,
             "#fb9f3a"
            ],
            [
             0.8888888888888888,
             "#fdca26"
            ],
            [
             1,
             "#f0f921"
            ]
           ],
           "sequentialminus": [
            [
             0,
             "#0d0887"
            ],
            [
             0.1111111111111111,
             "#46039f"
            ],
            [
             0.2222222222222222,
             "#7201a8"
            ],
            [
             0.3333333333333333,
             "#9c179e"
            ],
            [
             0.4444444444444444,
             "#bd3786"
            ],
            [
             0.5555555555555556,
             "#d8576b"
            ],
            [
             0.6666666666666666,
             "#ed7953"
            ],
            [
             0.7777777777777778,
             "#fb9f3a"
            ],
            [
             0.8888888888888888,
             "#fdca26"
            ],
            [
             1,
             "#f0f921"
            ]
           ]
          },
          "colorway": [
           "#636efa",
           "#EF553B",
           "#00cc96",
           "#ab63fa",
           "#FFA15A",
           "#19d3f3",
           "#FF6692",
           "#B6E880",
           "#FF97FF",
           "#FECB52"
          ],
          "font": {
           "color": "#2a3f5f"
          },
          "geo": {
           "bgcolor": "white",
           "lakecolor": "white",
           "landcolor": "#E5ECF6",
           "showlakes": true,
           "showland": true,
           "subunitcolor": "white"
          },
          "hoverlabel": {
           "align": "left"
          },
          "hovermode": "closest",
          "mapbox": {
           "style": "light"
          },
          "paper_bgcolor": "white",
          "plot_bgcolor": "#E5ECF6",
          "polar": {
           "angularaxis": {
            "gridcolor": "white",
            "linecolor": "white",
            "ticks": ""
           },
           "bgcolor": "#E5ECF6",
           "radialaxis": {
            "gridcolor": "white",
            "linecolor": "white",
            "ticks": ""
           }
          },
          "scene": {
           "xaxis": {
            "backgroundcolor": "#E5ECF6",
            "gridcolor": "white",
            "gridwidth": 2,
            "linecolor": "white",
            "showbackground": true,
            "ticks": "",
            "zerolinecolor": "white"
           },
           "yaxis": {
            "backgroundcolor": "#E5ECF6",
            "gridcolor": "white",
            "gridwidth": 2,
            "linecolor": "white",
            "showbackground": true,
            "ticks": "",
            "zerolinecolor": "white"
           },
           "zaxis": {
            "backgroundcolor": "#E5ECF6",
            "gridcolor": "white",
            "gridwidth": 2,
            "linecolor": "white",
            "showbackground": true,
            "ticks": "",
            "zerolinecolor": "white"
           }
          },
          "shapedefaults": {
           "line": {
            "color": "#2a3f5f"
           }
          },
          "ternary": {
           "aaxis": {
            "gridcolor": "white",
            "linecolor": "white",
            "ticks": ""
           },
           "baxis": {
            "gridcolor": "white",
            "linecolor": "white",
            "ticks": ""
           },
           "bgcolor": "#E5ECF6",
           "caxis": {
            "gridcolor": "white",
            "linecolor": "white",
            "ticks": ""
           }
          },
          "title": {
           "x": 0.05
          },
          "xaxis": {
           "automargin": true,
           "gridcolor": "white",
           "linecolor": "white",
           "ticks": "",
           "title": {
            "standoff": 15
           },
           "zerolinecolor": "white",
           "zerolinewidth": 2
          },
          "yaxis": {
           "automargin": true,
           "gridcolor": "white",
           "linecolor": "white",
           "ticks": "",
           "title": {
            "standoff": 15
           },
           "zerolinecolor": "white",
           "zerolinewidth": 2
          }
         }
        },
        "title": {
         "text": "RAV4 cars prices by year"
        },
        "xaxis": {
         "anchor": "y",
         "domain": [
          0,
          1
         ],
         "title": {
          "text": "Year"
         }
        },
        "yaxis": {
         "anchor": "x",
         "domain": [
          0,
          1
         ],
         "title": {
          "text": "Price"
         }
        }
       }
      }
     },
     "metadata": {},
     "output_type": "display_data"
    }
   ],
   "source": [
    "# print candlestick plot for rav4 cars prices by year\n",
    "rav4_cars = rav4_cars[rav4_cars['Price'] > 0]\n",
    "fig = px.box(rav4_cars, x='Year', y='Price', labels={'x': 'Year', 'y': 'Price'})\n",
    "fig.update_layout(title_text='RAV4 cars prices by year')\n",
    "fig.show()"
   ]
  },
  {
   "cell_type": "code",
   "execution_count": 45,
   "metadata": {},
   "outputs": [],
   "source": [
    "# let's creat a function that will plot a box plot for a given model given a full df\n",
    "def plot_model_prices(df, model):\n",
    "    model_cars = df[(df['Modelis'].str.contains(model) )| (df['description'].str.contains(model, na=False))]\n",
    "    model_cars = model_cars[model_cars['Price'] > 0]\n",
    "    fig = px.box(model_cars, x='Year', y='Price', labels={'x': 'Year', 'y': 'Price'})\n",
    "    fig.update_layout(title_text=f'{model} cars prices by year')\n",
    "    fig.show()\n",
    "    return model_cars"
   ]
  },
  {
   "cell_type": "code",
   "execution_count": 47,
   "metadata": {},
   "outputs": [
    {
     "data": {
      "application/vnd.plotly.v1+json": {
       "config": {
        "plotlyServerURL": "https://plot.ly"
       },
       "data": [
        {
         "alignmentgroup": "True",
         "hovertemplate": "Year=%{x}<br>Price=%{y}<extra></extra>",
         "legendgroup": "",
         "marker": {
          "color": "#636efa"
         },
         "name": "",
         "notched": false,
         "offsetgroup": "",
         "orientation": "v",
         "showlegend": false,
         "type": "box",
         "x": [
          2013,
          2012,
          2015,
          2014,
          2009,
          2010,
          2015,
          2015,
          2020,
          2013,
          2009,
          2015,
          2017,
          2015,
          2010,
          2012,
          2016,
          2014,
          2011,
          2015,
          2014,
          2011,
          2018,
          2012,
          2014,
          2009,
          2018,
          2017,
          2011,
          2010,
          2009,
          2014,
          2008,
          2013,
          2011,
          2011,
          2009,
          2013,
          2010,
          2018,
          2012,
          2009,
          2010,
          2010,
          2011,
          2014,
          2011,
          2017,
          2012,
          2011,
          2010,
          2009,
          2014,
          2018,
          2014,
          2009,
          2009,
          2012,
          2010,
          2020,
          2019,
          2014,
          2014,
          2010,
          2012,
          2010,
          2009,
          2008,
          2010,
          2013,
          2022,
          2009,
          2011,
          2009,
          2010,
          2013,
          2016,
          2009,
          2009,
          2014,
          2018,
          2014,
          2015,
          2013,
          2010,
          2013,
          2014,
          2019,
          2018,
          2013,
          2009,
          2015,
          2014,
          2013,
          2016,
          2013,
          2013,
          2010,
          2009,
          2014,
          2011,
          2017,
          2009,
          2012,
          2010,
          2013,
          2020,
          2012,
          2013,
          2018,
          2012,
          2014,
          2011,
          2009,
          2015,
          2013,
          2014,
          2014,
          2012,
          2009,
          2010,
          2013,
          2014,
          2009,
          2009,
          2009,
          2013,
          2015,
          2014,
          2017,
          2012,
          2013,
          2009,
          2011,
          2014,
          2011,
          2014,
          2016,
          2013,
          2010,
          2014,
          2016,
          2009,
          2019,
          2019,
          2010,
          2010,
          2009,
          2009,
          2017,
          2015,
          2020,
          2021,
          2014,
          2012,
          2016,
          2011,
          2012,
          2012,
          2018,
          2015,
          2022,
          2010,
          2010,
          2014,
          2013,
          2017,
          2016,
          2015,
          2014,
          2010,
          2015,
          2009,
          2014,
          2019,
          2016,
          2015,
          2018,
          2015,
          2009,
          2014,
          2012,
          2015,
          2018,
          2013,
          2011,
          2010,
          2011,
          2009,
          2009,
          2009,
          2010,
          2014,
          2019,
          2009,
          2015,
          2012,
          2019,
          2011,
          2022,
          2011,
          2012,
          2015,
          2015,
          2009,
          2020,
          2018,
          2015,
          2014,
          2009,
          2021,
          2010,
          2017,
          2013,
          2010,
          2014,
          2009,
          2020,
          2013,
          2013,
          2018,
          2011,
          2014,
          2009,
          2015,
          2010,
          2016,
          2009,
          2009,
          2014,
          2013,
          2012,
          2017,
          2014,
          2016,
          2016,
          2009,
          2016,
          2013,
          2016,
          2015,
          2011,
          2011,
          2021,
          2014,
          2012,
          2010,
          2015,
          2018,
          2014,
          2010,
          2015,
          2013,
          2010,
          2009,
          2013,
          2010,
          2011,
          2011,
          2012,
          2012,
          2011,
          2018,
          2010,
          2019,
          2011,
          2013,
          2010,
          2010,
          2009,
          2017,
          2015,
          2016,
          2017,
          2015,
          2013,
          2012,
          2014,
          2009,
          2015,
          2019,
          2014,
          2016,
          2010,
          2008,
          2019,
          2014,
          2008,
          2010,
          2014,
          2012,
          2019,
          2018,
          2009,
          2012,
          2014,
          2009,
          2009,
          2009,
          2009,
          2017,
          2010,
          2013,
          2015,
          2015,
          2009,
          2010,
          2012,
          2016,
          2012,
          2014,
          2015,
          2019,
          2013,
          2014,
          2009,
          2014,
          2018,
          2011
         ],
         "x0": " ",
         "xaxis": "x",
         "y": [
          10950,
          9950,
          16800,
          14770,
          8950,
          9900,
          13990,
          17500,
          26900,
          15500,
          8950,
          15190,
          14970,
          16990,
          8999,
          7000,
          15500,
          11550,
          10999,
          18000,
          12700,
          8495,
          23950,
          14450,
          13750,
          5800,
          28500,
          19700,
          9550,
          10900,
          9700,
          14990,
          8499,
          15990,
          11300,
          11000,
          7990,
          14990,
          9750,
          23900,
          8950,
          8450,
          7990,
          10800,
          8900,
          12800,
          10500,
          16600,
          11300,
          11200,
          7600,
          8400,
          13791,
          24990,
          13000,
          5990,
          8100,
          11900,
          10700,
          34500,
          25200,
          14500,
          11450,
          9400,
          10999,
          9495,
          9900,
          8490,
          9490,
          10750,
          45000,
          7200,
          8950,
          7950,
          7100,
          4840,
          17500,
          7999,
          8500,
          14000,
          28900,
          17800,
          12800,
          12990,
          9200,
          11990,
          12790,
          29300,
          32990,
          10600,
          9450,
          17600,
          14800,
          13200,
          13950,
          11550,
          13800,
          7200,
          8000,
          12500,
          8490,
          22500,
          8500,
          9200,
          10399,
          14440,
          36950,
          11000,
          10950,
          30990,
          9400,
          14990,
          12999,
          8990,
          14500,
          12950,
          13750,
          13950,
          12000,
          8600,
          7200,
          12550,
          16490,
          8570,
          8690,
          8990,
          10700,
          14900,
          12500,
          21500,
          10990,
          10990,
          9990,
          8300,
          14600,
          9990,
          14000,
          19900,
          11750,
          10499,
          14900,
          15500,
          9650,
          37990,
          29900,
          6900,
          10900,
          9950,
          8950,
          19440,
          19300,
          32950,
          40990,
          13000,
          11050,
          17800,
          10950,
          9990,
          11490,
          32500,
          14990,
          32700,
          8200,
          9000,
          13900,
          10900,
          14500,
          22500,
          19800,
          16300,
          6000,
          17000,
          8900,
          16550,
          27800,
          18800,
          17900,
          23900,
          14800,
          7600,
          14990,
          9990,
          17500,
          24900,
          12200,
          8900,
          8500,
          9700,
          8550,
          7490,
          9995,
          9000,
          14900,
          31900,
          10590,
          15950,
          12000,
          39990,
          8599,
          41990,
          7150,
          9990,
          13000,
          14950,
          9290,
          29790,
          23800,
          16010,
          13490,
          8595,
          42200,
          7500,
          21500,
          12450,
          8300,
          15770,
          6550,
          33500,
          10500,
          10500,
          23800,
          10200,
          15450,
          7000,
          15650,
          7200,
          15800,
          7200,
          7900,
          14250,
          9990,
          10470,
          13300,
          15500,
          14850,
          21500,
          9650,
          20600,
          12500,
          17500,
          16900,
          9000,
          7500,
          36500,
          16500,
          13500,
          11050,
          15750,
          25900,
          18000,
          10550,
          10800,
          15990,
          7700,
          8000,
          11000,
          7550,
          9600,
          10200,
          8900,
          9400,
          12400,
          35900,
          7500,
          23900,
          9995,
          11990,
          8400,
          9200,
          9650,
          18800,
          19700,
          18400,
          18300,
          19430,
          15500,
          9333,
          12990,
          7995,
          15800,
          33900,
          16900,
          15990,
          6500,
          8300,
          21300,
          17300,
          8800,
          9400,
          15900,
          7300,
          43900,
          19500,
          9990,
          11950,
          15300,
          9300,
          6800,
          8900,
          7400,
          23290,
          8800,
          12800,
          16700,
          12000,
          9890,
          7300,
          11999,
          16600,
          10300,
          14350,
          14500,
          28850,
          10900,
          12000,
          6650,
          13800,
          16900,
          8950
         ],
         "y0": " ",
         "yaxis": "y"
        }
       ],
       "layout": {
        "boxmode": "group",
        "legend": {
         "tracegroupgap": 0
        },
        "margin": {
         "t": 60
        },
        "template": {
         "data": {
          "bar": [
           {
            "error_x": {
             "color": "#2a3f5f"
            },
            "error_y": {
             "color": "#2a3f5f"
            },
            "marker": {
             "line": {
              "color": "#E5ECF6",
              "width": 0.5
             },
             "pattern": {
              "fillmode": "overlay",
              "size": 10,
              "solidity": 0.2
             }
            },
            "type": "bar"
           }
          ],
          "barpolar": [
           {
            "marker": {
             "line": {
              "color": "#E5ECF6",
              "width": 0.5
             },
             "pattern": {
              "fillmode": "overlay",
              "size": 10,
              "solidity": 0.2
             }
            },
            "type": "barpolar"
           }
          ],
          "carpet": [
           {
            "aaxis": {
             "endlinecolor": "#2a3f5f",
             "gridcolor": "white",
             "linecolor": "white",
             "minorgridcolor": "white",
             "startlinecolor": "#2a3f5f"
            },
            "baxis": {
             "endlinecolor": "#2a3f5f",
             "gridcolor": "white",
             "linecolor": "white",
             "minorgridcolor": "white",
             "startlinecolor": "#2a3f5f"
            },
            "type": "carpet"
           }
          ],
          "choropleth": [
           {
            "colorbar": {
             "outlinewidth": 0,
             "ticks": ""
            },
            "type": "choropleth"
           }
          ],
          "contour": [
           {
            "colorbar": {
             "outlinewidth": 0,
             "ticks": ""
            },
            "colorscale": [
             [
              0,
              "#0d0887"
             ],
             [
              0.1111111111111111,
              "#46039f"
             ],
             [
              0.2222222222222222,
              "#7201a8"
             ],
             [
              0.3333333333333333,
              "#9c179e"
             ],
             [
              0.4444444444444444,
              "#bd3786"
             ],
             [
              0.5555555555555556,
              "#d8576b"
             ],
             [
              0.6666666666666666,
              "#ed7953"
             ],
             [
              0.7777777777777778,
              "#fb9f3a"
             ],
             [
              0.8888888888888888,
              "#fdca26"
             ],
             [
              1,
              "#f0f921"
             ]
            ],
            "type": "contour"
           }
          ],
          "contourcarpet": [
           {
            "colorbar": {
             "outlinewidth": 0,
             "ticks": ""
            },
            "type": "contourcarpet"
           }
          ],
          "heatmap": [
           {
            "colorbar": {
             "outlinewidth": 0,
             "ticks": ""
            },
            "colorscale": [
             [
              0,
              "#0d0887"
             ],
             [
              0.1111111111111111,
              "#46039f"
             ],
             [
              0.2222222222222222,
              "#7201a8"
             ],
             [
              0.3333333333333333,
              "#9c179e"
             ],
             [
              0.4444444444444444,
              "#bd3786"
             ],
             [
              0.5555555555555556,
              "#d8576b"
             ],
             [
              0.6666666666666666,
              "#ed7953"
             ],
             [
              0.7777777777777778,
              "#fb9f3a"
             ],
             [
              0.8888888888888888,
              "#fdca26"
             ],
             [
              1,
              "#f0f921"
             ]
            ],
            "type": "heatmap"
           }
          ],
          "heatmapgl": [
           {
            "colorbar": {
             "outlinewidth": 0,
             "ticks": ""
            },
            "colorscale": [
             [
              0,
              "#0d0887"
             ],
             [
              0.1111111111111111,
              "#46039f"
             ],
             [
              0.2222222222222222,
              "#7201a8"
             ],
             [
              0.3333333333333333,
              "#9c179e"
             ],
             [
              0.4444444444444444,
              "#bd3786"
             ],
             [
              0.5555555555555556,
              "#d8576b"
             ],
             [
              0.6666666666666666,
              "#ed7953"
             ],
             [
              0.7777777777777778,
              "#fb9f3a"
             ],
             [
              0.8888888888888888,
              "#fdca26"
             ],
             [
              1,
              "#f0f921"
             ]
            ],
            "type": "heatmapgl"
           }
          ],
          "histogram": [
           {
            "marker": {
             "pattern": {
              "fillmode": "overlay",
              "size": 10,
              "solidity": 0.2
             }
            },
            "type": "histogram"
           }
          ],
          "histogram2d": [
           {
            "colorbar": {
             "outlinewidth": 0,
             "ticks": ""
            },
            "colorscale": [
             [
              0,
              "#0d0887"
             ],
             [
              0.1111111111111111,
              "#46039f"
             ],
             [
              0.2222222222222222,
              "#7201a8"
             ],
             [
              0.3333333333333333,
              "#9c179e"
             ],
             [
              0.4444444444444444,
              "#bd3786"
             ],
             [
              0.5555555555555556,
              "#d8576b"
             ],
             [
              0.6666666666666666,
              "#ed7953"
             ],
             [
              0.7777777777777778,
              "#fb9f3a"
             ],
             [
              0.8888888888888888,
              "#fdca26"
             ],
             [
              1,
              "#f0f921"
             ]
            ],
            "type": "histogram2d"
           }
          ],
          "histogram2dcontour": [
           {
            "colorbar": {
             "outlinewidth": 0,
             "ticks": ""
            },
            "colorscale": [
             [
              0,
              "#0d0887"
             ],
             [
              0.1111111111111111,
              "#46039f"
             ],
             [
              0.2222222222222222,
              "#7201a8"
             ],
             [
              0.3333333333333333,
              "#9c179e"
             ],
             [
              0.4444444444444444,
              "#bd3786"
             ],
             [
              0.5555555555555556,
              "#d8576b"
             ],
             [
              0.6666666666666666,
              "#ed7953"
             ],
             [
              0.7777777777777778,
              "#fb9f3a"
             ],
             [
              0.8888888888888888,
              "#fdca26"
             ],
             [
              1,
              "#f0f921"
             ]
            ],
            "type": "histogram2dcontour"
           }
          ],
          "mesh3d": [
           {
            "colorbar": {
             "outlinewidth": 0,
             "ticks": ""
            },
            "type": "mesh3d"
           }
          ],
          "parcoords": [
           {
            "line": {
             "colorbar": {
              "outlinewidth": 0,
              "ticks": ""
             }
            },
            "type": "parcoords"
           }
          ],
          "pie": [
           {
            "automargin": true,
            "type": "pie"
           }
          ],
          "scatter": [
           {
            "fillpattern": {
             "fillmode": "overlay",
             "size": 10,
             "solidity": 0.2
            },
            "type": "scatter"
           }
          ],
          "scatter3d": [
           {
            "line": {
             "colorbar": {
              "outlinewidth": 0,
              "ticks": ""
             }
            },
            "marker": {
             "colorbar": {
              "outlinewidth": 0,
              "ticks": ""
             }
            },
            "type": "scatter3d"
           }
          ],
          "scattercarpet": [
           {
            "marker": {
             "colorbar": {
              "outlinewidth": 0,
              "ticks": ""
             }
            },
            "type": "scattercarpet"
           }
          ],
          "scattergeo": [
           {
            "marker": {
             "colorbar": {
              "outlinewidth": 0,
              "ticks": ""
             }
            },
            "type": "scattergeo"
           }
          ],
          "scattergl": [
           {
            "marker": {
             "colorbar": {
              "outlinewidth": 0,
              "ticks": ""
             }
            },
            "type": "scattergl"
           }
          ],
          "scattermapbox": [
           {
            "marker": {
             "colorbar": {
              "outlinewidth": 0,
              "ticks": ""
             }
            },
            "type": "scattermapbox"
           }
          ],
          "scatterpolar": [
           {
            "marker": {
             "colorbar": {
              "outlinewidth": 0,
              "ticks": ""
             }
            },
            "type": "scatterpolar"
           }
          ],
          "scatterpolargl": [
           {
            "marker": {
             "colorbar": {
              "outlinewidth": 0,
              "ticks": ""
             }
            },
            "type": "scatterpolargl"
           }
          ],
          "scatterternary": [
           {
            "marker": {
             "colorbar": {
              "outlinewidth": 0,
              "ticks": ""
             }
            },
            "type": "scatterternary"
           }
          ],
          "surface": [
           {
            "colorbar": {
             "outlinewidth": 0,
             "ticks": ""
            },
            "colorscale": [
             [
              0,
              "#0d0887"
             ],
             [
              0.1111111111111111,
              "#46039f"
             ],
             [
              0.2222222222222222,
              "#7201a8"
             ],
             [
              0.3333333333333333,
              "#9c179e"
             ],
             [
              0.4444444444444444,
              "#bd3786"
             ],
             [
              0.5555555555555556,
              "#d8576b"
             ],
             [
              0.6666666666666666,
              "#ed7953"
             ],
             [
              0.7777777777777778,
              "#fb9f3a"
             ],
             [
              0.8888888888888888,
              "#fdca26"
             ],
             [
              1,
              "#f0f921"
             ]
            ],
            "type": "surface"
           }
          ],
          "table": [
           {
            "cells": {
             "fill": {
              "color": "#EBF0F8"
             },
             "line": {
              "color": "white"
             }
            },
            "header": {
             "fill": {
              "color": "#C8D4E3"
             },
             "line": {
              "color": "white"
             }
            },
            "type": "table"
           }
          ]
         },
         "layout": {
          "annotationdefaults": {
           "arrowcolor": "#2a3f5f",
           "arrowhead": 0,
           "arrowwidth": 1
          },
          "autotypenumbers": "strict",
          "coloraxis": {
           "colorbar": {
            "outlinewidth": 0,
            "ticks": ""
           }
          },
          "colorscale": {
           "diverging": [
            [
             0,
             "#8e0152"
            ],
            [
             0.1,
             "#c51b7d"
            ],
            [
             0.2,
             "#de77ae"
            ],
            [
             0.3,
             "#f1b6da"
            ],
            [
             0.4,
             "#fde0ef"
            ],
            [
             0.5,
             "#f7f7f7"
            ],
            [
             0.6,
             "#e6f5d0"
            ],
            [
             0.7,
             "#b8e186"
            ],
            [
             0.8,
             "#7fbc41"
            ],
            [
             0.9,
             "#4d9221"
            ],
            [
             1,
             "#276419"
            ]
           ],
           "sequential": [
            [
             0,
             "#0d0887"
            ],
            [
             0.1111111111111111,
             "#46039f"
            ],
            [
             0.2222222222222222,
             "#7201a8"
            ],
            [
             0.3333333333333333,
             "#9c179e"
            ],
            [
             0.4444444444444444,
             "#bd3786"
            ],
            [
             0.5555555555555556,
             "#d8576b"
            ],
            [
             0.6666666666666666,
             "#ed7953"
            ],
            [
             0.7777777777777778,
             "#fb9f3a"
            ],
            [
             0.8888888888888888,
             "#fdca26"
            ],
            [
             1,
             "#f0f921"
            ]
           ],
           "sequentialminus": [
            [
             0,
             "#0d0887"
            ],
            [
             0.1111111111111111,
             "#46039f"
            ],
            [
             0.2222222222222222,
             "#7201a8"
            ],
            [
             0.3333333333333333,
             "#9c179e"
            ],
            [
             0.4444444444444444,
             "#bd3786"
            ],
            [
             0.5555555555555556,
             "#d8576b"
            ],
            [
             0.6666666666666666,
             "#ed7953"
            ],
            [
             0.7777777777777778,
             "#fb9f3a"
            ],
            [
             0.8888888888888888,
             "#fdca26"
            ],
            [
             1,
             "#f0f921"
            ]
           ]
          },
          "colorway": [
           "#636efa",
           "#EF553B",
           "#00cc96",
           "#ab63fa",
           "#FFA15A",
           "#19d3f3",
           "#FF6692",
           "#B6E880",
           "#FF97FF",
           "#FECB52"
          ],
          "font": {
           "color": "#2a3f5f"
          },
          "geo": {
           "bgcolor": "white",
           "lakecolor": "white",
           "landcolor": "#E5ECF6",
           "showlakes": true,
           "showland": true,
           "subunitcolor": "white"
          },
          "hoverlabel": {
           "align": "left"
          },
          "hovermode": "closest",
          "mapbox": {
           "style": "light"
          },
          "paper_bgcolor": "white",
          "plot_bgcolor": "#E5ECF6",
          "polar": {
           "angularaxis": {
            "gridcolor": "white",
            "linecolor": "white",
            "ticks": ""
           },
           "bgcolor": "#E5ECF6",
           "radialaxis": {
            "gridcolor": "white",
            "linecolor": "white",
            "ticks": ""
           }
          },
          "scene": {
           "xaxis": {
            "backgroundcolor": "#E5ECF6",
            "gridcolor": "white",
            "gridwidth": 2,
            "linecolor": "white",
            "showbackground": true,
            "ticks": "",
            "zerolinecolor": "white"
           },
           "yaxis": {
            "backgroundcolor": "#E5ECF6",
            "gridcolor": "white",
            "gridwidth": 2,
            "linecolor": "white",
            "showbackground": true,
            "ticks": "",
            "zerolinecolor": "white"
           },
           "zaxis": {
            "backgroundcolor": "#E5ECF6",
            "gridcolor": "white",
            "gridwidth": 2,
            "linecolor": "white",
            "showbackground": true,
            "ticks": "",
            "zerolinecolor": "white"
           }
          },
          "shapedefaults": {
           "line": {
            "color": "#2a3f5f"
           }
          },
          "ternary": {
           "aaxis": {
            "gridcolor": "white",
            "linecolor": "white",
            "ticks": ""
           },
           "baxis": {
            "gridcolor": "white",
            "linecolor": "white",
            "ticks": ""
           },
           "bgcolor": "#E5ECF6",
           "caxis": {
            "gridcolor": "white",
            "linecolor": "white",
            "ticks": ""
           }
          },
          "title": {
           "x": 0.05
          },
          "xaxis": {
           "automargin": true,
           "gridcolor": "white",
           "linecolor": "white",
           "ticks": "",
           "title": {
            "standoff": 15
           },
           "zerolinecolor": "white",
           "zerolinewidth": 2
          },
          "yaxis": {
           "automargin": true,
           "gridcolor": "white",
           "linecolor": "white",
           "ticks": "",
           "title": {
            "standoff": 15
           },
           "zerolinecolor": "white",
           "zerolinewidth": 2
          }
         }
        },
        "title": {
         "text": "XC 60 cars prices by year"
        },
        "xaxis": {
         "anchor": "y",
         "domain": [
          0,
          1
         ],
         "title": {
          "text": "Year"
         }
        },
        "yaxis": {
         "anchor": "x",
         "domain": [
          0,
          1
         ],
         "title": {
          "text": "Price"
         }
        }
       }
      }
     },
     "metadata": {},
     "output_type": "display_data"
    }
   ],
   "source": [
    "xc60 = plot_model_prices(df, \"XC 60\")"
   ]
  },
  {
   "cell_type": "code",
   "execution_count": 48,
   "metadata": {},
   "outputs": [
    {
     "data": {
      "application/vnd.plotly.v1+json": {
       "config": {
        "plotlyServerURL": "https://plot.ly"
       },
       "data": [
        {
         "alignmentgroup": "True",
         "hovertemplate": "Year=%{x}<br>Price=%{y}<extra></extra>",
         "legendgroup": "",
         "marker": {
          "color": "#636efa"
         },
         "name": "",
         "notched": false,
         "offsetgroup": "",
         "orientation": "v",
         "showlegend": false,
         "type": "box",
         "x": [
          2008,
          2003,
          2010,
          2016,
          2010,
          2006,
          2018,
          2018,
          2019,
          2006,
          2008,
          2008,
          2010,
          2004,
          2011,
          2006,
          2018,
          2006,
          2006,
          2007,
          2007,
          2003,
          2003,
          2016,
          2007,
          2019,
          2009,
          2009,
          2020,
          2007,
          2008,
          2007,
          2005,
          2009,
          2005,
          2006,
          2011,
          2005,
          2019,
          2012,
          2003,
          2004,
          2009,
          2004,
          2006,
          2006,
          2008,
          2007,
          2012,
          2005,
          2007,
          2015,
          2007,
          2007,
          2009,
          2019,
          2007,
          2006,
          2019,
          2021,
          2008,
          2011,
          2009,
          2006,
          2008,
          2006,
          2015,
          2009,
          2009,
          2018,
          2007,
          2004,
          2008,
          2008,
          2014,
          2017,
          2008,
          2006,
          2005,
          2016,
          2005,
          2005,
          2020,
          2010,
          2015,
          2007,
          2007,
          2011,
          2020,
          2020,
          2008,
          2007,
          2009,
          2022,
          2009,
          2006,
          2006,
          2019,
          2007,
          2007,
          2017,
          2008,
          2007,
          2012,
          2006,
          2006,
          2014,
          2008,
          2008,
          2006,
          2015,
          2006,
          2004,
          2018,
          2018,
          2008,
          2011,
          2005,
          2009,
          2008,
          2004,
          2006,
          2004,
          2005,
          2008,
          2005,
          2007,
          2006,
          2007,
          2004,
          2006,
          2007,
          2004,
          2007,
          2006,
          2019,
          2019,
          2018,
          2018,
          2010,
          2014,
          2010,
          2019,
          2021,
          2015,
          2008,
          2007,
          2006,
          2016,
          2005,
          2004,
          2006,
          2011,
          2006,
          2017,
          2019,
          2013,
          2013,
          2006,
          2019,
          2006,
          2006,
          2006,
          2009,
          2007,
          2011,
          2018,
          2015,
          2007,
          2010,
          2006,
          2006,
          2005,
          2005,
          2017,
          2006,
          2016,
          2007,
          2003,
          2009,
          2004,
          2004,
          2011,
          2011,
          2003,
          2009,
          2018,
          2005,
          2007,
          2007,
          2007,
          2007,
          2016,
          2023,
          2011,
          2015,
          2006,
          2007,
          2019,
          2009,
          2009,
          2005,
          2007,
          2013,
          2007,
          2006,
          2006,
          2011,
          2012,
          2004,
          2005,
          2020,
          2020,
          2020,
          2006,
          2007,
          2007,
          2006,
          2011,
          2007,
          2007,
          2008,
          2015,
          2016,
          2009,
          2009,
          2016,
          2004,
          2004,
          2006,
          2009,
          2005,
          2016,
          2004,
          2006,
          2007,
          2016,
          2020,
          2019,
          2009,
          2009,
          2008,
          2023,
          2007,
          2004,
          2018,
          2019,
          2016,
          2008,
          2017,
          2008,
          2006
         ],
         "x0": " ",
         "xaxis": "x",
         "y": [
          6996,
          4400,
          7000,
          36000,
          9800,
          7750,
          27500,
          29900,
          38000,
          4550,
          5490,
          7500,
          10700,
          2599,
          10990,
          6800,
          25995,
          6490,
          3500,
          7850,
          6490,
          3650,
          3000,
          28900,
          8800,
          35000,
          7890,
          6700,
          42350,
          3800,
          8500,
          5800,
          5500,
          5995,
          5000,
          4550,
          10290,
          4450,
          40490,
          10990,
          5199,
          5200,
          7990,
          3850,
          4300,
          8200,
          7580,
          8200,
          7990,
          2990,
          7100,
          22500,
          7650,
          4800,
          8180,
          28900,
          6500,
          6600,
          36800,
          54000,
          9990,
          10390,
          7400,
          6300,
          7800,
          7750,
          16800,
          9350,
          6499,
          43400,
          7700,
          4999,
          7500,
          9850,
          15400,
          25499,
          5995,
          5995,
          4995,
          22850,
          5400,
          4200,
          41900,
          7750,
          24400,
          7290,
          5950,
          10899,
          39950,
          44900,
          6290,
          8545,
          8500,
          51000,
          8636,
          5800,
          4500,
          28790,
          7490,
          6490,
          25990,
          7350,
          7850,
          12200,
          7400,
          5950,
          14600,
          7890,
          7990,
          5400,
          27990,
          5900,
          5650,
          32350,
          30000,
          6700,
          12500,
          6100,
          6950,
          7800,
          2900,
          2900,
          5200,
          5000,
          6690,
          5650,
          5900,
          7100,
          7690,
          3400,
          5250,
          4550,
          5290,
          8300,
          6200,
          37500,
          38600,
          33200,
          36000,
          9300,
          15200,
          11800,
          40400,
          51900,
          26450,
          8300,
          4900,
          4500,
          23350,
          4900,
          3000,
          6990,
          11470,
          7200,
          21700,
          37000,
          13000,
          14000,
          4990,
          34500,
          5400,
          5950,
          6999,
          6100,
          6350,
          8200,
          29999,
          17500,
          5990,
          9950,
          5250,
          4990,
          7650,
          3900,
          25950,
          5800,
          27500,
          8500,
          1900,
          7990,
          5300,
          3650,
          11950,
          10500,
          3100,
          9350,
          27500,
          3950,
          6200,
          6200,
          5500,
          7000,
          28800,
          58900,
          10790,
          29200,
          5400,
          6100,
          34900,
          8600,
          8650,
          4600,
          4795,
          13990,
          8550,
          7500,
          5600,
          9800,
          11250,
          3999,
          3500,
          39490,
          37190,
          43490,
          3300,
          8650,
          7300,
          5950,
          5000,
          6990,
          6790,
          5200,
          22900,
          22500,
          10500,
          9300,
          27000,
          3000,
          4699,
          5450,
          8390,
          4200,
          31500,
          4900,
          5600,
          6880,
          29000,
          42990,
          34990,
          7300,
          9470,
          5600,
          55000,
          7600,
          5500,
          28990,
          32500,
          28950,
          7850,
          27500,
          7500,
          6400
         ],
         "y0": " ",
         "yaxis": "y"
        }
       ],
       "layout": {
        "boxmode": "group",
        "legend": {
         "tracegroupgap": 0
        },
        "margin": {
         "t": 60
        },
        "template": {
         "data": {
          "bar": [
           {
            "error_x": {
             "color": "#2a3f5f"
            },
            "error_y": {
             "color": "#2a3f5f"
            },
            "marker": {
             "line": {
              "color": "#E5ECF6",
              "width": 0.5
             },
             "pattern": {
              "fillmode": "overlay",
              "size": 10,
              "solidity": 0.2
             }
            },
            "type": "bar"
           }
          ],
          "barpolar": [
           {
            "marker": {
             "line": {
              "color": "#E5ECF6",
              "width": 0.5
             },
             "pattern": {
              "fillmode": "overlay",
              "size": 10,
              "solidity": 0.2
             }
            },
            "type": "barpolar"
           }
          ],
          "carpet": [
           {
            "aaxis": {
             "endlinecolor": "#2a3f5f",
             "gridcolor": "white",
             "linecolor": "white",
             "minorgridcolor": "white",
             "startlinecolor": "#2a3f5f"
            },
            "baxis": {
             "endlinecolor": "#2a3f5f",
             "gridcolor": "white",
             "linecolor": "white",
             "minorgridcolor": "white",
             "startlinecolor": "#2a3f5f"
            },
            "type": "carpet"
           }
          ],
          "choropleth": [
           {
            "colorbar": {
             "outlinewidth": 0,
             "ticks": ""
            },
            "type": "choropleth"
           }
          ],
          "contour": [
           {
            "colorbar": {
             "outlinewidth": 0,
             "ticks": ""
            },
            "colorscale": [
             [
              0,
              "#0d0887"
             ],
             [
              0.1111111111111111,
              "#46039f"
             ],
             [
              0.2222222222222222,
              "#7201a8"
             ],
             [
              0.3333333333333333,
              "#9c179e"
             ],
             [
              0.4444444444444444,
              "#bd3786"
             ],
             [
              0.5555555555555556,
              "#d8576b"
             ],
             [
              0.6666666666666666,
              "#ed7953"
             ],
             [
              0.7777777777777778,
              "#fb9f3a"
             ],
             [
              0.8888888888888888,
              "#fdca26"
             ],
             [
              1,
              "#f0f921"
             ]
            ],
            "type": "contour"
           }
          ],
          "contourcarpet": [
           {
            "colorbar": {
             "outlinewidth": 0,
             "ticks": ""
            },
            "type": "contourcarpet"
           }
          ],
          "heatmap": [
           {
            "colorbar": {
             "outlinewidth": 0,
             "ticks": ""
            },
            "colorscale": [
             [
              0,
              "#0d0887"
             ],
             [
              0.1111111111111111,
              "#46039f"
             ],
             [
              0.2222222222222222,
              "#7201a8"
             ],
             [
              0.3333333333333333,
              "#9c179e"
             ],
             [
              0.4444444444444444,
              "#bd3786"
             ],
             [
              0.5555555555555556,
              "#d8576b"
             ],
             [
              0.6666666666666666,
              "#ed7953"
             ],
             [
              0.7777777777777778,
              "#fb9f3a"
             ],
             [
              0.8888888888888888,
              "#fdca26"
             ],
             [
              1,
              "#f0f921"
             ]
            ],
            "type": "heatmap"
           }
          ],
          "heatmapgl": [
           {
            "colorbar": {
             "outlinewidth": 0,
             "ticks": ""
            },
            "colorscale": [
             [
              0,
              "#0d0887"
             ],
             [
              0.1111111111111111,
              "#46039f"
             ],
             [
              0.2222222222222222,
              "#7201a8"
             ],
             [
              0.3333333333333333,
              "#9c179e"
             ],
             [
              0.4444444444444444,
              "#bd3786"
             ],
             [
              0.5555555555555556,
              "#d8576b"
             ],
             [
              0.6666666666666666,
              "#ed7953"
             ],
             [
              0.7777777777777778,
              "#fb9f3a"
             ],
             [
              0.8888888888888888,
              "#fdca26"
             ],
             [
              1,
              "#f0f921"
             ]
            ],
            "type": "heatmapgl"
           }
          ],
          "histogram": [
           {
            "marker": {
             "pattern": {
              "fillmode": "overlay",
              "size": 10,
              "solidity": 0.2
             }
            },
            "type": "histogram"
           }
          ],
          "histogram2d": [
           {
            "colorbar": {
             "outlinewidth": 0,
             "ticks": ""
            },
            "colorscale": [
             [
              0,
              "#0d0887"
             ],
             [
              0.1111111111111111,
              "#46039f"
             ],
             [
              0.2222222222222222,
              "#7201a8"
             ],
             [
              0.3333333333333333,
              "#9c179e"
             ],
             [
              0.4444444444444444,
              "#bd3786"
             ],
             [
              0.5555555555555556,
              "#d8576b"
             ],
             [
              0.6666666666666666,
              "#ed7953"
             ],
             [
              0.7777777777777778,
              "#fb9f3a"
             ],
             [
              0.8888888888888888,
              "#fdca26"
             ],
             [
              1,
              "#f0f921"
             ]
            ],
            "type": "histogram2d"
           }
          ],
          "histogram2dcontour": [
           {
            "colorbar": {
             "outlinewidth": 0,
             "ticks": ""
            },
            "colorscale": [
             [
              0,
              "#0d0887"
             ],
             [
              0.1111111111111111,
              "#46039f"
             ],
             [
              0.2222222222222222,
              "#7201a8"
             ],
             [
              0.3333333333333333,
              "#9c179e"
             ],
             [
              0.4444444444444444,
              "#bd3786"
             ],
             [
              0.5555555555555556,
              "#d8576b"
             ],
             [
              0.6666666666666666,
              "#ed7953"
             ],
             [
              0.7777777777777778,
              "#fb9f3a"
             ],
             [
              0.8888888888888888,
              "#fdca26"
             ],
             [
              1,
              "#f0f921"
             ]
            ],
            "type": "histogram2dcontour"
           }
          ],
          "mesh3d": [
           {
            "colorbar": {
             "outlinewidth": 0,
             "ticks": ""
            },
            "type": "mesh3d"
           }
          ],
          "parcoords": [
           {
            "line": {
             "colorbar": {
              "outlinewidth": 0,
              "ticks": ""
             }
            },
            "type": "parcoords"
           }
          ],
          "pie": [
           {
            "automargin": true,
            "type": "pie"
           }
          ],
          "scatter": [
           {
            "fillpattern": {
             "fillmode": "overlay",
             "size": 10,
             "solidity": 0.2
            },
            "type": "scatter"
           }
          ],
          "scatter3d": [
           {
            "line": {
             "colorbar": {
              "outlinewidth": 0,
              "ticks": ""
             }
            },
            "marker": {
             "colorbar": {
              "outlinewidth": 0,
              "ticks": ""
             }
            },
            "type": "scatter3d"
           }
          ],
          "scattercarpet": [
           {
            "marker": {
             "colorbar": {
              "outlinewidth": 0,
              "ticks": ""
             }
            },
            "type": "scattercarpet"
           }
          ],
          "scattergeo": [
           {
            "marker": {
             "colorbar": {
              "outlinewidth": 0,
              "ticks": ""
             }
            },
            "type": "scattergeo"
           }
          ],
          "scattergl": [
           {
            "marker": {
             "colorbar": {
              "outlinewidth": 0,
              "ticks": ""
             }
            },
            "type": "scattergl"
           }
          ],
          "scattermapbox": [
           {
            "marker": {
             "colorbar": {
              "outlinewidth": 0,
              "ticks": ""
             }
            },
            "type": "scattermapbox"
           }
          ],
          "scatterpolar": [
           {
            "marker": {
             "colorbar": {
              "outlinewidth": 0,
              "ticks": ""
             }
            },
            "type": "scatterpolar"
           }
          ],
          "scatterpolargl": [
           {
            "marker": {
             "colorbar": {
              "outlinewidth": 0,
              "ticks": ""
             }
            },
            "type": "scatterpolargl"
           }
          ],
          "scatterternary": [
           {
            "marker": {
             "colorbar": {
              "outlinewidth": 0,
              "ticks": ""
             }
            },
            "type": "scatterternary"
           }
          ],
          "surface": [
           {
            "colorbar": {
             "outlinewidth": 0,
             "ticks": ""
            },
            "colorscale": [
             [
              0,
              "#0d0887"
             ],
             [
              0.1111111111111111,
              "#46039f"
             ],
             [
              0.2222222222222222,
              "#7201a8"
             ],
             [
              0.3333333333333333,
              "#9c179e"
             ],
             [
              0.4444444444444444,
              "#bd3786"
             ],
             [
              0.5555555555555556,
              "#d8576b"
             ],
             [
              0.6666666666666666,
              "#ed7953"
             ],
             [
              0.7777777777777778,
              "#fb9f3a"
             ],
             [
              0.8888888888888888,
              "#fdca26"
             ],
             [
              1,
              "#f0f921"
             ]
            ],
            "type": "surface"
           }
          ],
          "table": [
           {
            "cells": {
             "fill": {
              "color": "#EBF0F8"
             },
             "line": {
              "color": "white"
             }
            },
            "header": {
             "fill": {
              "color": "#C8D4E3"
             },
             "line": {
              "color": "white"
             }
            },
            "type": "table"
           }
          ]
         },
         "layout": {
          "annotationdefaults": {
           "arrowcolor": "#2a3f5f",
           "arrowhead": 0,
           "arrowwidth": 1
          },
          "autotypenumbers": "strict",
          "coloraxis": {
           "colorbar": {
            "outlinewidth": 0,
            "ticks": ""
           }
          },
          "colorscale": {
           "diverging": [
            [
             0,
             "#8e0152"
            ],
            [
             0.1,
             "#c51b7d"
            ],
            [
             0.2,
             "#de77ae"
            ],
            [
             0.3,
             "#f1b6da"
            ],
            [
             0.4,
             "#fde0ef"
            ],
            [
             0.5,
             "#f7f7f7"
            ],
            [
             0.6,
             "#e6f5d0"
            ],
            [
             0.7,
             "#b8e186"
            ],
            [
             0.8,
             "#7fbc41"
            ],
            [
             0.9,
             "#4d9221"
            ],
            [
             1,
             "#276419"
            ]
           ],
           "sequential": [
            [
             0,
             "#0d0887"
            ],
            [
             0.1111111111111111,
             "#46039f"
            ],
            [
             0.2222222222222222,
             "#7201a8"
            ],
            [
             0.3333333333333333,
             "#9c179e"
            ],
            [
             0.4444444444444444,
             "#bd3786"
            ],
            [
             0.5555555555555556,
             "#d8576b"
            ],
            [
             0.6666666666666666,
             "#ed7953"
            ],
            [
             0.7777777777777778,
             "#fb9f3a"
            ],
            [
             0.8888888888888888,
             "#fdca26"
            ],
            [
             1,
             "#f0f921"
            ]
           ],
           "sequentialminus": [
            [
             0,
             "#0d0887"
            ],
            [
             0.1111111111111111,
             "#46039f"
            ],
            [
             0.2222222222222222,
             "#7201a8"
            ],
            [
             0.3333333333333333,
             "#9c179e"
            ],
            [
             0.4444444444444444,
             "#bd3786"
            ],
            [
             0.5555555555555556,
             "#d8576b"
            ],
            [
             0.6666666666666666,
             "#ed7953"
            ],
            [
             0.7777777777777778,
             "#fb9f3a"
            ],
            [
             0.8888888888888888,
             "#fdca26"
            ],
            [
             1,
             "#f0f921"
            ]
           ]
          },
          "colorway": [
           "#636efa",
           "#EF553B",
           "#00cc96",
           "#ab63fa",
           "#FFA15A",
           "#19d3f3",
           "#FF6692",
           "#B6E880",
           "#FF97FF",
           "#FECB52"
          ],
          "font": {
           "color": "#2a3f5f"
          },
          "geo": {
           "bgcolor": "white",
           "lakecolor": "white",
           "landcolor": "#E5ECF6",
           "showlakes": true,
           "showland": true,
           "subunitcolor": "white"
          },
          "hoverlabel": {
           "align": "left"
          },
          "hovermode": "closest",
          "mapbox": {
           "style": "light"
          },
          "paper_bgcolor": "white",
          "plot_bgcolor": "#E5ECF6",
          "polar": {
           "angularaxis": {
            "gridcolor": "white",
            "linecolor": "white",
            "ticks": ""
           },
           "bgcolor": "#E5ECF6",
           "radialaxis": {
            "gridcolor": "white",
            "linecolor": "white",
            "ticks": ""
           }
          },
          "scene": {
           "xaxis": {
            "backgroundcolor": "#E5ECF6",
            "gridcolor": "white",
            "gridwidth": 2,
            "linecolor": "white",
            "showbackground": true,
            "ticks": "",
            "zerolinecolor": "white"
           },
           "yaxis": {
            "backgroundcolor": "#E5ECF6",
            "gridcolor": "white",
            "gridwidth": 2,
            "linecolor": "white",
            "showbackground": true,
            "ticks": "",
            "zerolinecolor": "white"
           },
           "zaxis": {
            "backgroundcolor": "#E5ECF6",
            "gridcolor": "white",
            "gridwidth": 2,
            "linecolor": "white",
            "showbackground": true,
            "ticks": "",
            "zerolinecolor": "white"
           }
          },
          "shapedefaults": {
           "line": {
            "color": "#2a3f5f"
           }
          },
          "ternary": {
           "aaxis": {
            "gridcolor": "white",
            "linecolor": "white",
            "ticks": ""
           },
           "baxis": {
            "gridcolor": "white",
            "linecolor": "white",
            "ticks": ""
           },
           "bgcolor": "#E5ECF6",
           "caxis": {
            "gridcolor": "white",
            "linecolor": "white",
            "ticks": ""
           }
          },
          "title": {
           "x": 0.05
          },
          "xaxis": {
           "automargin": true,
           "gridcolor": "white",
           "linecolor": "white",
           "ticks": "",
           "title": {
            "standoff": 15
           },
           "zerolinecolor": "white",
           "zerolinewidth": 2
          },
          "yaxis": {
           "automargin": true,
           "gridcolor": "white",
           "linecolor": "white",
           "ticks": "",
           "title": {
            "standoff": 15
           },
           "zerolinecolor": "white",
           "zerolinewidth": 2
          }
         }
        },
        "title": {
         "text": "XC 90 cars prices by year"
        },
        "xaxis": {
         "anchor": "y",
         "domain": [
          0,
          1
         ],
         "title": {
          "text": "Year"
         }
        },
        "yaxis": {
         "anchor": "x",
         "domain": [
          0,
          1
         ],
         "title": {
          "text": "Price"
         }
        }
       }
      }
     },
     "metadata": {},
     "output_type": "display_data"
    }
   ],
   "source": [
    "# now xc90 cars\n",
    "xc90 = plot_model_prices(df, \"XC 90\")"
   ]
  }
 ],
 "metadata": {
  "kernelspec": {
   "display_name": "venv312",
   "language": "python",
   "name": "python3"
  },
  "language_info": {
   "codemirror_mode": {
    "name": "ipython",
    "version": 3
   },
   "file_extension": ".py",
   "mimetype": "text/x-python",
   "name": "python",
   "nbconvert_exporter": "python",
   "pygments_lexer": "ipython3",
   "version": "3.12.3"
  }
 },
 "nbformat": 4,
 "nbformat_minor": 2
}
