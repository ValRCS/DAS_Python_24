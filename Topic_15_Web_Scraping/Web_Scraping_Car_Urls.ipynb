{
 "cells": [
  {
   "cell_type": "markdown",
   "metadata": {},
   "source": [
    "# Web scraping Car URLS"
   ]
  },
  {
   "cell_type": "code",
   "execution_count": 1,
   "metadata": {},
   "outputs": [],
   "source": [
    "# we will scrape urls from a website that are related to cars\n",
    "\n",
    "# Requests for handling HTTP get and other requests\n",
    "import requests\n",
    "import time # import for playing nice and not getting blocked\n",
    "import pandas as pd\n",
    "# from BeautifulSoup4 import BeatifulSoup if installed through pip install BeautifulSoup4\n",
    "# \n",
    "from bs4 import BeautifulSoup\n",
    "import plotly.express as px"
   ]
  },
  {
   "cell_type": "code",
   "execution_count": 2,
   "metadata": {},
   "outputs": [
    {
     "name": "stdout",
     "output_type": "stream",
     "text": [
      "200\n"
     ]
    }
   ],
   "source": [
    "url = \"https://www.ss.com/lv/transport/cars/\"\n",
    "response = requests.get(url)\n",
    "print(response.status_code)"
   ]
  },
  {
   "cell_type": "code",
   "execution_count": 4,
   "metadata": {},
   "outputs": [
    {
     "name": "stdout",
     "output_type": "stream",
     "text": [
      "<title>SS.COM Transports - Vieglie auto - Sludinājumi</title>\n"
     ]
    }
   ],
   "source": [
    "# first we parse the response with BeautifulSoup\n",
    "soup = BeautifulSoup(response.text, 'lxml')\n",
    "# title\n",
    "print(soup.title)"
   ]
  },
  {
   "cell_type": "code",
   "execution_count": 5,
   "metadata": {},
   "outputs": [
    {
     "name": "stdout",
     "output_type": "stream",
     "text": [
      "<table align=\"center\" border=\"0\" cellpadding=\"0\" cellspacing=\"0\" style=\"padding-left:1px;\" width=\"100%\"><tr>\n",
      "<td align=\"left\" nowrap=\"\" valign=\"top\" width=\"25%\">\n",
      "<table border=\"0\" cellpadding=\"0\" cellspacing=\"0\">\n",
      "<tr><td align=\"left\" nowrap=\"\"><h4 class=\"category\" id=\"sc_99\"><a class=\"a_category\" href=\"/lv/transport/cars/alfa-romeo/\" id=\"ahc_99\" title=\"Alfa Romeo, Sludinājumi\">Alfa Romeo</a></h4>\n",
      "<h4 class=\"category\" id=\"sc_103\"><a class=\"a_category\" href=\"/lv/transport/cars/audi/\" id=\"ahc_103\" title=\"Audi, Sludinājumi\">Audi</a></h4>\n",
      "<h4 class=\"category\" id=\"sc_106\"><a class=\"a_category\" href=\"/lv/transport/cars/bmw/\" id=\"ahc_106\" title=\"BMW, Sludinājumi\">BMW</a></h4>\n",
      "<h4 class=\"category\" id=\"sc_110\"><a class=\"a_category\" href=\"/lv/transport/cars/chevrolet/\" id=\"ahc_110\" title=\"Chevrolet, Sludinājumi\">Chevrolet</a></h4>\n",
      "<h4 class=\"category\" id=\"sc_111\"><a class=\"a_category\" href=\"/lv/transport/cars/chrysler/\" id=\"ahc_111\" title=\"Chrysler, Sludinājumi\">Chrysler</a></h4>\n",
      "<h4 class=\"category\" id=\"sc_112\"><a class=\"a_category\" href=\"/lv/transport/cars/citroen/\" id=\"ahc_112\" title=\"Citroen, Sludinājumi\">Citroen</a></h4>\n",
      "<h4 class=\"category\" id=\"sc_292552\"><a class=\"a_category\" href=\"/lv/transport/cars/cupra/\" id=\"ahc_292552\" title=\"Cupra, Sludinājumi\">Cupra</a></h4>\n",
      "<h4 class=\"category\" id=\"sc_75068\"><a class=\"a_category\" href=\"/lv/transport/cars/dacia/\" id=\"ahc_75068\" title=\"Dacia, Sludinājumi\">Dacia</a></h4>\n",
      "<h4 class=\"category\" id=\"sc_116\"><a class=\"a_category\" href=\"/lv/transport/cars/dodge/\" id=\"ahc_116\" title=\"Dodge, Sludinājumi\">Dodge</a></h4>\n",
      "<h4 class=\"category\" id=\"sc_119\"><a class=\"a_category\" href=\"/lv/transport/cars/fiat/\" id=\"ahc_119\" title=\"Fiat, Sludinājumi\">Fiat</a></h4>\n",
      "<h4 class=\"category\" id=\"sc_120\"><a class=\"a_category\" href=\"/lv/transport/cars/ford/\" id=\"ahc_120\" title=\"Ford, Sludinājumi\">Ford</a></h4>\n",
      "<h4 class=\"category\" id=\"sc_123\"><a class=\"a_category\" href=\"/lv/transport/cars/honda/\" id=\"ahc_123\" title=\"Honda, Sludinājumi\">Honda</a></h4>\n",
      "<h4 class=\"category\" id=\"sc_124\"><a class=\"a_category\" href=\"/lv/transport/cars/hyundai/\" id=\"ahc_124\" title=\"Hyundai, Sludinājumi\">Hyundai</a></h4>\n",
      "<h4 class=\"category\" id=\"sc_125\"><a class=\"a_category\" href=\"/lv/transport/cars/infiniti/\" id=\"ahc_125\" title=\"Infiniti, Sludinājumi\">Infiniti</a></h4>\n",
      "</td></tr></table></td>\n",
      "<td align=\"center\" nowrap=\"\" valign=\"top\" width=\"25%\">\n",
      "<table border=\"0\" cellpadding=\"0\" cellspacing=\"0\">\n",
      "<tr><td align=\"left\" nowrap=\"\"><h4 class=\"category\" id=\"sc_127\"><a class=\"a_category\" href=\"/lv/transport/cars/jaguar/\" id=\"ahc_127\" title=\"Jaguar, Sludinājumi\">Jaguar</a></h4>\n",
      "<h4 class=\"category\" id=\"sc_128\"><a class=\"a_category\" href=\"/lv/transport/cars/jeep/\" id=\"ahc_128\" title=\"Jeep, Sludinājumi\">Jeep</a></h4>\n",
      "<h4 class=\"category\" id=\"sc_129\"><a class=\"a_category\" href=\"/lv/transport/cars/kia/\" id=\"ahc_129\" title=\"Kia, Sludinājumi\">Kia</a></h4>\n",
      "<h4 class=\"category\" id=\"sc_131\"><a class=\"a_category\" href=\"/lv/transport/cars/lancia/\" id=\"ahc_131\" title=\"Lancia, Sludinājumi\">Lancia</a></h4>\n",
      "<h4 class=\"category\" id=\"sc_132\"><a class=\"a_category\" href=\"/lv/transport/cars/land-rover/\" id=\"ahc_132\" title=\"Land Rover, Sludinājumi\">Land Rover</a></h4>\n",
      "<h4 class=\"category\" id=\"sc_133\"><a class=\"a_category\" href=\"/lv/transport/cars/lexus/\" id=\"ahc_133\" title=\"Lexus, Sludinājumi\">Lexus</a></h4>\n",
      "<h4 class=\"category\" id=\"sc_139\"><a class=\"a_category\" href=\"/lv/transport/cars/mazda/\" id=\"ahc_139\" title=\"Mazda, Sludinājumi\">Mazda</a></h4>\n",
      "<h4 class=\"category\" id=\"sc_140\"><a class=\"a_category\" href=\"/lv/transport/cars/mercedes/\" id=\"ahc_140\" title=\"Mercedes, Sludinājumi\">Mercedes</a></h4>\n",
      "<h4 class=\"category\" id=\"sc_143\"><a class=\"a_category\" href=\"/lv/transport/cars/mini/\" id=\"ahc_143\" title=\"Mini, Sludinājumi\">Mini</a></h4>\n",
      "<h4 class=\"category\" id=\"sc_144\"><a class=\"a_category\" href=\"/lv/transport/cars/mitsubishi/\" id=\"ahc_144\" title=\"Mitsubishi, Sludinājumi\">Mitsubishi</a></h4>\n",
      "<h4 class=\"category\" id=\"sc_146\"><a class=\"a_category\" href=\"/lv/transport/cars/nissan/\" id=\"ahc_146\" title=\"Nissan, Sludinājumi\">Nissan</a></h4>\n",
      "<h4 class=\"category\" id=\"sc_147\"><a class=\"a_category\" href=\"/lv/transport/cars/opel/\" id=\"ahc_147\" title=\"Opel, Sludinājumi\">Opel</a></h4>\n",
      "<h4 class=\"category\" id=\"sc_148\"><a class=\"a_category\" href=\"/lv/transport/cars/peugeot/\" id=\"ahc_148\" title=\"Peugeot, Sludinājumi\">Peugeot</a></h4>\n",
      "<h4 class=\"category\" id=\"sc_151\"><a class=\"a_category\" href=\"/lv/transport/cars/porsche/\" id=\"ahc_151\" title=\"Porsche, Sludinājumi\">Porsche</a></h4>\n",
      "</td></tr></table></td>\n",
      "<td align=\"center\" nowrap=\"\" valign=\"top\" width=\"25%\">\n",
      "<table border=\"0\" cellpadding=\"0\" cellspacing=\"0\">\n",
      "<tr><td align=\"left\" nowrap=\"\"><h4 class=\"category\" id=\"sc_153\"><a class=\"a_category\" href=\"/lv/transport/cars/renault/\" id=\"ahc_153\" title=\"Renault, Sludinājumi\">Renault</a></h4>\n",
      "<h4 class=\"category\" id=\"sc_156\"><a class=\"a_category\" href=\"/lv/transport/cars/saab/\" id=\"ahc_156\" title=\"Saab, Sludinājumi\">Saab</a></h4>\n",
      "<h4 class=\"category\" id=\"sc_157\"><a class=\"a_category\" href=\"/lv/transport/cars/seat/\" id=\"ahc_157\" title=\"Seat, Sludinājumi\">Seat</a></h4>\n",
      "<h4 class=\"category\" id=\"sc_158\"><a class=\"a_category\" href=\"/lv/transport/cars/skoda/\" id=\"ahc_158\" title=\"Skoda, Sludinājumi\">Skoda</a></h4>\n",
      "<h4 class=\"category\" id=\"sc_26891\"><a class=\"a_category\" href=\"/lv/transport/cars/smart/\" id=\"ahc_26891\" title=\"Smart, Sludinājumi\">Smart</a></h4>\n",
      "<h4 class=\"category\" id=\"sc_159\"><a class=\"a_category\" href=\"/lv/transport/cars/subaru/\" id=\"ahc_159\" title=\"Subaru, Sludinājumi\">Subaru</a></h4>\n",
      "<h4 class=\"category\" id=\"sc_160\"><a class=\"a_category\" href=\"/lv/transport/cars/suzuki/\" id=\"ahc_160\" title=\"Suzuki, Sludinājumi\">Suzuki</a></h4>\n",
      "<h4 class=\"category\" id=\"sc_164\"><a class=\"a_category\" href=\"/lv/transport/cars/toyota/\" id=\"ahc_164\" title=\"Toyota, Sludinājumi\">Toyota</a></h4>\n",
      "<h4 class=\"category\" id=\"sc_166\"><a class=\"a_category\" href=\"/lv/transport/cars/volkswagen/\" id=\"ahc_166\" title=\"Volkswagen, Sludinājumi\">Volkswagen</a></h4>\n",
      "<h4 class=\"category\" id=\"sc_167\"><a class=\"a_category\" href=\"/lv/transport/cars/volvo/\" id=\"ahc_167\" title=\"Volvo, Sludinājumi\">Volvo</a></h4>\n",
      "<h4 class=\"category\" id=\"sc_169\"><a class=\"a_category\" href=\"/lv/transport/cars/gaz/\" id=\"ahc_169\" title=\"Gaz, Sludinājumi\">Gaz</a></h4>\n",
      "<h4 class=\"category\" id=\"sc_173\"><a class=\"a_category\" href=\"/lv/transport/cars/moskvich/\" id=\"ahc_173\" title=\"Moskvich, Sludinājumi\">Moskvich</a></h4>\n",
      "<h4 class=\"category\" id=\"sc_168\"><a class=\"a_category\" href=\"/lv/transport/cars/vaz/\" id=\"ahc_168\" title=\"Vaz, Sludinājumi\">Vaz</a></h4>\n",
      "<h4 class=\"category\" id=\"sc_177\"><a class=\"a_category\" href=\"/lv/transport/cars/others/\" id=\"ahc_177\" title=\"Citas markas, Sludinājumi\">Citas markas</a></h4>\n",
      "</td></tr></table></td>\n",
      "</tr>\n",
      "</table>\n"
     ]
    }
   ],
   "source": [
    "# now the urls are in a table that has align center property\n",
    "# we can use this to find the table\n",
    "table = soup.find('table', attrs={'align':'center'})\n",
    "# print table\n",
    "print(table)"
   ]
  },
  {
   "cell_type": "code",
   "execution_count": 7,
   "metadata": {},
   "outputs": [
    {
     "name": "stdout",
     "output_type": "stream",
     "text": [
      "[<a class=\"a_category\" href=\"/lv/transport/cars/alfa-romeo/\" id=\"ahc_99\" title=\"Alfa Romeo, Sludinājumi\">Alfa Romeo</a>, <a class=\"a_category\" href=\"/lv/transport/cars/audi/\" id=\"ahc_103\" title=\"Audi, Sludinājumi\">Audi</a>, <a class=\"a_category\" href=\"/lv/transport/cars/bmw/\" id=\"ahc_106\" title=\"BMW, Sludinājumi\">BMW</a>, <a class=\"a_category\" href=\"/lv/transport/cars/chevrolet/\" id=\"ahc_110\" title=\"Chevrolet, Sludinājumi\">Chevrolet</a>, <a class=\"a_category\" href=\"/lv/transport/cars/chrysler/\" id=\"ahc_111\" title=\"Chrysler, Sludinājumi\">Chrysler</a>, <a class=\"a_category\" href=\"/lv/transport/cars/citroen/\" id=\"ahc_112\" title=\"Citroen, Sludinājumi\">Citroen</a>, <a class=\"a_category\" href=\"/lv/transport/cars/cupra/\" id=\"ahc_292552\" title=\"Cupra, Sludinājumi\">Cupra</a>, <a class=\"a_category\" href=\"/lv/transport/cars/dacia/\" id=\"ahc_75068\" title=\"Dacia, Sludinājumi\">Dacia</a>, <a class=\"a_category\" href=\"/lv/transport/cars/dodge/\" id=\"ahc_116\" title=\"Dodge, Sludinājumi\">Dodge</a>, <a class=\"a_category\" href=\"/lv/transport/cars/fiat/\" id=\"ahc_119\" title=\"Fiat, Sludinājumi\">Fiat</a>, <a class=\"a_category\" href=\"/lv/transport/cars/ford/\" id=\"ahc_120\" title=\"Ford, Sludinājumi\">Ford</a>, <a class=\"a_category\" href=\"/lv/transport/cars/honda/\" id=\"ahc_123\" title=\"Honda, Sludinājumi\">Honda</a>, <a class=\"a_category\" href=\"/lv/transport/cars/hyundai/\" id=\"ahc_124\" title=\"Hyundai, Sludinājumi\">Hyundai</a>, <a class=\"a_category\" href=\"/lv/transport/cars/infiniti/\" id=\"ahc_125\" title=\"Infiniti, Sludinājumi\">Infiniti</a>, <a class=\"a_category\" href=\"/lv/transport/cars/jaguar/\" id=\"ahc_127\" title=\"Jaguar, Sludinājumi\">Jaguar</a>, <a class=\"a_category\" href=\"/lv/transport/cars/jeep/\" id=\"ahc_128\" title=\"Jeep, Sludinājumi\">Jeep</a>, <a class=\"a_category\" href=\"/lv/transport/cars/kia/\" id=\"ahc_129\" title=\"Kia, Sludinājumi\">Kia</a>, <a class=\"a_category\" href=\"/lv/transport/cars/lancia/\" id=\"ahc_131\" title=\"Lancia, Sludinājumi\">Lancia</a>, <a class=\"a_category\" href=\"/lv/transport/cars/land-rover/\" id=\"ahc_132\" title=\"Land Rover, Sludinājumi\">Land Rover</a>, <a class=\"a_category\" href=\"/lv/transport/cars/lexus/\" id=\"ahc_133\" title=\"Lexus, Sludinājumi\">Lexus</a>, <a class=\"a_category\" href=\"/lv/transport/cars/mazda/\" id=\"ahc_139\" title=\"Mazda, Sludinājumi\">Mazda</a>, <a class=\"a_category\" href=\"/lv/transport/cars/mercedes/\" id=\"ahc_140\" title=\"Mercedes, Sludinājumi\">Mercedes</a>, <a class=\"a_category\" href=\"/lv/transport/cars/mini/\" id=\"ahc_143\" title=\"Mini, Sludinājumi\">Mini</a>, <a class=\"a_category\" href=\"/lv/transport/cars/mitsubishi/\" id=\"ahc_144\" title=\"Mitsubishi, Sludinājumi\">Mitsubishi</a>, <a class=\"a_category\" href=\"/lv/transport/cars/nissan/\" id=\"ahc_146\" title=\"Nissan, Sludinājumi\">Nissan</a>, <a class=\"a_category\" href=\"/lv/transport/cars/opel/\" id=\"ahc_147\" title=\"Opel, Sludinājumi\">Opel</a>, <a class=\"a_category\" href=\"/lv/transport/cars/peugeot/\" id=\"ahc_148\" title=\"Peugeot, Sludinājumi\">Peugeot</a>, <a class=\"a_category\" href=\"/lv/transport/cars/porsche/\" id=\"ahc_151\" title=\"Porsche, Sludinājumi\">Porsche</a>, <a class=\"a_category\" href=\"/lv/transport/cars/renault/\" id=\"ahc_153\" title=\"Renault, Sludinājumi\">Renault</a>, <a class=\"a_category\" href=\"/lv/transport/cars/saab/\" id=\"ahc_156\" title=\"Saab, Sludinājumi\">Saab</a>, <a class=\"a_category\" href=\"/lv/transport/cars/seat/\" id=\"ahc_157\" title=\"Seat, Sludinājumi\">Seat</a>, <a class=\"a_category\" href=\"/lv/transport/cars/skoda/\" id=\"ahc_158\" title=\"Skoda, Sludinājumi\">Skoda</a>, <a class=\"a_category\" href=\"/lv/transport/cars/smart/\" id=\"ahc_26891\" title=\"Smart, Sludinājumi\">Smart</a>, <a class=\"a_category\" href=\"/lv/transport/cars/subaru/\" id=\"ahc_159\" title=\"Subaru, Sludinājumi\">Subaru</a>, <a class=\"a_category\" href=\"/lv/transport/cars/suzuki/\" id=\"ahc_160\" title=\"Suzuki, Sludinājumi\">Suzuki</a>, <a class=\"a_category\" href=\"/lv/transport/cars/toyota/\" id=\"ahc_164\" title=\"Toyota, Sludinājumi\">Toyota</a>, <a class=\"a_category\" href=\"/lv/transport/cars/volkswagen/\" id=\"ahc_166\" title=\"Volkswagen, Sludinājumi\">Volkswagen</a>, <a class=\"a_category\" href=\"/lv/transport/cars/volvo/\" id=\"ahc_167\" title=\"Volvo, Sludinājumi\">Volvo</a>, <a class=\"a_category\" href=\"/lv/transport/cars/gaz/\" id=\"ahc_169\" title=\"Gaz, Sludinājumi\">Gaz</a>, <a class=\"a_category\" href=\"/lv/transport/cars/moskvich/\" id=\"ahc_173\" title=\"Moskvich, Sludinājumi\">Moskvich</a>, <a class=\"a_category\" href=\"/lv/transport/cars/vaz/\" id=\"ahc_168\" title=\"Vaz, Sludinājumi\">Vaz</a>, <a class=\"a_category\" href=\"/lv/transport/cars/others/\" id=\"ahc_177\" title=\"Citas markas, Sludinājumi\">Citas markas</a>]\n"
     ]
    }
   ],
   "source": [
    "# now let us get all anchors from the table\n",
    "anchors = table.find_all('a')\n",
    "# print anchors\n",
    "print(anchors)"
   ]
  },
  {
   "cell_type": "code",
   "execution_count": 9,
   "metadata": {},
   "outputs": [
    {
     "name": "stdout",
     "output_type": "stream",
     "text": [
      "https://www.ss.com/lv/transport/cars/alfa-romeo/\n",
      "https://www.ss.com/lv/transport/cars/audi/\n",
      "https://www.ss.com/lv/transport/cars/bmw/\n",
      "https://www.ss.com/lv/transport/cars/chevrolet/\n",
      "https://www.ss.com/lv/transport/cars/chrysler/\n",
      "https://www.ss.com/lv/transport/cars/citroen/\n",
      "https://www.ss.com/lv/transport/cars/cupra/\n",
      "https://www.ss.com/lv/transport/cars/dacia/\n",
      "https://www.ss.com/lv/transport/cars/dodge/\n",
      "https://www.ss.com/lv/transport/cars/fiat/\n",
      "https://www.ss.com/lv/transport/cars/ford/\n",
      "https://www.ss.com/lv/transport/cars/honda/\n",
      "https://www.ss.com/lv/transport/cars/hyundai/\n",
      "https://www.ss.com/lv/transport/cars/infiniti/\n",
      "https://www.ss.com/lv/transport/cars/jaguar/\n",
      "https://www.ss.com/lv/transport/cars/jeep/\n",
      "https://www.ss.com/lv/transport/cars/kia/\n",
      "https://www.ss.com/lv/transport/cars/lancia/\n",
      "https://www.ss.com/lv/transport/cars/land-rover/\n",
      "https://www.ss.com/lv/transport/cars/lexus/\n",
      "https://www.ss.com/lv/transport/cars/mazda/\n",
      "https://www.ss.com/lv/transport/cars/mercedes/\n",
      "https://www.ss.com/lv/transport/cars/mini/\n",
      "https://www.ss.com/lv/transport/cars/mitsubishi/\n",
      "https://www.ss.com/lv/transport/cars/nissan/\n",
      "https://www.ss.com/lv/transport/cars/opel/\n",
      "https://www.ss.com/lv/transport/cars/peugeot/\n",
      "https://www.ss.com/lv/transport/cars/porsche/\n",
      "https://www.ss.com/lv/transport/cars/renault/\n",
      "https://www.ss.com/lv/transport/cars/saab/\n",
      "https://www.ss.com/lv/transport/cars/seat/\n",
      "https://www.ss.com/lv/transport/cars/skoda/\n",
      "https://www.ss.com/lv/transport/cars/smart/\n",
      "https://www.ss.com/lv/transport/cars/subaru/\n",
      "https://www.ss.com/lv/transport/cars/suzuki/\n",
      "https://www.ss.com/lv/transport/cars/toyota/\n",
      "https://www.ss.com/lv/transport/cars/volkswagen/\n",
      "https://www.ss.com/lv/transport/cars/volvo/\n",
      "https://www.ss.com/lv/transport/cars/gaz/\n",
      "https://www.ss.com/lv/transport/cars/moskvich/\n",
      "https://www.ss.com/lv/transport/cars/vaz/\n",
      "https://www.ss.com/lv/transport/cars/others/\n"
     ]
    }
   ],
   "source": [
    "# get the href attribute from the anchor\n",
    "prefix = 'https://www.ss.com'\n",
    "urls = []\n",
    "for a in anchors:\n",
    "    urls.append(prefix + a['href'])\n",
    "print(*urls, sep='\\n')"
   ]
  },
  {
   "cell_type": "code",
   "execution_count": 10,
   "metadata": {},
   "outputs": [],
   "source": [
    "# now let us create a function that will take a url and return a list of urls\n",
    "def get_urls(url):\n",
    "    # create prefix from url to append to href\n",
    "    prefix = url.split('/lv/')[0]\n",
    "    response = requests.get(url)\n",
    "    # check if the request was successful\n",
    "    if response.status_code != 200:\n",
    "        print(f\"Failed to get {url} - status code {response.status_code}\")\n",
    "        return []\n",
    "    soup = BeautifulSoup(response.text, 'lxml')\n",
    "    table = soup.find('table', attrs={'align':'center'})\n",
    "    # check if the table was found\n",
    "    if table is None:\n",
    "        print(f\"No table found in {url}\")\n",
    "        return []\n",
    "    anchors = table.find_all('a')\n",
    "    urls = []\n",
    "    for a in anchors:\n",
    "        urls.append(prefix + a['href'])\n",
    "    return urls"
   ]
  },
  {
   "cell_type": "code",
   "execution_count": 11,
   "metadata": {},
   "outputs": [
    {
     "name": "stdout",
     "output_type": "stream",
     "text": [
      "https://www.ss.com/lv/transport/cars/alfa-romeo/\n",
      "https://www.ss.com/lv/transport/cars/audi/\n",
      "https://www.ss.com/lv/transport/cars/bmw/\n",
      "https://www.ss.com/lv/transport/cars/chevrolet/\n",
      "https://www.ss.com/lv/transport/cars/chrysler/\n",
      "https://www.ss.com/lv/transport/cars/citroen/\n",
      "https://www.ss.com/lv/transport/cars/cupra/\n",
      "https://www.ss.com/lv/transport/cars/dacia/\n",
      "https://www.ss.com/lv/transport/cars/dodge/\n",
      "https://www.ss.com/lv/transport/cars/fiat/\n",
      "https://www.ss.com/lv/transport/cars/ford/\n",
      "https://www.ss.com/lv/transport/cars/honda/\n",
      "https://www.ss.com/lv/transport/cars/hyundai/\n",
      "https://www.ss.com/lv/transport/cars/infiniti/\n",
      "https://www.ss.com/lv/transport/cars/jaguar/\n",
      "https://www.ss.com/lv/transport/cars/jeep/\n",
      "https://www.ss.com/lv/transport/cars/kia/\n",
      "https://www.ss.com/lv/transport/cars/lancia/\n",
      "https://www.ss.com/lv/transport/cars/land-rover/\n",
      "https://www.ss.com/lv/transport/cars/lexus/\n",
      "https://www.ss.com/lv/transport/cars/mazda/\n",
      "https://www.ss.com/lv/transport/cars/mercedes/\n",
      "https://www.ss.com/lv/transport/cars/mini/\n",
      "https://www.ss.com/lv/transport/cars/mitsubishi/\n",
      "https://www.ss.com/lv/transport/cars/nissan/\n",
      "https://www.ss.com/lv/transport/cars/opel/\n",
      "https://www.ss.com/lv/transport/cars/peugeot/\n",
      "https://www.ss.com/lv/transport/cars/porsche/\n",
      "https://www.ss.com/lv/transport/cars/renault/\n",
      "https://www.ss.com/lv/transport/cars/saab/\n",
      "https://www.ss.com/lv/transport/cars/seat/\n",
      "https://www.ss.com/lv/transport/cars/skoda/\n",
      "https://www.ss.com/lv/transport/cars/smart/\n",
      "https://www.ss.com/lv/transport/cars/subaru/\n",
      "https://www.ss.com/lv/transport/cars/suzuki/\n",
      "https://www.ss.com/lv/transport/cars/toyota/\n",
      "https://www.ss.com/lv/transport/cars/volkswagen/\n",
      "https://www.ss.com/lv/transport/cars/volvo/\n",
      "https://www.ss.com/lv/transport/cars/gaz/\n",
      "https://www.ss.com/lv/transport/cars/moskvich/\n",
      "https://www.ss.com/lv/transport/cars/vaz/\n",
      "https://www.ss.com/lv/transport/cars/others/\n"
     ]
    }
   ],
   "source": [
    "# check if the function works\n",
    "urls = get_urls(url)\n",
    "print(*urls, sep='\\n')"
   ]
  }
 ],
 "metadata": {
  "kernelspec": {
   "display_name": "venv312",
   "language": "python",
   "name": "python3"
  },
  "language_info": {
   "codemirror_mode": {
    "name": "ipython",
    "version": 3
   },
   "file_extension": ".py",
   "mimetype": "text/x-python",
   "name": "python",
   "nbconvert_exporter": "python",
   "pygments_lexer": "ipython3",
   "version": "3.12.3"
  }
 },
 "nbformat": 4,
 "nbformat_minor": 2
}
