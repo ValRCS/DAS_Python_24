{
 "cells": [
  {
   "cell_type": "markdown",
   "metadata": {},
   "source": [
    "# Web Scraping and Automation with Selenium\n",
    "\n",
    "Selenium is a powerful tool for controlling web browsers through programs and performing browser automation. It is functional for all browsers, works on all major OS and its scripts are written in various languages i.e Python, Java, C#, etc. Selenium can be installed via the Python package manager pip.\n",
    "\n",
    "Unlike Beautiful Soup, Selenium requires a web driver to interface with the chosen browser. Web drivers is a package to interact with a web browser. It interacts with the web browser or a remote web server through a wire protocol which is common to all. You can check out and install the web drivers of your choice.\n",
    "\n",
    "Selenium will be slower but will work essentially on all pages because it is a browser. It will render the JavaScript on the page and scrape the data after it has fully loaded.\n",
    "\n",
    "## Learn more about Selenium with Python\n",
    "\n",
    "1. [Selenium with Python](https://selenium-python.readthedocs.io/)\n",
    "2. [Selenium with Python by Geeks for Geeks](https://www.geeksforgeeks.org/selenium-python-tutorial/)\n",
    "\n",
    "Besides controlling browser, the approach is very similar to Beautiful Soup\n",
    "\n",
    "We get an HTML page from the web, parse it, and extract the data we need.\n",
    "Additionally, we can take screenshot, we can automate form submission, click anywhere on the page, and so on.\n",
    "\n",
    "## More on Automation tools in Python\n",
    "\n",
    "Python has various automation libraries for simplying the automation tasks. Some of the libraries are:\n",
    "\n",
    "1. [Selenium](https://www.selenium.dev/) - we just discussed about it\n",
    "2. [PyAutoGUI](https://pyautogui.readthedocs.io/en/latest/) - great for controlling mouse and keyboard"
   ]
  },
  {
   "cell_type": "code",
   "execution_count": null,
   "metadata": {},
   "outputs": [],
   "source": []
  }
 ],
 "metadata": {
  "language_info": {
   "name": "python"
  }
 },
 "nbformat": 4,
 "nbformat_minor": 2
}
