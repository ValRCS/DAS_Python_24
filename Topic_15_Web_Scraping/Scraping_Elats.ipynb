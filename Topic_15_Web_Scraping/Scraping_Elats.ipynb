{
 "cells": [
  {
   "cell_type": "code",
   "execution_count": 1,
   "metadata": {},
   "outputs": [
    {
     "name": "stdout",
     "output_type": "stream",
     "text": [
      "Failed\n"
     ]
    }
   ],
   "source": [
    "import requests\n",
    "from bs4 import BeautifulSoup\n",
    "import pandas as pd\n",
    "\n",
    "url = \"https://www.e-latts.lv/products.sale.ppl\"\n",
    "response = requests.get(url)\n",
    "if response.status_code == 200:\n",
    "    soup = BeautifulSoup(response.content, 'html.parser')\n",
    "    table = soup.find('table', class_='data-table')\n",
    "    headers = []\n",
    "    for th in table.find_all('th'):\n",
    "        headers.append(th.text.strip())\n",
    "    data = []\n",
    "    for row in table.find_all('tr')[1:]:\n",
    "        row_data = []\n",
    "        for td in row.find_all('td'):\n",
    "            row_data.append(td.text.strip())\n",
    "        data.append(row_data)\n",
    "    df = pd.DataFrame(data, columns=headers)\n",
    "    df.to_excel(\"data.xlsx\", index=False)\n",
    "    print(\"Successfully\")\n",
    "else:\n",
    "    print(\"Failed\")"
   ]
  },
  {
   "cell_type": "code",
   "execution_count": 2,
   "metadata": {},
   "outputs": [
    {
     "name": "stdout",
     "output_type": "stream",
     "text": [
      "423\n"
     ]
    }
   ],
   "source": [
    "url = \"https://www.e-latts.lv/products.sale.ppl\"\n",
    "response = requests.get(url)\n",
    "# print response code\n",
    "print(response.status_code)"
   ]
  },
  {
   "cell_type": "code",
   "execution_count": 3,
   "metadata": {},
   "outputs": [
    {
     "name": "stdout",
     "output_type": "stream",
     "text": [
      "Locked\n"
     ]
    }
   ],
   "source": [
    "# print description of status code from requests module\n",
    "print(response.reason)\n",
    "# 423 - Locked \n",
    "# TODO investigate why this status code is returned\n",
    "# Possible reasons:\n",
    "# - the server is overloaded\n",
    "# - the server is under maintenance\n",
    "# - the server is under attack\n",
    "# - the server is misconfigured\n",
    "# - bad headers on the request"
   ]
  }
 ],
 "metadata": {
  "kernelspec": {
   "display_name": ".venv",
   "language": "python",
   "name": "python3"
  },
  "language_info": {
   "codemirror_mode": {
    "name": "ipython",
    "version": 3
   },
   "file_extension": ".py",
   "mimetype": "text/x-python",
   "name": "python",
   "nbconvert_exporter": "python",
   "pygments_lexer": "ipython3",
   "version": "3.12.3"
  }
 },
 "nbformat": 4,
 "nbformat_minor": 2
}
