{
 "cells": [
  {
   "cell_type": "code",
   "execution_count": 1,
   "metadata": {},
   "outputs": [
    {
     "name": "stdout",
     "output_type": "stream",
     "text": [
      "Hello, DAS Python World!\n"
     ]
    }
   ],
   "source": [
    "# let's print hello world\n",
    "print(\"Hello, DAS Python World!\")"
   ]
  },
  {
   "cell_type": "code",
   "execution_count": 2,
   "metadata": {},
   "outputs": [
    {
     "name": "stdout",
     "output_type": "stream",
     "text": [
      "counter: 100\n"
     ]
    }
   ],
   "source": [
    "# variables persist until we stop the notebook\n",
    "counter = 100          # An integer assignment\n",
    "print(f\"counter: {counter}\")"
   ]
  },
  {
   "cell_type": "code",
   "execution_count": 3,
   "metadata": {},
   "outputs": [
    {
     "name": "stdout",
     "output_type": "stream",
     "text": [
      "counter: 101\n"
     ]
    }
   ],
   "source": [
    "counter += 1\n",
    "print(f\"counter: {counter}\")\n",
    "# good Notebook should be runnable from top to bottom"
   ]
  },
  {
   "cell_type": "code",
   "execution_count": 6,
   "metadata": {},
   "outputs": [
    {
     "name": "stdout",
     "output_type": "stream",
     "text": [
      "Python version: 3.12.3 (tags/v3.12.3:f6650f9, Apr  9 2024, 14:05:25) [MSC v.1938 64 bit (AMD64)]\n",
      "Current date and time: 2024-06-10 18:41:58.231547\n"
     ]
    }
   ],
   "source": [
    "# now let's plot a simple matplotlib plot\n",
    "# let's print Python version\n",
    "import sys\n",
    "print(f\"Python version: {sys.version}\")\n",
    "# let's print current date and time\n",
    "from datetime import datetime\n",
    "print(f\"Current date and time: {datetime.now()}\")\n",
    "# we could also print memory  usage, how much free hard drive is there\n",
    "# we could also print the current directory\n",
    "# first we need to import the library\n",
    "import matplotlib.pyplot as plt # typically we import in early cells"
   ]
  }
 ],
 "metadata": {
  "kernelspec": {
   "display_name": ".venv",
   "language": "python",
   "name": "python3"
  },
  "language_info": {
   "codemirror_mode": {
    "name": "ipython",
    "version": 3
   },
   "file_extension": ".py",
   "mimetype": "text/x-python",
   "name": "python",
   "nbconvert_exporter": "python",
   "pygments_lexer": "ipython3",
   "version": "3.12.3"
  }
 },
 "nbformat": 4,
 "nbformat_minor": 2
}
