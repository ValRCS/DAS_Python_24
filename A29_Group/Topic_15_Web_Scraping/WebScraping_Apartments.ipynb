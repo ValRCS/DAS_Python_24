{
 "cells": [
  {
   "cell_type": "markdown",
   "metadata": {},
   "source": [
    "# Web Scraping Aparments\n",
    "\n",
    "## General Approach\n",
    "\n",
    "If not all data is in tables, we can use the `BeautifulSoup` library to scrape the data from the website. This library allows us to parse the HTML and extract the data we need.\n",
    "\n",
    "## Steps\n",
    "\n",
    "1. We will use requests library to get the HTML content of the website.\n",
    "2. We will use BeautifulSoup to parse the HTML content.\n",
    "3. We will extract the data we need from the HTML content using BeautifulSoup methods.\n",
    "4. We will store the data in a pandas DataFrame.\n",
    "5. Optionally we might clean the data.\n",
    "6. We could analyize the data.\n",
    "7. We could visualize the data.\n",
    "8. We will save the data in a CSV or Excel file."
   ]
  },
  {
   "cell_type": "code",
   "execution_count": 2,
   "metadata": {},
   "outputs": [
    {
     "name": "stdout",
     "output_type": "stream",
     "text": [
      "Python version: 3.12.3 (tags/v3.12.3:f6650f9, Apr  9 2024, 14:05:25) [MSC v.1938 64 bit (AMD64)]\n",
      "requests version: 2.32.3\n",
      "Pandas version: 2.2.2\n"
     ]
    }
   ],
   "source": [
    "# let's start with needed standard libraries\n",
    "# Python version\n",
    "import sys\n",
    "print(f\"Python version: {sys.version}\")\n",
    "import time # for pausing our web requests so we do not spam the server\n",
    "from datetime import datetime # for timestamps\n",
    "\n",
    "# now external libraries\n",
    "# for web requests\n",
    "import requests # most crucial library for web scraping\n",
    "print(f\"requests version: {requests.__version__}\")\n",
    "\n",
    "# we will want BeautifulSoup to parse the HTML\n",
    "from bs4 import BeautifulSoup\n",
    "# if you do not have BeautifulSoup, you can install it with pip\n",
    "# !pip install beautifulsoup4 from Notebook\n",
    "# or\n",
    "# !pip3 install beautifulsoup4 from terminal for Mac or Linux\n",
    "# or\n",
    "# pip install beautifulsoup4 from terminal for Windows\n",
    "# homepage of BeautifulSoup: https://www.crummy.com/software/BeautifulSoup/\n",
    "\n",
    "# finally we need Pandas to store the data\n",
    "import pandas as pd\n",
    "print(f\"Pandas version: {pd.__version__}\")"
   ]
  },
  {
   "cell_type": "markdown",
   "metadata": {},
   "source": []
  },
  {
   "cell_type": "code",
   "execution_count": 3,
   "metadata": {},
   "outputs": [
    {
     "name": "stdout",
     "output_type": "stream",
     "text": [
      "We will scrape the following URL: https://www.ss.com/lv/real-estate/flats/riga/centre/sell/\n"
     ]
    }
   ],
   "source": [
    "# we know the url what we want to scrape\n",
    "url = \"https://www.ss.com/lv/real-estate/flats/riga/centre/sell/\"\n",
    "print(f\"We will scrape the following URL: {url}\")"
   ]
  },
  {
   "cell_type": "code",
   "execution_count": 4,
   "metadata": {},
   "outputs": [
    {
     "name": "stdout",
     "output_type": "stream",
     "text": [
      "Page loaded successfully from https://www.ss.com/lv/real-estate/flats/riga/centre/sell/\n"
     ]
    }
   ],
   "source": [
    "# now we will make a get request to the server at the given URL\n",
    "response = requests.get(url) # just like our JSON example from last lesson\n",
    "# there are also post requests and a few others, but get is the most common\n",
    "# let's check the response and raise error if not 200\n",
    "if response.status_code != 200:\n",
    "    raise Exception(\"Failed to load page\")\n",
    "else:\n",
    "    print(f\"Page loaded successfully from {url}\")"
   ]
  },
  {
   "cell_type": "code",
   "execution_count": 5,
   "metadata": {},
   "outputs": [
    {
     "name": "stdout",
     "output_type": "stream",
     "text": [
      "<!DOCTYPE html>\n",
      "<HTML lang=\"lv\"><HEAD>\n",
      "<title>SS.COM Dzīvokļi - Rīga - Centrs, Cenas, Pārdod - Sludinājumi</title>\n",
      "<meta http-equiv=\"Content-Type\" CONTENT=\"text/html; charset=UTF-8\">\n",
      "<meta name=\"viewport\" content=\"user-scalable=1, width=device-width, initial-scale=1.0\"/>\n",
      "<meta name=\"keywords\" content=\"Sludinājumi centrs rīga dzīvokļi nekustamie īpašumi cenas istabu dzīvokli dzīvoklis pārdod centrā pērk izīrē  īrē  maina dažādi\">\n",
      "<meta name=\"description\" content=\"Sludinājumi. Dzīvokļi - Rīga - Centrs, Cenas, tirdzniecība, Foto, Attēli, Pārdod\">\n",
      "<link rel=\"alternate\" media=\"only screen and (max-width: 640px)\" href=\"https://m.ss.com/lv/real-estate/flats/riga/centre/sell/\">\n",
      "\n",
      "<meta http-equiv=\"imagetoolbar\" content=\"no\">\n",
      "\n",
      "<BASE href=\"https://www.ss.com/\">\n",
      "<link href=\"https://i.ss.com/w_inc/style.css?v=254\" rel=\"stylesheet\" />\n",
      "<style>html{overflow-y:scroll;}.page_bg{background-image:url('https://i.ss.com/img/head/classifieds.jpg?v=1' );background-repeat:no-repeat;}@media screen \n"
     ]
    }
   ],
   "source": [
    "# response is not json it is text but marked as HTML\n",
    "# we could see simply text\n",
    "# first 1000 characters\n",
    "print(response.text[:1000])"
   ]
  },
  {
   "cell_type": "code",
   "execution_count": 8,
   "metadata": {},
   "outputs": [
    {
     "name": "stdout",
     "output_type": "stream",
     "text": [
      "Found Valdemāra in the HTML\n",
      "Valdemāra is 7 times in the HTML\n",
      "First occurrence of Valdemāra is at index 16944\n",
      "e=\"5445\">Vagonu</option><option value=\"4545\">Valdemāra</option><option value=\"5459\">Valmie\n"
     ]
    }
   ],
   "source": [
    "# I could do some search and parsing by hand but not recommended\n",
    "# for example I could look for Valdemāra in the html\n",
    "needle = \"Valdemāra\"\n",
    "if needle in response.text:\n",
    "    print(f\"Found {needle} in the HTML\")\n",
    "# how many times it is in the HTML\n",
    "print(f\"{needle} is {response.text.count(needle)} times in the HTML\")\n",
    "# index of the first occurrence\n",
    "print(f\"First occurrence of {needle} is at index {response.text.find(needle)}\")\n",
    "# print 90 characters around first occurrence\n",
    "print(response.text[response.text.find(needle)-45:response.text.find(needle)+45])\n",
    "# not very useful and hard to work with\n",
    "\n",
    "# much better it is to let BeautifulSoup to parse the HTML for us"
   ]
  },
  {
   "cell_type": "code",
   "execution_count": 9,
   "metadata": {},
   "outputs": [
    {
     "name": "stdout",
     "output_type": "stream",
     "text": [
      "<title>SS.COM Dzīvokļi - Rīga - Centrs, Cenas, Pārdod - Sludinājumi</title>\n"
     ]
    }
   ],
   "source": [
    "# so we will creat soup object\n",
    "soup = BeautifulSoup(response.text, 'lxml') # this does not use internet\n",
    "# generally lxml is faster than html.parser, html.parser is built in\n",
    "# but lxml is faster and more lenient\n",
    "# print title\n",
    "print(soup.title)"
   ]
  },
  {
   "cell_type": "code",
   "execution_count": 11,
   "metadata": {},
   "outputs": [
    {
     "name": "stdout",
     "output_type": "stream",
     "text": [
      "<tr id=\"head_line\">\n",
      "<td class=\"msg_column\" colspan=\"3\" width=\"70%\">\n",
      "<span style=\"float:left;\"> Sludinājumi\n",
      "</span>\n",
      "<span align=\"right\" class=\"msg_column\" style=\"float:right;text-align:right;padding-right:3px;\">\n",
      "<noindex>\n",
      "<a class=\"a19\" href=\"/lv/real-estate/flats/riga/centre/sell/fDgSeF4S.html\" rel=\"nofollow\">datums</a></noindex></span>\n",
      "</td>\n",
      "<td class=\"msg_column_td\" nowrap=\"\"><noindex><a class=\"a18\" href=\"/lv/real-estate/flats/riga/centre/sell/fDgSeF4SFDwT.html\" rel=\"nofollow\" title=\"\">Iela</a></noindex></td><td class=\"msg_column_td\" nowrap=\"\"><noindex><a class=\"a18\" href=\"/lv/real-estate/flats/riga/centre/sell/fDgSeF4SelM=.html\" rel=\"nofollow\" title=\"\">Ist.</a></noindex></td><td class=\"msg_column_td\" nowrap=\"\"><noindex><a class=\"a18\" href=\"/lv/real-estate/flats/riga/centre/sell/fDgSeF4QelM=.html\" rel=\"nofollow\" title=\"\">m2</a></noindex></td><td class=\"msg_column_td\" nowrap=\"\"><noindex><a class=\"a18\" href=\"/lv/real-estate/flats/riga/centre/sell/fDgSeF4XelM=.html\" rel=\"nofollow\" title=\"\">Stāvs</a></noindex></td><td class=\"msg_column_td\" nowrap=\"\"><noindex><a class=\"a18\" href=\"/lv/real-estate/flats/riga/centre/sell/fDgSeF4VelM=.html\" rel=\"nofollow\" title=\"\">Sērija</a></noindex></td><td background=\"https://i.ss.com/img/pl.gif\" class=\"msg_column\" nowrap=\"\" style=\"border-left:1px #FFFFFF solid;\"><noindex><a class=\"a18\" href=\"/lv/real-estate/flats/riga/centre/sell/fDgSeF4bRDwT.html\" rel=\"nofollow\">Cena, m2</a></noindex></td><td class=\"msg_column_td\" nowrap=\"\"><noindex><a class=\"a18\" href=\"/lv/real-estate/flats/riga/centre/sell/fDgSeF4belM=.html\" rel=\"nofollow\" title=\"\">Cena</a></noindex></td></tr>\n"
     ]
    }
   ],
   "source": [
    "# let us find table row that has id with value head_line in it\n",
    "# we will use find method\n",
    "# we will find first occurrence\n",
    "head_line = soup.find(\"tr\", {\"id\": \"head_line\"})\n",
    "# so we said we want tr tag with id attribute with value head_line\n",
    "# note how we used dictionary to pass attributes\n",
    "\n",
    "# in this case soup has all of our HTML\n",
    "# but soup could have had a section of the HTML page\n",
    "# print head_line\n",
    "print(head_line)\n"
   ]
  },
  {
   "cell_type": "code",
   "execution_count": 12,
   "metadata": {},
   "outputs": [
    {
     "name": "stdout",
     "output_type": "stream",
     "text": [
      "[<td class=\"msg_column\" colspan=\"3\" width=\"70%\">\n",
      "<span style=\"float:left;\"> Sludinājumi\n",
      "</span>\n",
      "<span align=\"right\" class=\"msg_column\" style=\"float:right;text-align:right;padding-right:3px;\">\n",
      "<noindex>\n",
      "<a class=\"a19\" href=\"/lv/real-estate/flats/riga/centre/sell/fDgSeF4S.html\" rel=\"nofollow\">datums</a></noindex></span>\n",
      "</td>, <td class=\"msg_column_td\" nowrap=\"\"><noindex><a class=\"a18\" href=\"/lv/real-estate/flats/riga/centre/sell/fDgSeF4SFDwT.html\" rel=\"nofollow\" title=\"\">Iela</a></noindex></td>, <td class=\"msg_column_td\" nowrap=\"\"><noindex><a class=\"a18\" href=\"/lv/real-estate/flats/riga/centre/sell/fDgSeF4SelM=.html\" rel=\"nofollow\" title=\"\">Ist.</a></noindex></td>, <td class=\"msg_column_td\" nowrap=\"\"><noindex><a class=\"a18\" href=\"/lv/real-estate/flats/riga/centre/sell/fDgSeF4QelM=.html\" rel=\"nofollow\" title=\"\">m2</a></noindex></td>, <td class=\"msg_column_td\" nowrap=\"\"><noindex><a class=\"a18\" href=\"/lv/real-estate/flats/riga/centre/sell/fDgSeF4XelM=.html\" rel=\"nofollow\" title=\"\">Stāvs</a></noindex></td>, <td class=\"msg_column_td\" nowrap=\"\"><noindex><a class=\"a18\" href=\"/lv/real-estate/flats/riga/centre/sell/fDgSeF4VelM=.html\" rel=\"nofollow\" title=\"\">Sērija</a></noindex></td>, <td background=\"https://i.ss.com/img/pl.gif\" class=\"msg_column\" nowrap=\"\" style=\"border-left:1px #FFFFFF solid;\"><noindex><a class=\"a18\" href=\"/lv/real-estate/flats/riga/centre/sell/fDgSeF4bRDwT.html\" rel=\"nofollow\">Cena, m2</a></noindex></td>, <td class=\"msg_column_td\" nowrap=\"\"><noindex><a class=\"a18\" href=\"/lv/real-estate/flats/riga/centre/sell/fDgSeF4belM=.html\" rel=\"nofollow\" title=\"\">Cena</a></noindex></td>]\n"
     ]
    }
   ],
   "source": [
    "# now let us get all text from each table cell in head_line row\n",
    "# we will use find_all method\n",
    "table_cells = head_line.find_all(\"td\") # td stands for table data\n",
    "# MDN documentation for td: https://developer.mozilla.org/en-US/docs/Web/HTML/Element/td\n",
    "# print table_cells\n",
    "print(table_cells)"
   ]
  },
  {
   "cell_type": "code",
   "execution_count": 13,
   "metadata": {},
   "outputs": [
    {
     "name": "stdout",
     "output_type": "stream",
     "text": [
      "['\\n\\xa0Sludinājumi\\r\\n\\n\\n\\ndatums\\n', 'Iela', 'Ist.', 'm2', 'Stāvs', 'Sērija', 'Cena, m2', 'Cena']\n"
     ]
    }
   ],
   "source": [
    "# now we can get text from each cell\n",
    "# we will use text attribute\n",
    "headline_texts = [cell.text for cell in table_cells] # list comprehension\n",
    "# print headline_texts\n",
    "print(headline_texts)"
   ]
  },
  {
   "cell_type": "code",
   "execution_count": 14,
   "metadata": {},
   "outputs": [
    {
     "name": "stdout",
     "output_type": "stream",
     "text": [
      "['URL', 'Description', 'Iela', 'Ist.', 'm2', 'Stāvs', 'Sērija', 'Cena, m2', 'Cena']\n"
     ]
    }
   ],
   "source": [
    "# now let us create a function that given a soup object\n",
    "# will return a list of texts from each cell in the head_line row\n",
    "# we will have id as an optional parameter with head_line as default\n",
    "# we will have an optional parameter to skip first n cells\n",
    "# also we will provide some starting cell values as a tuple\n",
    "def get_column_names(soup, id=\"head_line\", skip=1, start=(\"URL\",\"Description\")):\n",
    "    # again default values should not be list or dictionary!\n",
    "    # find the row\n",
    "    row = soup.find(\"tr\", {\"id\": id})\n",
    "    # find all cells\n",
    "    cells = row.find_all(\"td\")\n",
    "    # skip first skip cells\n",
    "    cells = cells[skip:] # if skip is 0 nothing will change\n",
    "    # get text from each cell\n",
    "    texts = [cell.text for cell in cells]\n",
    "    # return from skip to the end\n",
    "    return list(start) + texts # we will concatenate two lists\n",
    "\n",
    "# let's test our function\n",
    "column_names = get_column_names(soup)\n",
    "print(column_names)"
   ]
  },
  {
   "cell_type": "code",
   "execution_count": 15,
   "metadata": {},
   "outputs": [
    {
     "name": "stdout",
     "output_type": "stream",
     "text": [
      "We have 39 rows\n"
     ]
    }
   ],
   "source": [
    "# now let us get all table rows\n",
    "all_rows = soup.find_all(\"tr\")\n",
    "# how many rows we have\n",
    "print(f\"We have {len(all_rows)} rows\")"
   ]
  },
  {
   "cell_type": "code",
   "execution_count": 17,
   "metadata": {},
   "outputs": [
    {
     "name": "stdout",
     "output_type": "stream",
     "text": [
      "We have 30 apartment rows\n"
     ]
    }
   ],
   "source": [
    "# we are a bit lucky that we have id starting with tr_\n",
    "# so we can filter out only rows with id starting with tr_\n",
    "# if we did not have this we could just hardcode the number of rows to skip\n",
    "# let's write a loop to find all rows with id starting with tr_\n",
    "apartment_rows = []\n",
    "for row in all_rows:\n",
    "    # we are using get with default value of \"\"\n",
    "    # so in case row does not have id attribute it will return \"\"\n",
    "    # then we can check if it starts with tr_\n",
    "    if row.get(\"id\", \"\").startswith(\"tr_\"):\n",
    "        # we do not want those that start with tr_bnr - banner ad?\n",
    "        if not row.get(\"id\", \"\").startswith(\"tr_bnr\"):\n",
    "            apartment_rows.append(row)\n",
    "    # we could have rewritten this with regular expression\n",
    "    # but above is simple enough\n",
    "\n",
    "# how many apartment rows we have\n",
    "print(f\"We have {len(apartment_rows)} apartment rows\")"
   ]
  },
  {
   "cell_type": "code",
   "execution_count": 18,
   "metadata": {},
   "outputs": [],
   "source": [
    "# so let's write above cell as a function that gets all apartment rows from a soup object\n",
    "# we will have optional prefix to include tr_\n",
    "# and exclude prefix default tr_bnr\n",
    "def get_apartment_rows(soup, prefix=\"tr_\", exclude=\"tr_bnr\"):\n",
    "    # get all rows\n",
    "    all_rows = soup.find_all(\"tr\")\n",
    "    # filter out rows\n",
    "    apartment_rows = []\n",
    "    for row in all_rows:\n",
    "        if row.get(\"id\", \"\").startswith(prefix):\n",
    "            if not row.get(\"id\", \"\").startswith(exclude):\n",
    "                apartment_rows.append(row)\n",
    "    return apartment_rows\n",
    "\n",
    "# let's test our function\n",
    "apartment_rows = get_apartment_rows(soup)\n",
    "# assert we have 30 - of course last page might not have 30... )\n",
    "assert len(apartment_rows) == 30"
   ]
  },
  {
   "cell_type": "code",
   "execution_count": 19,
   "metadata": {},
   "outputs": [
    {
     "name": "stdout",
     "output_type": "stream",
     "text": [
      "<tr id=\"tr_52709345\"><td class=\"msga2 pp0\"><input id=\"c52709345\" name=\"mid[]\" type=\"checkbox\" value=\"52709345_1106_0\"/></td><td class=\"msga2\"><a href=\"/msg/lv/real-estate/flats/riga/centre/ecikp.html\" id=\"im52709345\"><img alt=\"\" class=\"isfoto foto_list\" src=\"https://i.ss.com/gallery/6/1033/258153/51630566.th2.jpg\"/></a></td><td class=\"msg2\"><div class=\"d1\"><a class=\"am\" data=\"JTk2JUFGJThDeiVBRnpmJUVBJTk2JUFGJThEJTdEJUFBd2glOUUlOTklQjAlODglN0UlQUNzZiU5RSU5NSVBQQ==|ezTFxC2n\" href=\"/msg/lv/real-estate/flats/riga/centre/ecikp.html\" id=\"dm_52709345\"> Tikko pēc kapitāla remonta. Augstais stāvs, kā otrais. \n",
      "Daļa m</a></div></td><td c=\"1\" class=\"msga2-o pp6\" nowrap=\"\">Katrīnas d. 24k3</td><td c=\"1\" class=\"msga2-o pp6\" nowrap=\"\">3</td><td c=\"1\" class=\"msga2-o pp6\" nowrap=\"\">66</td><td c=\"1\" class=\"msga2-o pp6\" nowrap=\"\">1/2</td><td c=\"1\" class=\"msga2-o pp6\" nowrap=\"\">Specpr.</td><td c=\"1\" class=\"msga2-o pp6\" nowrap=\"\">1,286 €</td><td c=\"1\" class=\"msga2-o pp6\" nowrap=\"\">84,860  €</td></tr>\n"
     ]
    }
   ],
   "source": [
    "# now we have our apartment let's get a single apartment\n",
    "single_apartment = apartment_rows[0]\n",
    "# print single_apartment\n",
    "print(single_apartment)"
   ]
  },
  {
   "cell_type": "code",
   "execution_count": 20,
   "metadata": {},
   "outputs": [
    {
     "name": "stdout",
     "output_type": "stream",
     "text": [
      "[<td class=\"msga2 pp0\"><input id=\"c52709345\" name=\"mid[]\" type=\"checkbox\" value=\"52709345_1106_0\"/></td>, <td class=\"msga2\"><a href=\"/msg/lv/real-estate/flats/riga/centre/ecikp.html\" id=\"im52709345\"><img alt=\"\" class=\"isfoto foto_list\" src=\"https://i.ss.com/gallery/6/1033/258153/51630566.th2.jpg\"/></a></td>, <td class=\"msg2\"><div class=\"d1\"><a class=\"am\" data=\"JTk2JUFGJThDeiVBRnpmJUVBJTk2JUFGJThEJTdEJUFBd2glOUUlOTklQjAlODglN0UlQUNzZiU5RSU5NSVBQQ==|ezTFxC2n\" href=\"/msg/lv/real-estate/flats/riga/centre/ecikp.html\" id=\"dm_52709345\"> Tikko pēc kapitāla remonta. Augstais stāvs, kā otrais. \n",
      "Daļa m</a></div></td>, <td c=\"1\" class=\"msga2-o pp6\" nowrap=\"\">Katrīnas d. 24k3</td>, <td c=\"1\" class=\"msga2-o pp6\" nowrap=\"\">3</td>, <td c=\"1\" class=\"msga2-o pp6\" nowrap=\"\">66</td>, <td c=\"1\" class=\"msga2-o pp6\" nowrap=\"\">1/2</td>, <td c=\"1\" class=\"msga2-o pp6\" nowrap=\"\">Specpr.</td>, <td c=\"1\" class=\"msga2-o pp6\" nowrap=\"\">1,286 €</td>, <td c=\"1\" class=\"msga2-o pp6\" nowrap=\"\">84,860  €</td>]\n"
     ]
    }
   ],
   "source": [
    "# let's get all table cells from the single apartment\n",
    "single_apartment_cells = single_apartment.find_all(\"td\")\n",
    "# print single_apartment_cells\n",
    "print(single_apartment_cells)"
   ]
  },
  {
   "cell_type": "code",
   "execution_count": 21,
   "metadata": {},
   "outputs": [
    {
     "name": "stdout",
     "output_type": "stream",
     "text": [
      "<td class=\"msga2\"><a href=\"/msg/lv/real-estate/flats/riga/centre/ecikp.html\" id=\"im52709345\"><img alt=\"\" class=\"isfoto foto_list\" src=\"https://i.ss.com/gallery/6/1033/258153/51630566.th2.jpg\"/></a></td>\n"
     ]
    }
   ],
   "source": [
    "# so first one is a checkbox we do not need it\n",
    "# second one is more intersting\n",
    "# let's get the second cell\n",
    "second_cell = single_apartment_cells[1]\n",
    "# print second_cell\n",
    "print(second_cell)"
   ]
  },
  {
   "cell_type": "code",
   "execution_count": 22,
   "metadata": {},
   "outputs": [
    {
     "name": "stdout",
     "output_type": "stream",
     "text": [
      "<a href=\"/msg/lv/real-estate/flats/riga/centre/ecikp.html\" id=\"im52709345\"><img alt=\"\" class=\"isfoto foto_list\" src=\"https://i.ss.com/gallery/6/1033/258153/51630566.th2.jpg\"/></a>\n"
     ]
    }
   ],
   "source": [
    "# now let us extract url from anchor link inside second cell\n",
    "# we will use find method then get method\n",
    "# we will get href attribute\n",
    "anchor = second_cell.find(\"a\")\n",
    "# print anchor\n",
    "print(anchor)"
   ]
  },
  {
   "cell_type": "code",
   "execution_count": 23,
   "metadata": {},
   "outputs": [
    {
     "name": "stdout",
     "output_type": "stream",
     "text": [
      "/msg/lv/real-estate/flats/riga/centre/ecikp.html\n"
     ]
    }
   ],
   "source": [
    "# now let us get href attribute\n",
    "url = anchor.get(\"href\")\n",
    "# print url\n",
    "print(url)"
   ]
  },
  {
   "cell_type": "code",
   "execution_count": 24,
   "metadata": {},
   "outputs": [
    {
     "name": "stdout",
     "output_type": "stream",
     "text": [
      "https://www.ss.com/msg/lv/real-estate/flats/riga/centre/ecikp.html\n"
     ]
    }
   ],
   "source": [
    "# let's add prefix to the url\n",
    "prefix = \"https://www.ss.com\"\n",
    "full_url = prefix + url\n",
    "# print full_url\n",
    "print(full_url)"
   ]
  },
  {
   "cell_type": "code",
   "execution_count": 25,
   "metadata": {},
   "outputs": [
    {
     "name": "stdout",
     "output_type": "stream",
     "text": [
      "['\\xa0Tikko pēc kapitāla remonta. Augstais stāvs, kā otrais. \\r\\nDaļa m', 'Katrīnas d. 24k3', '3', '66', '1/2', 'Specpr.', '1,286 €', '84,860  €']\n"
     ]
    }
   ],
   "source": [
    "# let us get text from rest of the cells after second\n",
    "# we will skip first two cells\n",
    "# we will use list comprehension\n",
    "texts = [cell.text for cell in single_apartment_cells[2:]]\n",
    "# print texts\n",
    "print(texts)"
   ]
  },
  {
   "cell_type": "code",
   "execution_count": 26,
   "metadata": {},
   "outputs": [
    {
     "name": "stdout",
     "output_type": "stream",
     "text": [
      "{'URL': 'https://www.ss.com/msg/lv/real-estate/flats/riga/centre/ecikp.html', 'Description': '\\xa0Tikko pēc kapitāla remonta. Augstais stāvs, kā otrais. \\r\\nDaļa m', 'Iela': 'Katrīnas d. 24k3', 'Ist.': '3', 'm2': '66', 'Stāvs': '1/2', 'Sērija': 'Specpr.', 'Cena, m2': '1,286 €', 'Cena': '84,860  €'}\n"
     ]
    }
   ],
   "source": [
    "# let us create a function that will take a single apartment row\n",
    "# it will have column names as a parameter\n",
    "# will give url_td as a parameter default 1 - second cell\n",
    "# finally we will have default parameter for url_prefix as \"https://www.ss.com\"\n",
    "def get_ad_dict(single_apartment, column_names, \n",
    "                url_td=1, \n",
    "                skip_cells=2, # for skipping cells without text\n",
    "                url_prefix=\"https://www.ss.com\"):\n",
    "    # get all cells\n",
    "    cells = single_apartment.find_all(\"td\")\n",
    "    # get url cell\n",
    "    url_cell = cells[url_td]\n",
    "    # get anchor\n",
    "    anchor = url_cell.find(\"a\")\n",
    "    # get href attribute\n",
    "    url = anchor.get(\"href\")\n",
    "    # get full url\n",
    "    full_url = url_prefix + url\n",
    "    # get text from rest of the cells\n",
    "    texts = [cell.text for cell in cells[skip_cells:]]\n",
    "    texts = [full_url] + texts # we add full_url to the beginning\n",
    "    # return dictionary\n",
    "    return dict(zip(column_names, texts))\n",
    "\n",
    "# let's test our function\n",
    "ad_dict = get_ad_dict(single_apartment, column_names)\n",
    "# print ad_dict\n",
    "print(ad_dict)\n",
    "# so why use dictionary we will see that it is easy to transform to pandas DataFrame\n",
    "# but first we need to get all ads"
   ]
  },
  {
   "cell_type": "code",
   "execution_count": 27,
   "metadata": {},
   "outputs": [
    {
     "name": "stdout",
     "output_type": "stream",
     "text": [
      "[{'URL': 'https://www.ss.com/msg/lv/real-estate/flats/riga/centre/ecikp.html', 'Description': '\\xa0Tikko pēc kapitāla remonta. Augstais stāvs, kā otrais. \\r\\nDaļa m', 'Iela': 'Katrīnas d. 24k3', 'Ist.': '3', 'm2': '66', 'Stāvs': '1/2', 'Sērija': 'Specpr.', 'Cena, m2': '1,286 €', 'Cena': '84,860  €'}, {'URL': 'https://www.ss.com/msg/lv/real-estate/flats/riga/centre/becimg.html', 'Description': 'Tiek pārdots saulains, kluss 3 istabu dzīvoklis Rīgas centrā – T', 'Iela': 'Tērbatas 59/61', 'Ist.': '3', 'm2': '68', 'Stāvs': '6/6', 'Sērija': 'Renov.', 'Cena, m2': '2,426 €', 'Cena': '165,000  €'}, {'URL': 'https://www.ss.com/msg/lv/real-estate/flats/riga/centre/begxxx.html', 'Description': '1872. gadā arhitekta R. A. Pflūga projektētais četru stāvu dzīvo', 'Iela': 'Valdemāra 17', 'Ist.': '4', 'm2': '127', 'Stāvs': '2/5', 'Sērija': 'Renov.', 'Cena, m2': '2,605 €', 'Cena': '330,800  €'}, {'URL': 'https://www.ss.com/msg/lv/real-estate/flats/riga/centre/begmhe.html', 'Description': 'Vēlies pamosties ar skatu uz Latvijas Nacionālo mākslas muzeju? ', 'Iela': 'Valdemāra 17', 'Ist.': '3', 'm2': '75', 'Stāvs': '3/5', 'Sērija': 'Renov.', 'Cena, m2': '2,657 €', 'Cena': '199,238  €'}, {'URL': 'https://www.ss.com/msg/lv/real-estate/flats/riga/centre/beidhf.html', 'Description': '1872. gadā arhitekta R. A. Pflūga projektētais četru stāvu dzīvo', 'Iela': 'Valdemāra 17', 'Ist.': '1', 'm2': '34', 'Stāvs': '4/5', 'Sērija': 'Renov.', 'Cena, m2': '2,626 €', 'Cena': '89,300  €'}, {'URL': 'https://www.ss.com/msg/lv/real-estate/flats/riga/centre/bclded.html', 'Description': 'Dzīvoklis ar balkonu un skatu uz Latvijas Nacionālo mākslas muze', 'Iela': 'Valdemāra 27', 'Ist.': '2', 'm2': '51', 'Stāvs': '3/5', 'Sērija': 'Renov.', 'Cena, m2': '3,922 €', 'Cena': '200,000  €'}, {'URL': 'https://www.ss.com/msg/lv/real-estate/flats/riga/centre/bcikeo.html', 'Description': 'Pārdod plašu 4 - istabu dzīvokli Ādmiņu ielā 8.\\r\\n\\r\\nDzīvoklī ir 3', 'Iela': 'Ādmiņu 8', 'Ist.': '4', 'm2': '109', 'Stāvs': '3/5', 'Sērija': 'Renov.', 'Cena, m2': '1,375 €', 'Cena': '149,900  €'}, {'URL': 'https://www.ss.com/msg/lv/real-estate/flats/riga/centre/admnd.html', 'Description': 'Продается уникальный объект недвижимости - квартира в Посольском', 'Iela': 'Elizabetes 10', 'Ist.': '3', 'm2': '176', 'Stāvs': '4/4', 'Sērija': 'Renov.', 'Cena, m2': '3,352 €', 'Cena': '590,000  €'}, {'URL': 'https://www.ss.com/msg/lv/real-estate/flats/riga/centre/bkhxb.html', 'Description': 'Pārdod trīs istabu dzīvokli, kas ir sadalīts divos atsevišķos dz', 'Iela': 'Stabu 57', 'Ist.': '3', 'm2': '80', 'Stāvs': '2/5', 'Sērija': 'P. kara', 'Cena, m2': '1,431 €', 'Cena': '114,500  €'}, {'URL': 'https://www.ss.com/msg/lv/real-estate/flats/riga/centre/beexpn.html', 'Description': 'Pārdodu lielisku 3-istabu Dzīvokli, \\xa0\\r\\nPlānojums:\\r\\nPriekšnams\\xa0\\r\\n', 'Iela': 'Ģertrūdes 103', 'Ist.': '3', 'm2': '64', 'Stāvs': '1/6', 'Sērija': 'P. kara', 'Cena, m2': '1,719 €', 'Cena': '110,000  €'}, {'URL': 'https://www.ss.com/msg/lv/real-estate/flats/riga/centre/ecbcm.html', 'Description': 'Pārdodam praktisku 4 istabu dzīvokli pilsētas centrā. Ēku projek', 'Iela': 'Stabu 55', 'Ist.': '4', 'm2': '114', 'Stāvs': '3/5', 'Sērija': 'P. kara', 'Cena, m2': '1,402 €', 'Cena': '159,800  €'}, {'URL': 'https://www.ss.com/msg/lv/real-estate/flats/riga/centre/dbdmh.html', 'Description': 'Pārdodam elegantu 5 istabu dzīvokli pilsētas centrā. Dizainera v', 'Iela': 'Marijas 16', 'Ist.': '5', 'm2': '185', 'Stāvs': '1/7', 'Sērija': 'P. kara', 'Cena, m2': '1,746 €', 'Cena': '323,000  €'}, {'URL': 'https://www.ss.com/msg/lv/real-estate/flats/riga/centre/ghege.html', 'Description': 'The architectural concept of the complex combines two buildings-', 'Iela': 'Ausekļa 4', 'Ist.': '3', 'm2': '152', 'Stāvs': '2/7', 'Sērija': 'Jaun.', 'Cena, m2': '2,125 €', 'Cena': '323,000  €'}, {'URL': 'https://www.ss.com/msg/lv/real-estate/flats/riga/centre/cinxe.html', 'Description': 'Pārdodam lielisku investīciju dzīvokli Dzirnavu ielā 55. Studio ', 'Iela': 'Dzirnavu 55', 'Ist.': '2', 'm2': '70', 'Stāvs': '5/5', 'Sērija': 'P. kara', 'Cena, m2': '1,999 €', 'Cena': '139,900  €'}, {'URL': 'https://www.ss.com/msg/lv/real-estate/flats/riga/centre/bcnhod.html', 'Description': 'Pārdodu dzīvokli. \\r\\n\\r\\nAtbrīvots, bez apgrūtinājumiem un parādiem', 'Iela': 'J. Daliņa 2', 'Ist.': '3', 'm2': '54', 'Stāvs': '1/5', 'Sērija': 'Specpr.', 'Cena, m2': '741 €', 'Cena': '40,000  €'}, {'URL': 'https://www.ss.com/msg/lv/real-estate/flats/riga/centre/bcijfk.html', 'Description': 'Īpašnieks pārdod skaistu 5 istabu dzīvokli tikko pēc kapitālā re', 'Iela': 'Brīvības 39a', 'Ist.': '5', 'm2': '118', 'Stāvs': '2/6', 'Sērija': 'P. kara', 'Cena, m2': '2,356 €', 'Cena': '278,000  €'}, {'URL': 'https://www.ss.com/msg/lv/real-estate/flats/riga/centre/dnbbn.html', 'Description': 'Pārdošanā stilīgs, dizaineru veidotu divistabu dzīvoklis. Dzīvok', 'Iela': 'Avotu 8k1', 'Ist.': '2', 'm2': '62', 'Stāvs': '6/6', 'Sērija': 'P. kara', 'Cena, m2': '2,065 €', 'Cena': '128,000  €'}, {'URL': 'https://www.ss.com/msg/lv/real-estate/flats/riga/centre/hebxg.html', 'Description': 'Pārdod pilnībā mēbelētu, ekskluzīvu 3 istabu dzīvokli jaunajā pr', 'Iela': 'Antonijas 16A', 'Ist.': '3', 'm2': '108', 'Stāvs': '5/7', 'Sērija': 'Jaun.', 'Cena, m2': '3,333 €', 'Cena': '360,000  €'}, {'URL': 'https://www.ss.com/msg/lv/real-estate/flats/riga/centre/bcjngx.html', 'Description': 'Pārdošanai tiek piedāvāts grezns, ērta plānojuma dzīvoklis renov', 'Iela': 'Pulkv. Brieža 7', 'Ist.': '3', 'm2': '85', 'Stāvs': '2/6', 'Sērija': 'P. kara', 'Cena, m2': '2,941 €', 'Cena': '250,000  €'}, {'URL': 'https://www.ss.com/msg/lv/real-estate/flats/riga/centre/bcnixb.html', 'Description': 'Moderns un mūsdienīgs 4 istabu dzīvoklis Rīgas centrā - Kr. Vald', 'Iela': 'Valdemāra 37a', 'Ist.': '4', 'm2': '145', 'Stāvs': '5/6', 'Sērija': 'Renov.', 'Cena, m2': '2,724 €', 'Cena': '395,000  €'}, {'URL': 'https://www.ss.com/msg/lv/real-estate/flats/riga/centre/bcomoh.html', 'Description': 'Īpašnieks pārdod ļoti siltu un gaišu dzīvokli pašā Rīgas centrā,', 'Iela': 'Brīvības 60', 'Ist.': '2', 'm2': '38', 'Stāvs': '5/7', 'Sērija': 'Specpr.', 'Cena, m2': '1,974 €', 'Cena': '75,000  €'}, {'URL': 'https://www.ss.com/msg/lv/real-estate/flats/riga/centre/boxlc.html', 'Description': 'Tiek pardods 2 istabu dzīvoklis centrā - Skanstes, Zirņu iela 5\\xa0', 'Iela': 'Zirņu 5k-1', 'Ist.': '2', 'm2': '50', 'Stāvs': '5/9', 'Sērija': '467.', 'Cena, m2': '1,160 €', 'Cena': '58,000  €'}, {'URL': 'https://www.ss.com/msg/lv/real-estate/flats/riga/centre/aexfe.html', 'Description': 'Продается 2-комнатная квартира в Центре - район Skanstes, новый ', 'Iela': 'Valdemāra 151', 'Ist.': '2', 'm2': '50', 'Stāvs': '5/9', 'Sērija': '467.', 'Cena, m2': '1,160 €', 'Cena': '58,000  €'}, {'URL': 'https://www.ss.com/msg/lv/real-estate/flats/riga/centre/bljnc.html', 'Description': 'Pārdod divu istabu dzīvokli ar platību 33 m2. Dzīvoklis atrodas ', 'Iela': 'Zvaigžņu 2B', 'Ist.': '2', 'm2': '33', 'Stāvs': '5/5', 'Sērija': 'P. kara', 'Cena, m2': '1,364 €', 'Cena': '45,000  €'}, {'URL': 'https://www.ss.com/msg/lv/real-estate/flats/riga/centre/bebedk.html', 'Description': 'Pārdod vienistabas dzīvokli Rīgas centrā ar platību 37, 9 m2 . D', 'Iela': 'Avotu 54', 'Ist.': '1', 'm2': '38', 'Stāvs': '3/4', 'Sērija': 'P. kara', 'Cena, m2': '1,724 €', 'Cena': '65,500  €'}, {'URL': 'https://www.ss.com/msg/lv/real-estate/flats/riga/centre/bcihcc.html', 'Description': 'Pārdošanā, plašs 2 istabu dzīvoklis ar augstiem griestiem pašā R', 'Iela': 'Lāčplēša 62', 'Ist.': '2', 'm2': '54', 'Stāvs': '1/6', 'Sērija': 'P. kara', 'Cena, m2': '778 €', 'Cena': '42,000  €'}, {'URL': 'https://www.ss.com/msg/lv/real-estate/flats/riga/centre/bfhbk.html', 'Description': 'Piedāvājumā pārdomāts 3-istabu dzīvoklis ar pilnu apdari Grīziņk', 'Iela': 'Artilērijas 65', 'Ist.': '3', 'm2': '60', 'Stāvs': '2/3', 'Sērija': 'Renov.', 'Cena, m2': '2,833 €', 'Cena': '170,000  €'}, {'URL': 'https://www.ss.com/msg/lv/real-estate/flats/riga/centre/bcndhj.html', 'Description': 'Tiek pārdots dzīvoklis prestižajā Ausekļa ielā. Piedāvājam izsma', 'Iela': 'Ausekļa 6a', 'Ist.': '5', 'm2': '143', 'Stāvs': '5/5', 'Sērija': 'P. kara', 'Cena, m2': '2,028 €', 'Cena': '290,000  €'}, {'URL': 'https://www.ss.com/msg/lv/real-estate/flats/riga/centre/gclep.html', 'Description': 'Piedāvājam iegādāties 103.7 kvadrātmetrus plašu un gaišu četrist', 'Iela': 'Lāčplēša 21', 'Ist.': '4', 'm2': '104', 'Stāvs': '4/5', 'Sērija': 'P. kara', 'Cena, m2': '1,635 €', 'Cena': '170,000  €'}, {'URL': 'https://www.ss.com/msg/lv/real-estate/flats/riga/centre/cbfne.html', 'Description': 'Собственник без посредников продает 3 комнатную квартиру с ориги', 'Iela': 'Čaka 33', 'Ist.': '3', 'm2': '78', 'Stāvs': '4/6', 'Sērija': 'P. kara', 'Cena, m2': '1,923 €', 'Cena': '150,000  €'}]\n"
     ]
    }
   ],
   "source": [
    "# if we know how to get one, we can get all\n",
    "# let's make a function to get all from soup\n",
    "# also inside we will get column names\n",
    "def get_all_ads(soup):\n",
    "    # get column names\n",
    "    column_names = get_column_names(soup)\n",
    "    # get apartment rows\n",
    "    apartment_rows = get_apartment_rows(soup)\n",
    "    # create a list of dictionaries - good format to feed Pandas DataFrame\n",
    "    ads = [get_ad_dict(row, column_names) for row in apartment_rows]\n",
    "    return ads\n",
    "\n",
    "# let's test our function\n",
    "ads = get_all_ads(soup)\n",
    "# print ads\n",
    "print(ads)"
   ]
  },
  {
   "cell_type": "code",
   "execution_count": 28,
   "metadata": {},
   "outputs": [
    {
     "name": "stdout",
     "output_type": "stream",
     "text": [
      "(30, 9)\n"
     ]
    },
    {
     "data": {
      "text/html": [
       "<div>\n",
       "<style scoped>\n",
       "    .dataframe tbody tr th:only-of-type {\n",
       "        vertical-align: middle;\n",
       "    }\n",
       "\n",
       "    .dataframe tbody tr th {\n",
       "        vertical-align: top;\n",
       "    }\n",
       "\n",
       "    .dataframe thead th {\n",
       "        text-align: right;\n",
       "    }\n",
       "</style>\n",
       "<table border=\"1\" class=\"dataframe\">\n",
       "  <thead>\n",
       "    <tr style=\"text-align: right;\">\n",
       "      <th></th>\n",
       "      <th>URL</th>\n",
       "      <th>Description</th>\n",
       "      <th>Iela</th>\n",
       "      <th>Ist.</th>\n",
       "      <th>m2</th>\n",
       "      <th>Stāvs</th>\n",
       "      <th>Sērija</th>\n",
       "      <th>Cena, m2</th>\n",
       "      <th>Cena</th>\n",
       "    </tr>\n",
       "  </thead>\n",
       "  <tbody>\n",
       "    <tr>\n",
       "      <th>0</th>\n",
       "      <td>https://www.ss.com/msg/lv/real-estate/flats/ri...</td>\n",
       "      <td>Tikko pēc kapitāla remonta. Augstais stāvs, k...</td>\n",
       "      <td>Katrīnas d. 24k3</td>\n",
       "      <td>3</td>\n",
       "      <td>66</td>\n",
       "      <td>1/2</td>\n",
       "      <td>Specpr.</td>\n",
       "      <td>1,286 €</td>\n",
       "      <td>84,860  €</td>\n",
       "    </tr>\n",
       "    <tr>\n",
       "      <th>1</th>\n",
       "      <td>https://www.ss.com/msg/lv/real-estate/flats/ri...</td>\n",
       "      <td>Tiek pārdots saulains, kluss 3 istabu dzīvokli...</td>\n",
       "      <td>Tērbatas 59/61</td>\n",
       "      <td>3</td>\n",
       "      <td>68</td>\n",
       "      <td>6/6</td>\n",
       "      <td>Renov.</td>\n",
       "      <td>2,426 €</td>\n",
       "      <td>165,000  €</td>\n",
       "    </tr>\n",
       "    <tr>\n",
       "      <th>2</th>\n",
       "      <td>https://www.ss.com/msg/lv/real-estate/flats/ri...</td>\n",
       "      <td>1872. gadā arhitekta R. A. Pflūga projektētais...</td>\n",
       "      <td>Valdemāra 17</td>\n",
       "      <td>4</td>\n",
       "      <td>127</td>\n",
       "      <td>2/5</td>\n",
       "      <td>Renov.</td>\n",
       "      <td>2,605 €</td>\n",
       "      <td>330,800  €</td>\n",
       "    </tr>\n",
       "    <tr>\n",
       "      <th>3</th>\n",
       "      <td>https://www.ss.com/msg/lv/real-estate/flats/ri...</td>\n",
       "      <td>Vēlies pamosties ar skatu uz Latvijas Nacionāl...</td>\n",
       "      <td>Valdemāra 17</td>\n",
       "      <td>3</td>\n",
       "      <td>75</td>\n",
       "      <td>3/5</td>\n",
       "      <td>Renov.</td>\n",
       "      <td>2,657 €</td>\n",
       "      <td>199,238  €</td>\n",
       "    </tr>\n",
       "    <tr>\n",
       "      <th>4</th>\n",
       "      <td>https://www.ss.com/msg/lv/real-estate/flats/ri...</td>\n",
       "      <td>1872. gadā arhitekta R. A. Pflūga projektētais...</td>\n",
       "      <td>Valdemāra 17</td>\n",
       "      <td>1</td>\n",
       "      <td>34</td>\n",
       "      <td>4/5</td>\n",
       "      <td>Renov.</td>\n",
       "      <td>2,626 €</td>\n",
       "      <td>89,300  €</td>\n",
       "    </tr>\n",
       "  </tbody>\n",
       "</table>\n",
       "</div>"
      ],
      "text/plain": [
       "                                                 URL  \\\n",
       "0  https://www.ss.com/msg/lv/real-estate/flats/ri...   \n",
       "1  https://www.ss.com/msg/lv/real-estate/flats/ri...   \n",
       "2  https://www.ss.com/msg/lv/real-estate/flats/ri...   \n",
       "3  https://www.ss.com/msg/lv/real-estate/flats/ri...   \n",
       "4  https://www.ss.com/msg/lv/real-estate/flats/ri...   \n",
       "\n",
       "                                         Description              Iela Ist.  \\\n",
       "0   Tikko pēc kapitāla remonta. Augstais stāvs, k...  Katrīnas d. 24k3    3   \n",
       "1  Tiek pārdots saulains, kluss 3 istabu dzīvokli...    Tērbatas 59/61    3   \n",
       "2  1872. gadā arhitekta R. A. Pflūga projektētais...      Valdemāra 17    4   \n",
       "3  Vēlies pamosties ar skatu uz Latvijas Nacionāl...      Valdemāra 17    3   \n",
       "4  1872. gadā arhitekta R. A. Pflūga projektētais...      Valdemāra 17    1   \n",
       "\n",
       "    m2 Stāvs   Sērija Cena, m2        Cena  \n",
       "0   66   1/2  Specpr.  1,286 €   84,860  €  \n",
       "1   68   6/6   Renov.  2,426 €  165,000  €  \n",
       "2  127   2/5   Renov.  2,605 €  330,800  €  \n",
       "3   75   3/5   Renov.  2,657 €  199,238  €  \n",
       "4   34   4/5   Renov.  2,626 €   89,300  €  "
      ]
     },
     "execution_count": 28,
     "metadata": {},
     "output_type": "execute_result"
    }
   ],
   "source": [
    "# let's make a function that makes a dataframe given a soup\n",
    "def get_ads_df(soup):\n",
    "    # get all ads\n",
    "    ads = get_all_ads(soup)\n",
    "    # create DataFrame\n",
    "    df = pd.DataFrame(ads) # DataFrame class takes list of dictionaries\n",
    "    return df\n",
    "\n",
    "# let's test our function\n",
    "df = get_ads_df(soup)\n",
    "# print df shape\n",
    "print(df.shape)\n",
    "# head\n",
    "df.head()"
   ]
  },
  {
   "cell_type": "code",
   "execution_count": 29,
   "metadata": {},
   "outputs": [],
   "source": [
    "# let us save as excel with datetime in the name\n",
    "# we will use to_excel method\n",
    "# we will use datetime.now() to get current datetime\n",
    "# we will use strftime method to format datetime as string\n",
    "\n",
    "now = datetime.now()\n",
    "now_str = now.strftime(\"%Y_%m_%d_%H_%M_%S\") # _ are just separators\n",
    "filename = f\"ss_com_{now_str}.xlsx\"\n",
    "df.to_excel(filename, index=False) # we do not want index column"
   ]
  },
  {
   "cell_type": "code",
   "execution_count": 30,
   "metadata": {},
   "outputs": [
    {
     "name": "stdout",
     "output_type": "stream",
     "text": [
      "We have 99 anchors\n"
     ]
    }
   ],
   "source": [
    "# now that we know how to extract full info from single page \n",
    "# let us find out how many pages to extract\n",
    "# first let us find all anchors\n",
    "# we will use find_all method\n",
    "all_anchors = soup.find_all(\"a\")\n",
    "# how many\n",
    "print(f\"We have {len(all_anchors)} anchors\")"
   ]
  },
  {
   "cell_type": "code",
   "execution_count": 31,
   "metadata": {},
   "outputs": [
    {
     "name": "stdout",
     "output_type": "stream",
     "text": [
      "<a class=\"navi\" href=\"/lv/real-estate/flats/riga/centre/sell/page36.html\" name=\"nav_id\" rel=\"prev\"><img border=\"0\" height=\"5\" src=\"https://i.ss.com/img/s_left.png\" style=\"padding-bottom:2px;\" width=\"9\"/> Iepriekšējie</a>\n"
     ]
    }
   ],
   "source": [
    "# we could look for anchor with name nav_id but we have a bunch of those\n",
    "# instead let us look for anchor with rel attribute and value prev\n",
    "# we will use find method\n",
    "# we will use dictionary to pass attributes\n",
    "prev_anchor = soup.find(\"a\", {\"rel\": \"prev\"})\n",
    "# print prev_anchor\n",
    "print(prev_anchor)"
   ]
  },
  {
   "cell_type": "code",
   "execution_count": 33,
   "metadata": {},
   "outputs": [
    {
     "name": "stdout",
     "output_type": "stream",
     "text": [
      "/lv/real-estate/flats/riga/centre/sell/page36.html\n",
      "Last page is 36\n"
     ]
    }
   ],
   "source": [
    "# now we need to extract the number from the href attribute\n",
    "# we could use regular expression but we can also use split\n",
    "# first let us split by /page and get the second part\n",
    "# then split by . and get the first part\n",
    "href = prev_anchor.get(\"href\")\n",
    "# print href\n",
    "print(href)\n",
    "page = href.split(\"/page\")[1].split(\".\")[0]\n",
    "# finally we need to convert to integer\n",
    "page = int(page)\n",
    "print(f\"Last page is {page}\")"
   ]
  },
  {
   "cell_type": "code",
   "execution_count": 43,
   "metadata": {},
   "outputs": [
    {
     "name": "stdout",
     "output_type": "stream",
     "text": [
      "['https://www.ss.com/lv/real-estate/flats/riga/centre/sell/', 'https://www.ss.com/lv/real-estate/flats/riga/centre/sell/page2.html', 'https://www.ss.com/lv/real-estate/flats/riga/centre/sell/page3.html', 'https://www.ss.com/lv/real-estate/flats/riga/centre/sell/page4.html', 'https://www.ss.com/lv/real-estate/flats/riga/centre/sell/page5.html', 'https://www.ss.com/lv/real-estate/flats/riga/centre/sell/page6.html', 'https://www.ss.com/lv/real-estate/flats/riga/centre/sell/page7.html', 'https://www.ss.com/lv/real-estate/flats/riga/centre/sell/page8.html', 'https://www.ss.com/lv/real-estate/flats/riga/centre/sell/page9.html', 'https://www.ss.com/lv/real-estate/flats/riga/centre/sell/page10.html', 'https://www.ss.com/lv/real-estate/flats/riga/centre/sell/page11.html', 'https://www.ss.com/lv/real-estate/flats/riga/centre/sell/page12.html', 'https://www.ss.com/lv/real-estate/flats/riga/centre/sell/page13.html', 'https://www.ss.com/lv/real-estate/flats/riga/centre/sell/page14.html', 'https://www.ss.com/lv/real-estate/flats/riga/centre/sell/page15.html', 'https://www.ss.com/lv/real-estate/flats/riga/centre/sell/page16.html', 'https://www.ss.com/lv/real-estate/flats/riga/centre/sell/page17.html', 'https://www.ss.com/lv/real-estate/flats/riga/centre/sell/page18.html', 'https://www.ss.com/lv/real-estate/flats/riga/centre/sell/page19.html', 'https://www.ss.com/lv/real-estate/flats/riga/centre/sell/page20.html', 'https://www.ss.com/lv/real-estate/flats/riga/centre/sell/page21.html', 'https://www.ss.com/lv/real-estate/flats/riga/centre/sell/page22.html', 'https://www.ss.com/lv/real-estate/flats/riga/centre/sell/page23.html', 'https://www.ss.com/lv/real-estate/flats/riga/centre/sell/page24.html', 'https://www.ss.com/lv/real-estate/flats/riga/centre/sell/page25.html', 'https://www.ss.com/lv/real-estate/flats/riga/centre/sell/page26.html', 'https://www.ss.com/lv/real-estate/flats/riga/centre/sell/page27.html', 'https://www.ss.com/lv/real-estate/flats/riga/centre/sell/page28.html', 'https://www.ss.com/lv/real-estate/flats/riga/centre/sell/page29.html', 'https://www.ss.com/lv/real-estate/flats/riga/centre/sell/page30.html', 'https://www.ss.com/lv/real-estate/flats/riga/centre/sell/page31.html', 'https://www.ss.com/lv/real-estate/flats/riga/centre/sell/page32.html', 'https://www.ss.com/lv/real-estate/flats/riga/centre/sell/page33.html', 'https://www.ss.com/lv/real-estate/flats/riga/centre/sell/page34.html', 'https://www.ss.com/lv/real-estate/flats/riga/centre/sell/page35.html', 'https://www.ss.com/lv/real-estate/flats/riga/centre/sell/page36.html']\n"
     ]
    }
   ],
   "source": [
    "# let us create a function that will return a list of urls to explore given a soup\n",
    "def get_all_urls(soup, url=\"https://www.ss.com/lv/real-estate/flats/riga/centre/sell/\"):\n",
    "    urls = [url] # we know we will want the first page\n",
    "    # get prev anchor\n",
    "    prev_anchor = soup.find(\"a\", {\"rel\": \"prev\"})\n",
    "    # check if we have prev anchor\n",
    "    if not prev_anchor:\n",
    "        return urls # we have no more pages just original\n",
    "    # get href attribute\n",
    "    href = prev_anchor.get(\"href\")\n",
    "    # get page number\n",
    "    page = int(href.split(\"/page\")[1].split(\".\")[0])\n",
    "    # add a list of urls starting from 2nd\n",
    "    urls += [f\"{url}page{p}.html\" for p in range(2, page+1)]\n",
    "    return urls\n",
    "\n",
    "# let's test our function\n",
    "urls = get_all_urls(soup)\n",
    "# print urls\n",
    "print(urls)"
   ]
  },
  {
   "cell_type": "code",
   "execution_count": 41,
   "metadata": {},
   "outputs": [],
   "source": [
    "# let us create a function that will take a url and return one big dataframe generated from all pages\n",
    "def get_all_ads_df(main_url, \n",
    "                   delay=0.3, \n",
    "                   save_excel=False,\n",
    "                   dry_run = False):\n",
    "\n",
    "    # get response\n",
    "    print(f\"Obtaining data from {main_url}\")\n",
    "    response = requests.get(main_url)\n",
    "    # check if we have 200\n",
    "    if response.status_code != 200:\n",
    "        raise Exception(\"Failed to load page\")\n",
    "    # create soup\n",
    "    soup = BeautifulSoup(response.text, 'lxml')\n",
    "    # get DataFrame\n",
    "    df = get_ads_df(soup)\n",
    "    # get all urls\n",
    "    urls = get_all_urls(soup, main_url)\n",
    "    df_list = [df]\n",
    "    if dry_run:\n",
    "        # just print all urls\n",
    "        print(urls)\n",
    "        return\n",
    "    # loop through urls except first\n",
    "    for url in urls[1:]: # no need to get first page , we have it already\n",
    "        print(f\"Obtaining data from {url}\")\n",
    "        time.sleep(delay) # good practice to add a bit of delay\n",
    "        # get response\n",
    "        response = requests.get(url)\n",
    "        # check if we have 200\n",
    "        if response.status_code != 200:\n",
    "            raise Exception(\"Failed to load page\")\n",
    "        # create soup\n",
    "        soup = BeautifulSoup(response.text, 'lxml')\n",
    "        # get DataFrame\n",
    "        df = get_ads_df(soup)\n",
    "        df_list.append(df)\n",
    "        # we will ignore index because we do not want to keep original index\n",
    "    # concateate all DataFrames into single one\n",
    "    df = pd.concat(df_list, ignore_index=True)\n",
    "    if save_excel:\n",
    "        now = datetime.now()\n",
    "        now_str = now.strftime(\"%Y_%m_%d_%H_%M_%S\")\n",
    "        filename = f\"ss_com_{now_str}.xlsx\"\n",
    "        df.to_excel(filename, index=False)\n",
    "    return df\n",
    "\n",
    "# center_url = \"https://www.ss.com/lv/real-estate/flats/riga/centre/sell/\"\n",
    "# # let's test our function\n",
    "# df = get_all_ads_df(center_url)\n",
    "# # print df shape\n",
    "# print(df.shape)\n",
    "# # head\n",
    "# df.head()"
   ]
  },
  {
   "cell_type": "code",
   "execution_count": 44,
   "metadata": {},
   "outputs": [
    {
     "name": "stdout",
     "output_type": "stream",
     "text": [
      "Obtaining data from https://www.ss.com/lv/transport/cars/toyota/sell/\n",
      "Obtaining data from https://www.ss.com/lv/transport/cars/toyota/sell/page2.html\n",
      "Obtaining data from https://www.ss.com/lv/transport/cars/toyota/sell/page3.html\n",
      "Obtaining data from https://www.ss.com/lv/transport/cars/toyota/sell/page4.html\n",
      "Obtaining data from https://www.ss.com/lv/transport/cars/toyota/sell/page5.html\n",
      "Obtaining data from https://www.ss.com/lv/transport/cars/toyota/sell/page6.html\n",
      "Obtaining data from https://www.ss.com/lv/transport/cars/toyota/sell/page7.html\n",
      "Obtaining data from https://www.ss.com/lv/transport/cars/toyota/sell/page8.html\n",
      "Obtaining data from https://www.ss.com/lv/transport/cars/toyota/sell/page9.html\n",
      "Obtaining data from https://www.ss.com/lv/transport/cars/toyota/sell/page10.html\n",
      "Obtaining data from https://www.ss.com/lv/transport/cars/toyota/sell/page11.html\n",
      "Obtaining data from https://www.ss.com/lv/transport/cars/toyota/sell/page12.html\n",
      "Obtaining data from https://www.ss.com/lv/transport/cars/toyota/sell/page13.html\n",
      "Obtaining data from https://www.ss.com/lv/transport/cars/toyota/sell/page14.html\n",
      "Obtaining data from https://www.ss.com/lv/transport/cars/toyota/sell/page15.html\n",
      "Obtaining data from https://www.ss.com/lv/transport/cars/toyota/sell/page16.html\n",
      "Obtaining data from https://www.ss.com/lv/transport/cars/toyota/sell/page17.html\n",
      "Obtaining data from https://www.ss.com/lv/transport/cars/toyota/sell/page18.html\n",
      "Obtaining data from https://www.ss.com/lv/transport/cars/toyota/sell/page19.html\n",
      "Obtaining data from https://www.ss.com/lv/transport/cars/toyota/sell/page20.html\n",
      "Obtaining data from https://www.ss.com/lv/transport/cars/toyota/sell/page21.html\n",
      "Obtaining data from https://www.ss.com/lv/transport/cars/toyota/sell/page22.html\n",
      "Obtaining data from https://www.ss.com/lv/transport/cars/toyota/sell/page23.html\n",
      "(1373, 7)\n"
     ]
    },
    {
     "data": {
      "text/html": [
       "<div>\n",
       "<style scoped>\n",
       "    .dataframe tbody tr th:only-of-type {\n",
       "        vertical-align: middle;\n",
       "    }\n",
       "\n",
       "    .dataframe tbody tr th {\n",
       "        vertical-align: top;\n",
       "    }\n",
       "\n",
       "    .dataframe thead th {\n",
       "        text-align: right;\n",
       "    }\n",
       "</style>\n",
       "<table border=\"1\" class=\"dataframe\">\n",
       "  <thead>\n",
       "    <tr style=\"text-align: right;\">\n",
       "      <th></th>\n",
       "      <th>URL</th>\n",
       "      <th>Description</th>\n",
       "      <th>Modelis</th>\n",
       "      <th>Gads</th>\n",
       "      <th>Tilp.</th>\n",
       "      <th>Nobrauk.</th>\n",
       "      <th>Cena</th>\n",
       "    </tr>\n",
       "  </thead>\n",
       "  <tbody>\n",
       "    <tr>\n",
       "      <th>0</th>\n",
       "      <td>https://www.ss.com/msg/lv/transport/cars/toyot...</td>\n",
       "      <td>Pārdodu nesteidzīgi labu auto. \\r\\nMaz braukta...</td>\n",
       "      <td>Avensis</td>\n",
       "      <td>2010</td>\n",
       "      <td>2.0</td>\n",
       "      <td>224 tūkst.</td>\n",
       "      <td>5,250  €</td>\n",
       "    </tr>\n",
       "    <tr>\n",
       "      <th>1</th>\n",
       "      <td>https://www.ss.com/msg/lv/transport/cars/toyot...</td>\n",
       "      <td>Продаю Land Cruiser Prado 150\\r\\n\\r\\n3.0d 190h...</td>\n",
       "      <td>Land Cruiser</td>\n",
       "      <td>2013</td>\n",
       "      <td>3.0D</td>\n",
       "      <td>167 tūkst.</td>\n",
       "      <td>23,500  €</td>\n",
       "    </tr>\n",
       "    <tr>\n",
       "      <th>2</th>\n",
       "      <td>https://www.ss.com/msg/lv/transport/cars/toyot...</td>\n",
       "      <td>Toyota Yaris 1.4 dīzelis, Mehānika. \\r\\n\\r\\nAu...</td>\n",
       "      <td>Yaris</td>\n",
       "      <td>2007</td>\n",
       "      <td>1.4D</td>\n",
       "      <td>-</td>\n",
       "      <td>1,850  €</td>\n",
       "    </tr>\n",
       "    <tr>\n",
       "      <th>3</th>\n",
       "      <td>https://www.ss.com/msg/lv/transport/cars/toyot...</td>\n",
       "      <td>Labdien. Tiek pārdots ļoti labs auto. Pēdējos ...</td>\n",
       "      <td>Land Cruiser</td>\n",
       "      <td>2008</td>\n",
       "      <td>3.0D</td>\n",
       "      <td>305 tūkst.</td>\n",
       "      <td>10,900  €</td>\n",
       "    </tr>\n",
       "    <tr>\n",
       "      <th>4</th>\n",
       "      <td>https://www.ss.com/msg/lv/transport/cars/toyot...</td>\n",
       "      <td>Toyota Land Cruiser 3.0 dīzelis, Automāts. \\r\\...</td>\n",
       "      <td>Land Cruiser</td>\n",
       "      <td>2006</td>\n",
       "      <td>3.0D</td>\n",
       "      <td>-</td>\n",
       "      <td>8,500  €</td>\n",
       "    </tr>\n",
       "  </tbody>\n",
       "</table>\n",
       "</div>"
      ],
      "text/plain": [
       "                                                 URL  \\\n",
       "0  https://www.ss.com/msg/lv/transport/cars/toyot...   \n",
       "1  https://www.ss.com/msg/lv/transport/cars/toyot...   \n",
       "2  https://www.ss.com/msg/lv/transport/cars/toyot...   \n",
       "3  https://www.ss.com/msg/lv/transport/cars/toyot...   \n",
       "4  https://www.ss.com/msg/lv/transport/cars/toyot...   \n",
       "\n",
       "                                         Description       Modelis  Gads  \\\n",
       "0  Pārdodu nesteidzīgi labu auto. \\r\\nMaz braukta...       Avensis  2010   \n",
       "1  Продаю Land Cruiser Prado 150\\r\\n\\r\\n3.0d 190h...  Land Cruiser  2013   \n",
       "2  Toyota Yaris 1.4 dīzelis, Mehānika. \\r\\n\\r\\nAu...         Yaris  2007   \n",
       "3  Labdien. Tiek pārdots ļoti labs auto. Pēdējos ...  Land Cruiser  2008   \n",
       "4  Toyota Land Cruiser 3.0 dīzelis, Automāts. \\r\\...  Land Cruiser  2006   \n",
       "\n",
       "  Tilp.    Nobrauk.       Cena  \n",
       "0   2.0  224 tūkst.   5,250  €  \n",
       "1  3.0D  167 tūkst.  23,500  €  \n",
       "2  1.4D           -   1,850  €  \n",
       "3  3.0D  305 tūkst.  10,900  €  \n",
       "4  3.0D           -   8,500  €  "
      ]
     },
     "execution_count": 44,
     "metadata": {},
     "output_type": "execute_result"
    }
   ],
   "source": [
    "toyota_url = \"https://www.ss.com/lv/transport/cars/toyota/sell/\"\n",
    "# let's test our function\n",
    "# toyota_df = get_all_ads_df(toyota_url, dry_run=True)\n",
    "toyota_df = get_all_ads_df(toyota_url)\n",
    "# print df shape\n",
    "print(toyota_df.shape)\n",
    "# head\n",
    "toyota_df.head()\n"
   ]
  },
  {
   "cell_type": "code",
   "execution_count": 45,
   "metadata": {},
   "outputs": [],
   "source": [
    "# let us save toyota as excel with datetime in the name\n",
    "now = datetime.now()\n",
    "now_str = now.strftime(\"%Y_%m_%d_%H_%M_%S\") # _ are just separators\n",
    "filename = f\"ss_com_toyota_{now_str}.xlsx\"\n",
    "toyota_df.to_excel(filename, index=False) # we do not want index column"
   ]
  },
  {
   "cell_type": "code",
   "execution_count": 46,
   "metadata": {},
   "outputs": [
    {
     "name": "stdout",
     "output_type": "stream",
     "text": [
      "<class 'pandas.core.frame.DataFrame'>\n",
      "RangeIndex: 1373 entries, 0 to 1372\n",
      "Data columns (total 7 columns):\n",
      " #   Column       Non-Null Count  Dtype \n",
      "---  ------       --------------  ----- \n",
      " 0   URL          1373 non-null   object\n",
      " 1   Description  1373 non-null   object\n",
      " 2   Modelis      1373 non-null   object\n",
      " 3   Gads         1373 non-null   object\n",
      " 4   Tilp.        1373 non-null   object\n",
      " 5   Nobrauk.     1373 non-null   object\n",
      " 6   Cena         1373 non-null   object\n",
      "dtypes: object(7)\n",
      "memory usage: 75.2+ KB\n"
     ]
    }
   ],
   "source": [
    "# let us check column info for Toyota\n",
    "toyota_df.info()"
   ]
  },
  {
   "cell_type": "code",
   "execution_count": 47,
   "metadata": {},
   "outputs": [
    {
     "name": "stdout",
     "output_type": "stream",
     "text": [
      "Index(['URL', 'Description', 'Modelis', 'Gads', 'Tilp.', 'Nobrauk.', 'Cena'], dtype='object')\n"
     ]
    }
   ],
   "source": [
    "# let us check column names\n",
    "print(toyota_df.columns)"
   ]
  },
  {
   "cell_type": "code",
   "execution_count": 48,
   "metadata": {},
   "outputs": [
    {
     "data": {
      "text/html": [
       "<div>\n",
       "<style scoped>\n",
       "    .dataframe tbody tr th:only-of-type {\n",
       "        vertical-align: middle;\n",
       "    }\n",
       "\n",
       "    .dataframe tbody tr th {\n",
       "        vertical-align: top;\n",
       "    }\n",
       "\n",
       "    .dataframe thead th {\n",
       "        text-align: right;\n",
       "    }\n",
       "</style>\n",
       "<table border=\"1\" class=\"dataframe\">\n",
       "  <thead>\n",
       "    <tr style=\"text-align: right;\">\n",
       "      <th></th>\n",
       "      <th>URL</th>\n",
       "      <th>Description</th>\n",
       "      <th>Modelis</th>\n",
       "      <th>Gads</th>\n",
       "      <th>Tilp.</th>\n",
       "      <th>Nobrauk.</th>\n",
       "      <th>Cena</th>\n",
       "    </tr>\n",
       "  </thead>\n",
       "  <tbody>\n",
       "    <tr>\n",
       "      <th>count</th>\n",
       "      <td>1373</td>\n",
       "      <td>1373</td>\n",
       "      <td>1373</td>\n",
       "      <td>1373</td>\n",
       "      <td>1373</td>\n",
       "      <td>1373</td>\n",
       "      <td>1373</td>\n",
       "    </tr>\n",
       "    <tr>\n",
       "      <th>unique</th>\n",
       "      <td>1373</td>\n",
       "      <td>1294</td>\n",
       "      <td>35</td>\n",
       "      <td>36</td>\n",
       "      <td>35</td>\n",
       "      <td>432</td>\n",
       "      <td>561</td>\n",
       "    </tr>\n",
       "    <tr>\n",
       "      <th>top</th>\n",
       "      <td>https://www.ss.com/msg/lv/transport/cars/toyot...</td>\n",
       "      <td>Praktiski jauns auto ar garantiju un bezmaksas...</td>\n",
       "      <td>Avensis</td>\n",
       "      <td>2007</td>\n",
       "      <td>2.0D</td>\n",
       "      <td>-</td>\n",
       "      <td>2,500  €</td>\n",
       "    </tr>\n",
       "    <tr>\n",
       "      <th>freq</th>\n",
       "      <td>1</td>\n",
       "      <td>15</td>\n",
       "      <td>240</td>\n",
       "      <td>112</td>\n",
       "      <td>242</td>\n",
       "      <td>214</td>\n",
       "      <td>17</td>\n",
       "    </tr>\n",
       "  </tbody>\n",
       "</table>\n",
       "</div>"
      ],
      "text/plain": [
       "                                                      URL  \\\n",
       "count                                                1373   \n",
       "unique                                               1373   \n",
       "top     https://www.ss.com/msg/lv/transport/cars/toyot...   \n",
       "freq                                                    1   \n",
       "\n",
       "                                              Description  Modelis  Gads  \\\n",
       "count                                                1373     1373  1373   \n",
       "unique                                               1294       35    36   \n",
       "top     Praktiski jauns auto ar garantiju un bezmaksas...  Avensis  2007   \n",
       "freq                                                   15      240   112   \n",
       "\n",
       "       Tilp. Nobrauk.      Cena  \n",
       "count   1373     1373      1373  \n",
       "unique    35      432       561  \n",
       "top     2.0D        -  2,500  €  \n",
       "freq     242      214        17  "
      ]
     },
     "execution_count": 48,
     "metadata": {},
     "output_type": "execute_result"
    }
   ],
   "source": [
    "# let us describe all columns including those with objects\n",
    "toyota_df.describe(include=\"all\")"
   ]
  },
  {
   "cell_type": "code",
   "execution_count": 49,
   "metadata": {},
   "outputs": [
    {
     "data": {
      "text/html": [
       "<div>\n",
       "<style scoped>\n",
       "    .dataframe tbody tr th:only-of-type {\n",
       "        vertical-align: middle;\n",
       "    }\n",
       "\n",
       "    .dataframe tbody tr th {\n",
       "        vertical-align: top;\n",
       "    }\n",
       "\n",
       "    .dataframe thead th {\n",
       "        text-align: right;\n",
       "    }\n",
       "</style>\n",
       "<table border=\"1\" class=\"dataframe\">\n",
       "  <thead>\n",
       "    <tr style=\"text-align: right;\">\n",
       "      <th></th>\n",
       "      <th>URL</th>\n",
       "      <th>Description</th>\n",
       "      <th>Modelis</th>\n",
       "      <th>Gads</th>\n",
       "      <th>Tilp.</th>\n",
       "      <th>Nobrauk.</th>\n",
       "      <th>Cena</th>\n",
       "    </tr>\n",
       "  </thead>\n",
       "  <tbody>\n",
       "    <tr>\n",
       "      <th>count</th>\n",
       "      <td>1373</td>\n",
       "      <td>1373</td>\n",
       "      <td>1373</td>\n",
       "      <td>1373.000000</td>\n",
       "      <td>1373</td>\n",
       "      <td>1373</td>\n",
       "      <td>1373</td>\n",
       "    </tr>\n",
       "    <tr>\n",
       "      <th>unique</th>\n",
       "      <td>1373</td>\n",
       "      <td>1294</td>\n",
       "      <td>35</td>\n",
       "      <td>NaN</td>\n",
       "      <td>35</td>\n",
       "      <td>432</td>\n",
       "      <td>561</td>\n",
       "    </tr>\n",
       "    <tr>\n",
       "      <th>top</th>\n",
       "      <td>https://www.ss.com/msg/lv/transport/cars/toyot...</td>\n",
       "      <td>Praktiski jauns auto ar garantiju un bezmaksas...</td>\n",
       "      <td>Avensis</td>\n",
       "      <td>NaN</td>\n",
       "      <td>2.0D</td>\n",
       "      <td>-</td>\n",
       "      <td>2,500  €</td>\n",
       "    </tr>\n",
       "    <tr>\n",
       "      <th>freq</th>\n",
       "      <td>1</td>\n",
       "      <td>15</td>\n",
       "      <td>240</td>\n",
       "      <td>NaN</td>\n",
       "      <td>242</td>\n",
       "      <td>214</td>\n",
       "      <td>17</td>\n",
       "    </tr>\n",
       "    <tr>\n",
       "      <th>mean</th>\n",
       "      <td>NaN</td>\n",
       "      <td>NaN</td>\n",
       "      <td>NaN</td>\n",
       "      <td>2012.573926</td>\n",
       "      <td>NaN</td>\n",
       "      <td>NaN</td>\n",
       "      <td>NaN</td>\n",
       "    </tr>\n",
       "    <tr>\n",
       "      <th>std</th>\n",
       "      <td>NaN</td>\n",
       "      <td>NaN</td>\n",
       "      <td>NaN</td>\n",
       "      <td>6.893280</td>\n",
       "      <td>NaN</td>\n",
       "      <td>NaN</td>\n",
       "      <td>NaN</td>\n",
       "    </tr>\n",
       "    <tr>\n",
       "      <th>min</th>\n",
       "      <td>NaN</td>\n",
       "      <td>NaN</td>\n",
       "      <td>NaN</td>\n",
       "      <td>1979.000000</td>\n",
       "      <td>NaN</td>\n",
       "      <td>NaN</td>\n",
       "      <td>NaN</td>\n",
       "    </tr>\n",
       "    <tr>\n",
       "      <th>25%</th>\n",
       "      <td>NaN</td>\n",
       "      <td>NaN</td>\n",
       "      <td>NaN</td>\n",
       "      <td>2007.000000</td>\n",
       "      <td>NaN</td>\n",
       "      <td>NaN</td>\n",
       "      <td>NaN</td>\n",
       "    </tr>\n",
       "    <tr>\n",
       "      <th>50%</th>\n",
       "      <td>NaN</td>\n",
       "      <td>NaN</td>\n",
       "      <td>NaN</td>\n",
       "      <td>2012.000000</td>\n",
       "      <td>NaN</td>\n",
       "      <td>NaN</td>\n",
       "      <td>NaN</td>\n",
       "    </tr>\n",
       "    <tr>\n",
       "      <th>75%</th>\n",
       "      <td>NaN</td>\n",
       "      <td>NaN</td>\n",
       "      <td>NaN</td>\n",
       "      <td>2019.000000</td>\n",
       "      <td>NaN</td>\n",
       "      <td>NaN</td>\n",
       "      <td>NaN</td>\n",
       "    </tr>\n",
       "    <tr>\n",
       "      <th>max</th>\n",
       "      <td>NaN</td>\n",
       "      <td>NaN</td>\n",
       "      <td>NaN</td>\n",
       "      <td>2024.000000</td>\n",
       "      <td>NaN</td>\n",
       "      <td>NaN</td>\n",
       "      <td>NaN</td>\n",
       "    </tr>\n",
       "  </tbody>\n",
       "</table>\n",
       "</div>"
      ],
      "text/plain": [
       "                                                      URL  \\\n",
       "count                                                1373   \n",
       "unique                                               1373   \n",
       "top     https://www.ss.com/msg/lv/transport/cars/toyot...   \n",
       "freq                                                    1   \n",
       "mean                                                  NaN   \n",
       "std                                                   NaN   \n",
       "min                                                   NaN   \n",
       "25%                                                   NaN   \n",
       "50%                                                   NaN   \n",
       "75%                                                   NaN   \n",
       "max                                                   NaN   \n",
       "\n",
       "                                              Description  Modelis  \\\n",
       "count                                                1373     1373   \n",
       "unique                                               1294       35   \n",
       "top     Praktiski jauns auto ar garantiju un bezmaksas...  Avensis   \n",
       "freq                                                   15      240   \n",
       "mean                                                  NaN      NaN   \n",
       "std                                                   NaN      NaN   \n",
       "min                                                   NaN      NaN   \n",
       "25%                                                   NaN      NaN   \n",
       "50%                                                   NaN      NaN   \n",
       "75%                                                   NaN      NaN   \n",
       "max                                                   NaN      NaN   \n",
       "\n",
       "               Gads Tilp. Nobrauk.      Cena  \n",
       "count   1373.000000  1373     1373      1373  \n",
       "unique          NaN    35      432       561  \n",
       "top             NaN  2.0D        -  2,500  €  \n",
       "freq            NaN   242      214        17  \n",
       "mean    2012.573926   NaN      NaN       NaN  \n",
       "std        6.893280   NaN      NaN       NaN  \n",
       "min     1979.000000   NaN      NaN       NaN  \n",
       "25%     2007.000000   NaN      NaN       NaN  \n",
       "50%     2012.000000   NaN      NaN       NaN  \n",
       "75%     2019.000000   NaN      NaN       NaN  \n",
       "max     2024.000000   NaN      NaN       NaN  "
      ]
     },
     "execution_count": 49,
     "metadata": {},
     "output_type": "execute_result"
    }
   ],
   "source": [
    "# let us make Gads numeric\n",
    "toyota_df[\"Gads\"] = pd.to_numeric(toyota_df[\"Gads\"], errors='coerce')\n",
    "# now let's describe all\n",
    "toyota_df.describe(include=\"all\")"
   ]
  },
  {
   "cell_type": "code",
   "execution_count": 50,
   "metadata": {},
   "outputs": [
    {
     "data": {
      "text/html": [
       "<div>\n",
       "<style scoped>\n",
       "    .dataframe tbody tr th:only-of-type {\n",
       "        vertical-align: middle;\n",
       "    }\n",
       "\n",
       "    .dataframe tbody tr th {\n",
       "        vertical-align: top;\n",
       "    }\n",
       "\n",
       "    .dataframe thead th {\n",
       "        text-align: right;\n",
       "    }\n",
       "</style>\n",
       "<table border=\"1\" class=\"dataframe\">\n",
       "  <thead>\n",
       "    <tr style=\"text-align: right;\">\n",
       "      <th></th>\n",
       "      <th>Gads</th>\n",
       "      <th>price</th>\n",
       "    </tr>\n",
       "  </thead>\n",
       "  <tbody>\n",
       "    <tr>\n",
       "      <th>count</th>\n",
       "      <td>1373.000000</td>\n",
       "      <td>1373.00000</td>\n",
       "    </tr>\n",
       "    <tr>\n",
       "      <th>mean</th>\n",
       "      <td>2012.573926</td>\n",
       "      <td>13087.11362</td>\n",
       "    </tr>\n",
       "    <tr>\n",
       "      <th>std</th>\n",
       "      <td>6.893280</td>\n",
       "      <td>12677.00297</td>\n",
       "    </tr>\n",
       "    <tr>\n",
       "      <th>min</th>\n",
       "      <td>1979.000000</td>\n",
       "      <td>350.00000</td>\n",
       "    </tr>\n",
       "    <tr>\n",
       "      <th>25%</th>\n",
       "      <td>2007.000000</td>\n",
       "      <td>3540.00000</td>\n",
       "    </tr>\n",
       "    <tr>\n",
       "      <th>50%</th>\n",
       "      <td>2012.000000</td>\n",
       "      <td>8200.00000</td>\n",
       "    </tr>\n",
       "    <tr>\n",
       "      <th>75%</th>\n",
       "      <td>2019.000000</td>\n",
       "      <td>19200.00000</td>\n",
       "    </tr>\n",
       "    <tr>\n",
       "      <th>max</th>\n",
       "      <td>2024.000000</td>\n",
       "      <td>71500.00000</td>\n",
       "    </tr>\n",
       "  </tbody>\n",
       "</table>\n",
       "</div>"
      ],
      "text/plain": [
       "              Gads        price\n",
       "count  1373.000000   1373.00000\n",
       "mean   2012.573926  13087.11362\n",
       "std       6.893280  12677.00297\n",
       "min    1979.000000    350.00000\n",
       "25%    2007.000000   3540.00000\n",
       "50%    2012.000000   8200.00000\n",
       "75%    2019.000000  19200.00000\n",
       "max    2024.000000  71500.00000"
      ]
     },
     "execution_count": 50,
     "metadata": {},
     "output_type": "execute_result"
    }
   ],
   "source": [
    "# now let us create price column\n",
    "# it will be based on Cena column \n",
    "# but we need to remove € and remove , then strip and convert to numeric\n",
    "toyota_df[\"price\"] = toyota_df[\"Cena\"].str.replace(\" €\", \"\")\n",
    "# now that I have price I could remove , from it\n",
    "# i assume pandas does not have price method\n",
    "toyota_df.price = toyota_df.price.str.replace(\",\", \"\")\n",
    "# not strip\n",
    "toyota_df.price = toyota_df.price.str.strip()\n",
    "# convert to numeric\n",
    "toyota_df.price = pd.to_numeric(toyota_df.price, errors='coerce')\n",
    "# now describe only numeric columns\n",
    "toyota_df.describe() # by default only numeric columns"
   ]
  },
  {
   "cell_type": "code",
   "execution_count": 52,
   "metadata": {},
   "outputs": [
    {
     "data": {
      "text/plain": [
       "array(['Avensis', 'Land Cruiser', 'Yaris', 'RAV 4', 'Corolla', 'Hilux',\n",
       "       'Previa', 'Verso', 'Prius', 'Proace', 'C-HR', 'Corolla Verso',\n",
       "       'Aygo', 'Auris', 'Highlander', 'Corolla Verso II', 'Sienna',\n",
       "       'Starlet', 'Camry', 'Corolla Hatch', 'Prius+', 'Venza', 'Citi',\n",
       "       'Tundra', 'Verso-S', 'Urban Cruiser', 'IQ', 'Avensis Verso',\n",
       "       'Hiace', 'GT 86', 'Celica', 'GT86', 'Corolla Wagon',\n",
       "       'Corolla Coupe', 'Carina-2'], dtype=object)"
      ]
     },
     "execution_count": 52,
     "metadata": {},
     "output_type": "execute_result"
    }
   ],
   "source": [
    "# what models we have unique\n",
    "toyota_df[\"Modelis\"].unique()"
   ]
  },
  {
   "cell_type": "code",
   "execution_count": 53,
   "metadata": {},
   "outputs": [
    {
     "name": "stdout",
     "output_type": "stream",
     "text": [
      "(227, 8)\n"
     ]
    },
    {
     "data": {
      "text/html": [
       "<div>\n",
       "<style scoped>\n",
       "    .dataframe tbody tr th:only-of-type {\n",
       "        vertical-align: middle;\n",
       "    }\n",
       "\n",
       "    .dataframe tbody tr th {\n",
       "        vertical-align: top;\n",
       "    }\n",
       "\n",
       "    .dataframe thead th {\n",
       "        text-align: right;\n",
       "    }\n",
       "</style>\n",
       "<table border=\"1\" class=\"dataframe\">\n",
       "  <thead>\n",
       "    <tr style=\"text-align: right;\">\n",
       "      <th></th>\n",
       "      <th>URL</th>\n",
       "      <th>Description</th>\n",
       "      <th>Modelis</th>\n",
       "      <th>Gads</th>\n",
       "      <th>Tilp.</th>\n",
       "      <th>Nobrauk.</th>\n",
       "      <th>Cena</th>\n",
       "      <th>price</th>\n",
       "    </tr>\n",
       "  </thead>\n",
       "  <tbody>\n",
       "    <tr>\n",
       "      <th>6</th>\n",
       "      <td>https://www.ss.com/msg/lv/transport/cars/toyot...</td>\n",
       "      <td>2.2D-4D, Latvijā nav ekspluatēta. \\r\\nLabā teh...</td>\n",
       "      <td>RAV 4</td>\n",
       "      <td>2015</td>\n",
       "      <td>2.2D</td>\n",
       "      <td>161 tūkst.</td>\n",
       "      <td>13,990  €</td>\n",
       "      <td>13990</td>\n",
       "    </tr>\n",
       "    <tr>\n",
       "      <th>11</th>\n",
       "      <td>https://www.ss.com/msg/lv/transport/cars/toyot...</td>\n",
       "      <td>Pārdodu Toyota Rav4 Hybrid Luxury Line 4Wd 114...</td>\n",
       "      <td>RAV 4</td>\n",
       "      <td>2016</td>\n",
       "      <td>2.5H</td>\n",
       "      <td>150 tūkst.</td>\n",
       "      <td>16,999  €</td>\n",
       "      <td>16999</td>\n",
       "    </tr>\n",
       "    <tr>\n",
       "      <th>16</th>\n",
       "      <td>https://www.ss.com/msg/lv/transport/cars/toyot...</td>\n",
       "      <td>Toyota Rav4 Suv 2.0 Dynamic Force (175 hp) Mul...</td>\n",
       "      <td>RAV 4</td>\n",
       "      <td>2019</td>\n",
       "      <td>2.0</td>\n",
       "      <td>24 tūkst.</td>\n",
       "      <td>27,990  €</td>\n",
       "      <td>27990</td>\n",
       "    </tr>\n",
       "    <tr>\n",
       "      <th>39</th>\n",
       "      <td>https://www.ss.com/msg/lv/transport/cars/toyot...</td>\n",
       "      <td>Pārdošanā Toyota Rav4 ar manuālo ātrumkārbu\\r\\...</td>\n",
       "      <td>RAV 4</td>\n",
       "      <td>2007</td>\n",
       "      <td>2.2D</td>\n",
       "      <td>254 tūkst.</td>\n",
       "      <td>4,490  €</td>\n",
       "      <td>4490</td>\n",
       "    </tr>\n",
       "    <tr>\n",
       "      <th>41</th>\n",
       "      <td>https://www.ss.com/msg/lv/transport/cars/toyot...</td>\n",
       "      <td>Toyota Rav4. Ļoti ērts un ekanomisks auto. Apk...</td>\n",
       "      <td>RAV 4</td>\n",
       "      <td>2003</td>\n",
       "      <td>1.8</td>\n",
       "      <td>205 tūkst.</td>\n",
       "      <td>2,850  €</td>\n",
       "      <td>2850</td>\n",
       "    </tr>\n",
       "  </tbody>\n",
       "</table>\n",
       "</div>"
      ],
      "text/plain": [
       "                                                  URL  \\\n",
       "6   https://www.ss.com/msg/lv/transport/cars/toyot...   \n",
       "11  https://www.ss.com/msg/lv/transport/cars/toyot...   \n",
       "16  https://www.ss.com/msg/lv/transport/cars/toyot...   \n",
       "39  https://www.ss.com/msg/lv/transport/cars/toyot...   \n",
       "41  https://www.ss.com/msg/lv/transport/cars/toyot...   \n",
       "\n",
       "                                          Description Modelis  Gads Tilp.  \\\n",
       "6   2.2D-4D, Latvijā nav ekspluatēta. \\r\\nLabā teh...   RAV 4  2015  2.2D   \n",
       "11  Pārdodu Toyota Rav4 Hybrid Luxury Line 4Wd 114...   RAV 4  2016  2.5H   \n",
       "16  Toyota Rav4 Suv 2.0 Dynamic Force (175 hp) Mul...   RAV 4  2019   2.0   \n",
       "39  Pārdošanā Toyota Rav4 ar manuālo ātrumkārbu\\r\\...   RAV 4  2007  2.2D   \n",
       "41  Toyota Rav4. Ļoti ērts un ekanomisks auto. Apk...   RAV 4  2003   1.8   \n",
       "\n",
       "      Nobrauk.       Cena  price  \n",
       "6   161 tūkst.  13,990  €  13990  \n",
       "11  150 tūkst.  16,999  €  16999  \n",
       "16   24 tūkst.  27,990  €  27990  \n",
       "39  254 tūkst.   4,490  €   4490  \n",
       "41  205 tūkst.   2,850  €   2850  "
      ]
     },
     "execution_count": 53,
     "metadata": {},
     "output_type": "execute_result"
    }
   ],
   "source": [
    "# let us only get rav4 model\n",
    "rav4_df = toyota_df[toyota_df[\"Modelis\"] == \"RAV 4\"]\n",
    "# shape\n",
    "print(rav4_df.shape)\n",
    "# head\n",
    "rav4_df.head()"
   ]
  },
  {
   "cell_type": "code",
   "execution_count": 55,
   "metadata": {},
   "outputs": [
    {
     "data": {
      "text/html": [
       "<div>\n",
       "<style scoped>\n",
       "    .dataframe tbody tr th:only-of-type {\n",
       "        vertical-align: middle;\n",
       "    }\n",
       "\n",
       "    .dataframe tbody tr th {\n",
       "        vertical-align: top;\n",
       "    }\n",
       "\n",
       "    .dataframe thead th {\n",
       "        text-align: right;\n",
       "    }\n",
       "</style>\n",
       "<table border=\"1\" class=\"dataframe\">\n",
       "  <thead>\n",
       "    <tr style=\"text-align: right;\">\n",
       "      <th></th>\n",
       "      <th>count</th>\n",
       "      <th>min</th>\n",
       "      <th>mean</th>\n",
       "      <th>max</th>\n",
       "    </tr>\n",
       "    <tr>\n",
       "      <th>Gads</th>\n",
       "      <th></th>\n",
       "      <th></th>\n",
       "      <th></th>\n",
       "      <th></th>\n",
       "    </tr>\n",
       "  </thead>\n",
       "  <tbody>\n",
       "    <tr>\n",
       "      <th>1996</th>\n",
       "      <td>2</td>\n",
       "      <td>2550</td>\n",
       "      <td>3525.000000</td>\n",
       "      <td>4500</td>\n",
       "    </tr>\n",
       "    <tr>\n",
       "      <th>2000</th>\n",
       "      <td>2</td>\n",
       "      <td>2000</td>\n",
       "      <td>2100.000000</td>\n",
       "      <td>2200</td>\n",
       "    </tr>\n",
       "    <tr>\n",
       "      <th>2001</th>\n",
       "      <td>1</td>\n",
       "      <td>1900</td>\n",
       "      <td>1900.000000</td>\n",
       "      <td>1900</td>\n",
       "    </tr>\n",
       "    <tr>\n",
       "      <th>2002</th>\n",
       "      <td>2</td>\n",
       "      <td>2500</td>\n",
       "      <td>2500.000000</td>\n",
       "      <td>2500</td>\n",
       "    </tr>\n",
       "    <tr>\n",
       "      <th>2003</th>\n",
       "      <td>9</td>\n",
       "      <td>2000</td>\n",
       "      <td>4117.666667</td>\n",
       "      <td>12900</td>\n",
       "    </tr>\n",
       "    <tr>\n",
       "      <th>2004</th>\n",
       "      <td>6</td>\n",
       "      <td>1100</td>\n",
       "      <td>3190.000000</td>\n",
       "      <td>4590</td>\n",
       "    </tr>\n",
       "    <tr>\n",
       "      <th>2005</th>\n",
       "      <td>7</td>\n",
       "      <td>2300</td>\n",
       "      <td>3650.000000</td>\n",
       "      <td>4850</td>\n",
       "    </tr>\n",
       "    <tr>\n",
       "      <th>2006</th>\n",
       "      <td>14</td>\n",
       "      <td>1800</td>\n",
       "      <td>4522.500000</td>\n",
       "      <td>5850</td>\n",
       "    </tr>\n",
       "    <tr>\n",
       "      <th>2007</th>\n",
       "      <td>20</td>\n",
       "      <td>1800</td>\n",
       "      <td>4740.450000</td>\n",
       "      <td>6900</td>\n",
       "    </tr>\n",
       "    <tr>\n",
       "      <th>2008</th>\n",
       "      <td>9</td>\n",
       "      <td>3299</td>\n",
       "      <td>5520.888889</td>\n",
       "      <td>8000</td>\n",
       "    </tr>\n",
       "    <tr>\n",
       "      <th>2009</th>\n",
       "      <td>4</td>\n",
       "      <td>6150</td>\n",
       "      <td>6736.000000</td>\n",
       "      <td>6999</td>\n",
       "    </tr>\n",
       "    <tr>\n",
       "      <th>2010</th>\n",
       "      <td>13</td>\n",
       "      <td>5500</td>\n",
       "      <td>8757.923077</td>\n",
       "      <td>10999</td>\n",
       "    </tr>\n",
       "    <tr>\n",
       "      <th>2011</th>\n",
       "      <td>9</td>\n",
       "      <td>7200</td>\n",
       "      <td>8432.222222</td>\n",
       "      <td>9980</td>\n",
       "    </tr>\n",
       "    <tr>\n",
       "      <th>2012</th>\n",
       "      <td>11</td>\n",
       "      <td>7800</td>\n",
       "      <td>9067.272727</td>\n",
       "      <td>9750</td>\n",
       "    </tr>\n",
       "    <tr>\n",
       "      <th>2013</th>\n",
       "      <td>5</td>\n",
       "      <td>10000</td>\n",
       "      <td>12146.000000</td>\n",
       "      <td>13490</td>\n",
       "    </tr>\n",
       "    <tr>\n",
       "      <th>2014</th>\n",
       "      <td>13</td>\n",
       "      <td>11500</td>\n",
       "      <td>13283.384615</td>\n",
       "      <td>14990</td>\n",
       "    </tr>\n",
       "    <tr>\n",
       "      <th>2015</th>\n",
       "      <td>10</td>\n",
       "      <td>12500</td>\n",
       "      <td>14530.000000</td>\n",
       "      <td>16800</td>\n",
       "    </tr>\n",
       "    <tr>\n",
       "      <th>2016</th>\n",
       "      <td>9</td>\n",
       "      <td>14180</td>\n",
       "      <td>17062.111111</td>\n",
       "      <td>21500</td>\n",
       "    </tr>\n",
       "    <tr>\n",
       "      <th>2017</th>\n",
       "      <td>5</td>\n",
       "      <td>13999</td>\n",
       "      <td>16559.800000</td>\n",
       "      <td>18800</td>\n",
       "    </tr>\n",
       "    <tr>\n",
       "      <th>2018</th>\n",
       "      <td>4</td>\n",
       "      <td>18400</td>\n",
       "      <td>20150.000000</td>\n",
       "      <td>22900</td>\n",
       "    </tr>\n",
       "    <tr>\n",
       "      <th>2019</th>\n",
       "      <td>24</td>\n",
       "      <td>20500</td>\n",
       "      <td>27479.125000</td>\n",
       "      <td>34000</td>\n",
       "    </tr>\n",
       "    <tr>\n",
       "      <th>2020</th>\n",
       "      <td>13</td>\n",
       "      <td>22900</td>\n",
       "      <td>27412.307692</td>\n",
       "      <td>31000</td>\n",
       "    </tr>\n",
       "    <tr>\n",
       "      <th>2021</th>\n",
       "      <td>12</td>\n",
       "      <td>21300</td>\n",
       "      <td>28540.833333</td>\n",
       "      <td>32500</td>\n",
       "    </tr>\n",
       "    <tr>\n",
       "      <th>2022</th>\n",
       "      <td>7</td>\n",
       "      <td>25900</td>\n",
       "      <td>30711.428571</td>\n",
       "      <td>39900</td>\n",
       "    </tr>\n",
       "    <tr>\n",
       "      <th>2023</th>\n",
       "      <td>11</td>\n",
       "      <td>30990</td>\n",
       "      <td>41473.636364</td>\n",
       "      <td>57990</td>\n",
       "    </tr>\n",
       "    <tr>\n",
       "      <th>2024</th>\n",
       "      <td>5</td>\n",
       "      <td>37550</td>\n",
       "      <td>42188.400000</td>\n",
       "      <td>45922</td>\n",
       "    </tr>\n",
       "  </tbody>\n",
       "</table>\n",
       "</div>"
      ],
      "text/plain": [
       "      count    min          mean    max\n",
       "Gads                                   \n",
       "1996      2   2550   3525.000000   4500\n",
       "2000      2   2000   2100.000000   2200\n",
       "2001      1   1900   1900.000000   1900\n",
       "2002      2   2500   2500.000000   2500\n",
       "2003      9   2000   4117.666667  12900\n",
       "2004      6   1100   3190.000000   4590\n",
       "2005      7   2300   3650.000000   4850\n",
       "2006     14   1800   4522.500000   5850\n",
       "2007     20   1800   4740.450000   6900\n",
       "2008      9   3299   5520.888889   8000\n",
       "2009      4   6150   6736.000000   6999\n",
       "2010     13   5500   8757.923077  10999\n",
       "2011      9   7200   8432.222222   9980\n",
       "2012     11   7800   9067.272727   9750\n",
       "2013      5  10000  12146.000000  13490\n",
       "2014     13  11500  13283.384615  14990\n",
       "2015     10  12500  14530.000000  16800\n",
       "2016      9  14180  17062.111111  21500\n",
       "2017      5  13999  16559.800000  18800\n",
       "2018      4  18400  20150.000000  22900\n",
       "2019     24  20500  27479.125000  34000\n",
       "2020     13  22900  27412.307692  31000\n",
       "2021     12  21300  28540.833333  32500\n",
       "2022      7  25900  30711.428571  39900\n",
       "2023     11  30990  41473.636364  57990\n",
       "2024      5  37550  42188.400000  45922"
      ]
     },
     "execution_count": 55,
     "metadata": {},
     "output_type": "execute_result"
    }
   ],
   "source": [
    "# let us group rav4 by year and get min avg and max price\n",
    "rav4_grouped = rav4_df.groupby(\"Gads\")[\"price\"].agg([\"count\",\"min\", \"mean\", \"max\"])\n",
    "# note you can make your own aggregation functions\n",
    "# print rav4_grouped\n",
    "rav4_grouped"
   ]
  },
  {
   "cell_type": "code",
   "execution_count": 57,
   "metadata": {},
   "outputs": [
    {
     "data": {
      "text/plain": [
       "<Axes: xlabel='Gads'>"
      ]
     },
     "execution_count": 57,
     "metadata": {},
     "output_type": "execute_result"
    },
    {
     "data": {
      "image/png": "[encoded data removed]",
      "text/plain": [
       "<Figure size 640x480 with 1 Axes>"
      ]
     },
     "metadata": {},
     "output_type": "display_data"
    }
   ],
   "source": [
    "# let us plot rav4_grouped min and max values as single bar plot\n",
    "# add y grid lines\n",
    "rav4_grouped[[\"min\", \"max\"]].plot(kind=\"bar\", grid=True)\n",
    "# rav4_grouped[[\"min\", \"max\"]].plot(kind=\"bar\")\n"
   ]
  },
  {
   "cell_type": "code",
   "execution_count": 60,
   "metadata": {},
   "outputs": [
    {
     "data": {
      "text/plain": [
       "<Axes: xlabel='Gads', ylabel='price'>"
      ]
     },
     "execution_count": 60,
     "metadata": {},
     "output_type": "execute_result"
    },
    {
     "data": {
      "image/png": "[encoded data removed]",
      "text/plain": [
       "<Figure size 1200x800 with 1 Axes>"
      ]
     },
     "metadata": {},
     "output_type": "display_data"
    }
   ],
   "source": [
    "# how about creating a violin plot for rav4 prices\n",
    "import seaborn as sns # install seaborn with pip install seaborn\n",
    "# color blind friendly\n",
    "sns.set_palette(\"colorblind\")\n",
    "# set size\n",
    "sns.set(rc={'figure.figsize':(12,8)})\n",
    "sns.violinplot(data=rav4_df, x=\"Gads\", y=\"price\")"
   ]
  },
  {
   "cell_type": "code",
   "execution_count": null,
   "metadata": {},
   "outputs": [],
   "source": [
    "# TODO converting kilometers to numeric\n",
    "# TODO comparing how kilometers affect price"
   ]
  },
  {
   "cell_type": "code",
   "execution_count": null,
   "metadata": {},
   "outputs": [],
   "source": [
    "# For better visualizations I highly recommend Plotly library\n",
    "# docs: https://plotly.com/python/\n",
    "# install with pip install plotly"
   ]
  }
 ],
 "metadata": {
  "kernelspec": {
   "display_name": ".venv",
   "language": "python",
   "name": "python3"
  },
  "language_info": {
   "codemirror_mode": {
    "name": "ipython",
    "version": 3
   },
   "file_extension": ".py",
   "mimetype": "text/x-python",
   "name": "python",
   "nbconvert_exporter": "python",
   "pygments_lexer": "ipython3",
   "version": "3.12.3"
  }
 },
 "nbformat": 4,
 "nbformat_minor": 2
}
