{
 "cells": [
  {
   "cell_type": "markdown",
   "metadata": {},
   "source": [
    "# JSON and APIs\n",
    "\n",
    "## Introduction to JSON\n",
    "\n",
    "JSON was invented by Douglas Crockford in 2001. It is a lightweight data-interchange format that is easy for humans to read and write and easy for machines to parse and generate. JSON is based on a subset of the JavaScript Programming Language, Standard ECMA-262 3rd Edition - December 1999. JSON is a text format that is completely language independent but uses conventions that are familiar to programmers of the C-family of languages, including C, C++, C#, Java, JavaScript, Perl, Python, and many others. These properties make JSON an ideal data-interchange language.\n",
    "\n",
    "### Alternatives to JSON\n",
    "\n",
    "There are other data-interchange formats that are similar to JSON, such as XML, YAML, and CSV. However, JSON has become the most popular data-interchange format because of its simplicity and ease of use. JSON is also more lightweight than XML, which makes it faster to parse and generate. JSON is also more human-readable than CSV, which makes it easier to debug and troubleshoot.\n",
    "\n",
    "### Goals of JSON\n",
    "\n",
    "- Machine Parsable: JSON is easy for machines to parse and generate.\n",
    "- Human Readable and Editable: JSON is easy for humans to read and write.\n",
    "\n",
    "Website: [JSON](https://www.json.org/json-en.html)"
   ]
  },
  {
   "cell_type": "code",
   "execution_count": 1,
   "metadata": {},
   "outputs": [
    {
     "name": "stdout",
     "output_type": "stream",
     "text": [
      "json_string is of type <class 'str'>\n",
      "{\"name\": \"Rūta\", \"age\": 20, \"city\": \"Rīga\"}\n"
     ]
    }
   ],
   "source": [
    "# let's create a json sample\n",
    "# first let's import the json module\n",
    "import json # this is part of the standard library\n",
    "json_string = '{\"name\": \"Rūta\", \"age\": 20, \"city\": \"Rīga\"}'\n",
    "# this is just a string! JSON is basically text that looks like a Python dictionary - but it is not parsed yet\n",
    "print(f\"json_string is of type {type(json_string)}\")\n",
    "print(json_string)"
   ]
  },
  {
   "cell_type": "code",
   "execution_count": 2,
   "metadata": {},
   "outputs": [
    {
     "name": "stdout",
     "output_type": "stream",
     "text": [
      "data is of type <class 'dict'>\n",
      "{'name': 'Rūta', 'age': 20, 'city': 'Rīga'}\n"
     ]
    }
   ],
   "source": [
    "# we will typically want to parse JSON strings into Python objects\n",
    "# we do that by using the json.loads() function\n",
    "data = json.loads(json_string)\n",
    "print(f\"data is of type {type(data)}\")\n",
    "print(data)"
   ]
  },
  {
   "cell_type": "code",
   "execution_count": 3,
   "metadata": {},
   "outputs": [
    {
     "name": "stdout",
     "output_type": "stream",
     "text": [
      "{'name': 'Rūta', 'age': 20, 'city': 'Rīga', 'country': 'Latvia', 'hobbies': ['reading', 'swimming', 'coding']}\n"
     ]
    }
   ],
   "source": [
    "# so data is just a Python object now, has not relation to JSON anymore\n",
    "# let's add some key-value pairs to it\n",
    "data['country'] = 'Latvia'\n",
    "data['hobbies'] = ['reading', 'swimming', 'coding']\n",
    "print(data)"
   ]
  },
  {
   "cell_type": "markdown",
   "metadata": {},
   "source": [
    "## Transfomring Python data back to JSON strings\n",
    "\n",
    "The `json` module in Python can be used to transform Python data structures back to JSON strings. The `json.dumps()` function can be used to transform Python data structures back to JSON strings. The `json.dumps()` function takes a Python data structure as input and returns a JSON string as output. \n",
    "\n",
    "If we want to save to file directly we can use the `json.dump()` function. This function takes a Python data structure and a file object as input and writes the JSON string to the file object.\n",
    "\n",
    "```python"
   ]
  },
  {
   "cell_type": "code",
   "execution_count": 4,
   "metadata": {},
   "outputs": [],
   "source": [
    "# let's save our data into json formatted text file\n",
    "with open('data.json', 'w') as f: # name could be anything but we want .json extension\n",
    "    json.dump(data, f)"
   ]
  },
  {
   "cell_type": "markdown",
   "metadata": {},
   "source": [
    "## Making JSON better looking\n",
    "\n",
    "Inspecing our data.json file we see two potential issues:\n",
    "\n",
    "- Unicode strings are escaped into ASCII - not very readable\n",
    "- the file is not indented - not very readable"
   ]
  },
  {
   "cell_type": "code",
   "execution_count": 5,
   "metadata": {},
   "outputs": [],
   "source": [
    "# solution is to pass some extra parameters to json.dump()\n",
    "# indent=4 will make the output more readable\n",
    "# encoding='utf-8' will allow us to use non-ASCII characters\n",
    "# ensure_ascii=False will allow us to use non-ASCII characters\n",
    "\n",
    "with open('data_indented_utf8.json', 'w',encoding=\"utf-8\") as f:\n",
    "    json.dump(data, f, indent=4, ensure_ascii=False)"
   ]
  }
 ],
 "metadata": {
  "kernelspec": {
   "display_name": ".venv",
   "language": "python",
   "name": "python3"
  },
  "language_info": {
   "codemirror_mode": {
    "name": "ipython",
    "version": 3
   },
   "file_extension": ".py",
   "mimetype": "text/x-python",
   "name": "python",
   "nbconvert_exporter": "python",
   "pygments_lexer": "ipython3",
   "version": "3.12.3"
  }
 },
 "nbformat": 4,
 "nbformat_minor": 2
}
