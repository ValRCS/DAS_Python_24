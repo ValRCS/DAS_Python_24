{
 "cells": [
  {
   "cell_type": "markdown",
   "metadata": {},
   "source": [
    "# JSON and APIs\n",
    "\n",
    "## Introduction to JSON\n",
    "\n",
    "JSON was invented by Douglas Crockford in 2001. It is a lightweight data-interchange format that is easy for humans to read and write and easy for machines to parse and generate. JSON is based on a subset of the JavaScript Programming Language, Standard ECMA-262 3rd Edition - December 1999. JSON is a text format that is completely language independent but uses conventions that are familiar to programmers of the C-family of languages, including C, C++, C#, Java, JavaScript, Perl, Python, and many others. These properties make JSON an ideal data-interchange language.\n",
    "\n",
    "### Alternatives to JSON\n",
    "\n",
    "There are other data-interchange formats that are similar to JSON, such as XML, YAML, and CSV. However, JSON has become the most popular data-interchange format because of its simplicity and ease of use. JSON is also more lightweight than XML, which makes it faster to parse and generate. JSON is also more human-readable than CSV, which makes it easier to debug and troubleshoot.\n",
    "\n",
    "### Goals of JSON\n",
    "\n",
    "- Machine Parsable: JSON is easy for machines to parse and generate.\n",
    "- Human Readable and Editable: JSON is easy for humans to read and write.\n",
    "\n",
    "Website: [JSON](https://www.json.org/json-en.html)"
   ]
  },
  {
   "cell_type": "code",
   "execution_count": 1,
   "metadata": {},
   "outputs": [
    {
     "name": "stdout",
     "output_type": "stream",
     "text": [
      "json_string is of type <class 'str'>\n",
      "{\"name\": \"Rūta\", \"age\": 20, \"city\": \"Rīga\"}\n"
     ]
    }
   ],
   "source": [
    "# let's create a json sample\n",
    "# first let's import the json module\n",
    "import json # this is part of the standard library\n",
    "json_string = '{\"name\": \"Rūta\", \"age\": 20, \"city\": \"Rīga\"}'\n",
    "# this is just a string! JSON is basically text that looks like a Python dictionary - but it is not parsed yet\n",
    "print(f\"json_string is of type {type(json_string)}\")\n",
    "print(json_string)"
   ]
  },
  {
   "cell_type": "code",
   "execution_count": 2,
   "metadata": {},
   "outputs": [
    {
     "name": "stdout",
     "output_type": "stream",
     "text": [
      "data is of type <class 'dict'>\n",
      "{'name': 'Rūta', 'age': 20, 'city': 'Rīga'}\n"
     ]
    }
   ],
   "source": [
    "# we will typically want to parse JSON strings into Python objects\n",
    "# we do that by using the json.loads() function\n",
    "data = json.loads(json_string)\n",
    "print(f\"data is of type {type(data)}\")\n",
    "print(data)"
   ]
  },
  {
   "cell_type": "code",
   "execution_count": 3,
   "metadata": {},
   "outputs": [
    {
     "name": "stdout",
     "output_type": "stream",
     "text": [
      "{'name': 'Rūta', 'age': 20, 'city': 'Rīga', 'country': 'Latvia', 'hobbies': ['reading', 'swimming', 'coding']}\n"
     ]
    }
   ],
   "source": [
    "# so data is just a Python object now, has not relation to JSON anymore\n",
    "# let's add some key-value pairs to it\n",
    "data['country'] = 'Latvia'\n",
    "data['hobbies'] = ['reading', 'swimming', 'coding']\n",
    "print(data)"
   ]
  },
  {
   "cell_type": "markdown",
   "metadata": {},
   "source": [
    "## Transfomring Python data back to JSON strings\n",
    "\n",
    "The `json` module in Python can be used to transform Python data structures back to JSON strings. The `json.dumps()` function can be used to transform Python data structures back to JSON strings. The `json.dumps()` function takes a Python data structure as input and returns a JSON string as output. \n",
    "\n",
    "If we want to save to file directly we can use the `json.dump()` function. This function takes a Python data structure and a file object as input and writes the JSON string to the file object.\n",
    "\n",
    "```python"
   ]
  },
  {
   "cell_type": "code",
   "execution_count": 4,
   "metadata": {},
   "outputs": [],
   "source": [
    "# let's save our data into json formatted text file\n",
    "with open('data.json', 'w') as f: # name could be anything but we want .json extension\n",
    "    json.dump(data, f)"
   ]
  },
  {
   "cell_type": "markdown",
   "metadata": {},
   "source": [
    "## Making JSON better looking\n",
    "\n",
    "Inspecing our data.json file we see two potential issues:\n",
    "\n",
    "- Unicode strings are escaped into ASCII - not very readable\n",
    "- the file is not indented - not very readable"
   ]
  },
  {
   "cell_type": "code",
   "execution_count": 5,
   "metadata": {},
   "outputs": [],
   "source": [
    "# solution is to pass some extra parameters to json.dump()\n",
    "# indent=4 will make the output more readable\n",
    "# encoding='utf-8' will allow us to use non-ASCII characters\n",
    "# ensure_ascii=False will allow us to use non-ASCII characters\n",
    "\n",
    "with open('data_indented_utf8.json', 'w',encoding=\"utf-8\") as f:\n",
    "    json.dump(data, f, indent=4, ensure_ascii=False)"
   ]
  },
  {
   "cell_type": "markdown",
   "metadata": {},
   "source": [
    "## Converting List of Dictionaries to JSON \n",
    "\n",
    "Very often our data is in the form of a list of dictionaries. We can convert them just like before using the `json.dump()` function. \n",
    "\n"
   ]
  },
  {
   "cell_type": "code",
   "execution_count": 6,
   "metadata": {},
   "outputs": [],
   "source": [
    "person_list = [\n",
    "    {\"name\": \"Rūta\", \"age\": 20, \"city\": \"Rīga\"},\n",
    "    {\"name\": \"Maija\", \"age\": 30, \"city\": \"London\"},\n",
    "    {\"name\": \"Ede\", \"age\": 25, \"city\": \"New York\"}\n",
    "]\n",
    "# let's save it json formatted text file\n",
    "with open('person_list.json', 'w',encoding=\"utf-8\") as f:\n",
    "    json.dump(person_list, f, indent=4, ensure_ascii=False)"
   ]
  },
  {
   "cell_type": "markdown",
   "metadata": {},
   "source": [
    "## Reading JSON files\n",
    "\n",
    "The `json` module in Python can be used to read JSON files. The `json.load()` function can be used to read JSON files. The `json.load()` function takes a file object as input and returns a Python data structure as output. \n",
    "\n"
   ]
  },
  {
   "cell_type": "code",
   "execution_count": 7,
   "metadata": {},
   "outputs": [
    {
     "name": "stdout",
     "output_type": "stream",
     "text": [
      "Do lists have same data? True\n",
      "Are lists actually same objects in memory? False\n"
     ]
    }
   ],
   "source": [
    "# let's read person_list.json back into Python\n",
    "with open('person_list.json', 'r',encoding=\"utf-8\") as f:\n",
    "    also_person_list = json.load(f)\n",
    "\n",
    "# let's compare it to the original person_list\n",
    "print(f\"Do lists have same data? {person_list == also_person_list}\")\n",
    "print(f\"Are lists actually same objects in memory? {person_list is also_person_list}\")"
   ]
  },
  {
   "cell_type": "markdown",
   "metadata": {},
   "source": [
    "## Correspondence of JSON and Python data types\n",
    "\n",
    "JSON and Python data types correspond to each other as follows:\n",
    "\n",
    "- JSON null -> Python None\n",
    "- JSON true -> Python True\n",
    "- JSON false -> Python False\n",
    "- JSON number -> Python int or float\n",
    "- JSON string -> Python str\n",
    "- JSON array -> Python list\n",
    "- JSON object -> Python dict\n",
    "\n",
    "Note: Python tuples are converted to JSON arrays, so you will lose the distinction between tuples and lists when converting Python data structures to JSON strings.\n",
    "\n",
    "Note also that JSON officially does not support comments. However, some parsers do support comments. There are some less widely used versions of JSON that do support comments, such as JSON5 and HJSON.\n",
    "Workaround in JSON for comments is to use a key-value pair with the key being a comment and the value being a string. This is not a perfect solution, but it is a common workaround."
   ]
  },
  {
   "cell_type": "markdown",
   "metadata": {},
   "source": [
    "## Usage of JSON as API\n",
    "\n",
    "### What is API in general?\n",
    "\n",
    "API stands for Application Programming Interface. An API is a set of rules and protocols that allow one software application to interact with another software application.\n",
    "\n",
    "JSON is often used as the data-interchange format for APIs typically in web applications. The client sends a request to the server in JSON format, and the server sends a response to the client in JSON format. The client and server can be written in any programming language, as long as they can parse and generate JSON strings."
   ]
  },
  {
   "cell_type": "code",
   "execution_count": 8,
   "metadata": {},
   "outputs": [
    {
     "name": "stdout",
     "output_type": "stream",
     "text": [
      "Will open https://jsonplaceholder.typicode.com/users\n"
     ]
    }
   ],
   "source": [
    "## we will use requests module to get data from the internet\n",
    "# requests is a third-party module, so we need to install it first\n",
    "# pip install requests if you do not have it installed\n",
    "# home page: https://requests.readthedocs.io/en/master/\n",
    "\n",
    "# note Google Colab has requests installed by default\n",
    "\n",
    "import requests\n",
    "# now I will want an url to get some data from\n",
    "url = \"https://jsonplaceholder.typicode.com/users\"\n",
    "print(f\"Will open {url}\")"
   ]
  },
  {
   "cell_type": "code",
   "execution_count": 9,
   "metadata": {},
   "outputs": [
    {
     "name": "stdout",
     "output_type": "stream",
     "text": [
      "Status code is 200\n"
     ]
    }
   ],
   "source": [
    "# now I will use requests.get() function to get the data\n",
    "# essentially this is the same as opening a url in a browser\n",
    "# instead of browser displaying the data, requests.get() will return the data to us\n",
    "response = requests.get(url) # here an internet connection is needed\n",
    "# let's check the status code of response\n",
    "print(f\"Status code is {response.status_code}\")"
   ]
  },
  {
   "cell_type": "code",
   "execution_count": 10,
   "metadata": {},
   "outputs": [
    {
     "name": "stdout",
     "output_type": "stream",
     "text": [
      "Will open https://example.com/not_a_real_page_norJSON\n",
      "Status code is 500\n"
     ]
    }
   ],
   "source": [
    "bad_url = \"https://example.com/not_a_real_page_norJSON\"\n",
    "print(f\"Will open {bad_url}\")\n",
    "another_response = requests.get(bad_url)\n",
    "print(f\"Status code is {another_response.status_code}\")\n",
    "# here it 500 means there is server error\n",
    "\n",
    "# full list of status codes: https://en.wikipedia.org/wiki/List_of_HTTP_status_codes"
   ]
  },
  {
   "cell_type": "code",
   "execution_count": 11,
   "metadata": {},
   "outputs": [
    {
     "name": "stdout",
     "output_type": "stream",
     "text": [
      "data is of type <class 'list'>\n",
      "[{'id': 1, 'name': 'Leanne Graham', 'username': 'Bret', 'email': 'Sincere@april.biz', 'address': {'street': 'Kulas Light', 'suite': 'Apt. 556', 'city': 'Gwenborough', 'zipcode': '92998-3874', 'geo': {'lat': '-37.3159', 'lng': '81.1496'}}, 'phone': '1-770-736-8031 x56442', 'website': 'hildegard.org', 'company': {'name': 'Romaguera-Crona', 'catchPhrase': 'Multi-layered client-server neural-net', 'bs': 'harness real-time e-markets'}}, {'id': 2, 'name': 'Ervin Howell', 'username': 'Antonette', 'email': 'Shanna@melissa.tv', 'address': {'street': 'Victor Plains', 'suite': 'Suite 879', 'city': 'Wisokyburgh', 'zipcode': '90566-7771', 'geo': {'lat': '-43.9509', 'lng': '-34.4618'}}, 'phone': '010-692-6593 x09125', 'website': 'anastasia.net', 'company': {'name': 'Deckow-Crist', 'catchPhrase': 'Proactive didactic contingency', 'bs': 'synergize scalable supply-chains'}}, {'id': 3, 'name': 'Clementine Bauch', 'username': 'Samantha', 'email': 'Nathan@yesenia.net', 'address': {'street': 'Douglas Extension', 'suite': 'Suite 847', 'city': 'McKenziehaven', 'zipcode': '59590-4157', 'geo': {'lat': '-68.6102', 'lng': '-47.0653'}}, 'phone': '1-463-123-4447', 'website': 'ramiro.info', 'company': {'name': 'Romaguera-Jacobson', 'catchPhrase': 'Face to face bifurcated interface', 'bs': 'e-enable strategic applications'}}, {'id': 4, 'name': 'Patricia Lebsack', 'username': 'Karianne', 'email': 'Julianne.OConner@kory.org', 'address': {'street': 'Hoeger Mall', 'suite': 'Apt. 692', 'city': 'South Elvis', 'zipcode': '53919-4257', 'geo': {'lat': '29.4572', 'lng': '-164.2990'}}, 'phone': '493-170-9623 x156', 'website': 'kale.biz', 'company': {'name': 'Robel-Corkery', 'catchPhrase': 'Multi-tiered zero tolerance productivity', 'bs': 'transition cutting-edge web services'}}, {'id': 5, 'name': 'Chelsey Dietrich', 'username': 'Kamren', 'email': 'Lucio_Hettinger@annie.ca', 'address': {'street': 'Skiles Walks', 'suite': 'Suite 351', 'city': 'Roscoeview', 'zipcode': '33263', 'geo': {'lat': '-31.8129', 'lng': '62.5342'}}, 'phone': '(254)954-1289', 'website': 'demarco.info', 'company': {'name': 'Keebler LLC', 'catchPhrase': 'User-centric fault-tolerant solution', 'bs': 'revolutionize end-to-end systems'}}, {'id': 6, 'name': 'Mrs. Dennis Schulist', 'username': 'Leopoldo_Corkery', 'email': 'Karley_Dach@jasper.info', 'address': {'street': 'Norberto Crossing', 'suite': 'Apt. 950', 'city': 'South Christy', 'zipcode': '23505-1337', 'geo': {'lat': '-71.4197', 'lng': '71.7478'}}, 'phone': '1-477-935-8478 x6430', 'website': 'ola.org', 'company': {'name': 'Considine-Lockman', 'catchPhrase': 'Synchronised bottom-line interface', 'bs': 'e-enable innovative applications'}}, {'id': 7, 'name': 'Kurtis Weissnat', 'username': 'Elwyn.Skiles', 'email': 'Telly.Hoeger@billy.biz', 'address': {'street': 'Rex Trail', 'suite': 'Suite 280', 'city': 'Howemouth', 'zipcode': '58804-1099', 'geo': {'lat': '24.8918', 'lng': '21.8984'}}, 'phone': '210.067.6132', 'website': 'elvis.io', 'company': {'name': 'Johns Group', 'catchPhrase': 'Configurable multimedia task-force', 'bs': 'generate enterprise e-tailers'}}, {'id': 8, 'name': 'Nicholas Runolfsdottir V', 'username': 'Maxime_Nienow', 'email': 'Sherwood@rosamond.me', 'address': {'street': 'Ellsworth Summit', 'suite': 'Suite 729', 'city': 'Aliyaview', 'zipcode': '45169', 'geo': {'lat': '-14.3990', 'lng': '-120.7677'}}, 'phone': '586.493.6943 x140', 'website': 'jacynthe.com', 'company': {'name': 'Abernathy Group', 'catchPhrase': 'Implemented secondary concept', 'bs': 'e-enable extensible e-tailers'}}, {'id': 9, 'name': 'Glenna Reichert', 'username': 'Delphine', 'email': 'Chaim_McDermott@dana.io', 'address': {'street': 'Dayna Park', 'suite': 'Suite 449', 'city': 'Bartholomebury', 'zipcode': '76495-3109', 'geo': {'lat': '24.6463', 'lng': '-168.8889'}}, 'phone': '(775)976-6794 x41206', 'website': 'conrad.com', 'company': {'name': 'Yost and Sons', 'catchPhrase': 'Switchable contextually-based project', 'bs': 'aggregate real-time technologies'}}, {'id': 10, 'name': 'Clementina DuBuque', 'username': 'Moriah.Stanton', 'email': 'Rey.Padberg@karina.biz', 'address': {'street': 'Kattie Turnpike', 'suite': 'Suite 198', 'city': 'Lebsackbury', 'zipcode': '31428-2261', 'geo': {'lat': '-38.2386', 'lng': '57.2232'}}, 'phone': '024-648-3804', 'website': 'ambrose.net', 'company': {'name': 'Hoeger LLC', 'catchPhrase': 'Centralized empowering task-force', 'bs': 'target end-to-end models'}}]\n"
     ]
    }
   ],
   "source": [
    "# now our response gave 200 status code, so we can try to get the data\n",
    "data = response.json() # we can use .json() method to parse JSON data\n",
    "# again data is now a Python object, not JSON string\n",
    "# so we use normal Python syntax to work with it\n",
    "# so parser is built-in\n",
    "print(f\"data is of type {type(data)}\")\n",
    "print(data)"
   ]
  },
  {
   "cell_type": "code",
   "execution_count": 12,
   "metadata": {},
   "outputs": [],
   "source": [
    "# now we could save this data into a file\n",
    "with open('users.json', 'w',encoding=\"utf-8\") as f:\n",
    "    json.dump(data, f, indent=4, ensure_ascii=False)"
   ]
  },
  {
   "cell_type": "code",
   "execution_count": 13,
   "metadata": {},
   "outputs": [
    {
     "name": "stdout",
     "output_type": "stream",
     "text": [
      "{'Leanne Graham': '1-770-736-8031 x56442', 'Ervin Howell': '010-692-6593 x09125', 'Clementine Bauch': '1-463-123-4447', 'Patricia Lebsack': '493-170-9623 x156', 'Chelsey Dietrich': '(254)954-1289', 'Mrs. Dennis Schulist': '1-477-935-8478 x6430', 'Kurtis Weissnat': '210.067.6132', 'Nicholas Runolfsdottir V': '586.493.6943 x140', 'Glenna Reichert': '(775)976-6794 x41206', 'Clementina DuBuque': '024-648-3804'}\n"
     ]
    }
   ],
   "source": [
    "# a typical task when working JSON would be some sort of data transformation\n",
    "# also called data wrangling or data munging\n",
    "\n",
    "# let's create a new dictionary of names to phone numbers\n",
    "\n",
    "phone_numbers = {}\n",
    "for user in data:\n",
    "    phone_numbers[user['name']] = user['phone']\n",
    "\n",
    "print(phone_numbers)\n"
   ]
  },
  {
   "cell_type": "markdown",
   "metadata": {},
   "source": [
    "## JSON API Data sources\n",
    "\n",
    "There are many many public APIs that provide JSON data. Here are a few examples:\n",
    "\n",
    "- [OpenWeatherMap API](https://openweathermap.org/api) - requires sign-up\n",
    "\n",
    "List of Awesome APIs: [Awesome APIs]("
   ]
  },
  {
   "cell_type": "code",
   "execution_count": 15,
   "metadata": {},
   "outputs": [
    {
     "name": "stdout",
     "output_type": "stream",
     "text": [
      "Status code is 401\n"
     ]
    }
   ],
   "source": [
    "# let's try to get data from openweathermap.org\n",
    "\n",
    "# we have our API KEY - which SHOULD BE KEPT SECRET!! not put in public Notebook file\n",
    "api_key = \"dfadfafdafdfdsa\" # this is not a real key\n",
    "city = \"Riga\"\n",
    "url = f\"http://api.openweathermap.org/data/2.5/weather?q={city}&appid={api_key}\"\n",
    "\n",
    "response = requests.get(url) # this makes internet connection\n",
    "# sometimes we need to pass custom headers to requests.get() function\n",
    "# such as browser type or API key\n",
    "# example of custom headers:\n",
    "# headers = {\n",
    "#     \"User-Agent\": \"Mozilla/5.0\",\n",
    "#    \"Authorization\": \"Bearer\"\n",
    "# }\n",
    "# response = requests.get(url, headers=headers)\n",
    "print(f\"Status code is {response.status_code}\")\n",
    "# 401 means that my API is not valid / not activated or not provided"
   ]
  },
  {
   "cell_type": "code",
   "execution_count": 16,
   "metadata": {},
   "outputs": [
    {
     "name": "stdout",
     "output_type": "stream",
     "text": [
      "[{'name': 'Persimmon', 'id': 52, 'family': 'Ebenaceae', 'order': 'Rosales', 'genus': 'Diospyros', 'nutritions': {'calories': 81, 'fat': 0.0, 'sugar': 18.0, 'carbohydrates': 18.0, 'protein': 0.0}}, {'name': 'Strawberry', 'id': 3, 'family': 'Rosaceae', 'order': 'Rosales', 'genus': 'Fragaria', 'nutritions': {'calories': 29, 'fat': 0.4, 'sugar': 5.4, 'carbohydrates': 5.5, 'protein': 0.8}}, {'name': 'Banana', 'id': 1, 'family': 'Musaceae', 'order': 'Zingiberales', 'genus': 'Musa', 'nutritions': {'calories': 96, 'fat': 0.2, 'sugar': 17.2, 'carbohydrates': 22.0, 'protein': 1.0}}, {'name': 'Tomato', 'id': 5, 'family': 'Solanaceae', 'order': 'Solanales', 'genus': 'Solanum', 'nutritions': {'calories': 74, 'fat': 0.2, 'sugar': 2.6, 'carbohydrates': 3.9, 'protein': 0.9}}, {'name': 'Pear', 'id': 4, 'family': 'Rosaceae', 'order': 'Rosales', 'genus': 'Pyrus', 'nutritions': {'calories': 57, 'fat': 0.1, 'sugar': 10.0, 'carbohydrates': 15.0, 'protein': 0.4}}, {'name': 'Durian', 'id': 60, 'family': 'Malvaceae', 'order': 'Malvales', 'genus': 'Durio', 'nutritions': {'calories': 147, 'fat': 5.3, 'sugar': 6.75, 'carbohydrates': 27.1, 'protein': 1.5}}, {'name': 'Blackberry', 'id': 64, 'family': 'Rosaceae', 'order': 'Rosales', 'genus': 'Rubus', 'nutritions': {'calories': 40, 'fat': 0.4, 'sugar': 4.5, 'carbohydrates': 9.0, 'protein': 1.3}}, {'name': 'Lingonberry', 'id': 65, 'family': 'Ericaceae', 'order': 'Ericales', 'genus': 'Vaccinium', 'nutritions': {'calories': 50, 'fat': 0.34, 'sugar': 5.74, 'carbohydrates': 11.3, 'protein': 0.75}}, {'name': 'Kiwi', 'id': 66, 'family': 'Actinidiaceae', 'order': 'Struthioniformes', 'genus': 'Apteryx', 'nutritions': {'calories': 61, 'fat': 0.5, 'sugar': 9.0, 'carbohydrates': 15.0, 'protein': 1.1}}, {'name': 'Lychee', 'id': 67, 'family': 'Sapindaceae', 'order': 'Sapindales', 'genus': 'Litchi', 'nutritions': {'calories': 66, 'fat': 0.44, 'sugar': 15.0, 'carbohydrates': 17.0, 'protein': 0.8}}, {'name': 'Pineapple', 'id': 10, 'family': 'Bromeliaceae', 'order': 'Poales', 'genus': 'Ananas', 'nutritions': {'calories': 50, 'fat': 0.12, 'sugar': 9.85, 'carbohydrates': 13.12, 'protein': 0.54}}, {'name': 'Fig', 'id': 68, 'family': 'Moraceae', 'order': 'Rosales', 'genus': 'Ficus', 'nutritions': {'calories': 74, 'fat': 0.3, 'sugar': 16.0, 'carbohydrates': 19.0, 'protein': 0.8}}, {'name': 'Gooseberry', 'id': 69, 'family': 'Grossulariaceae', 'order': 'Saxifragales', 'genus': 'Ribes', 'nutritions': {'calories': 44, 'fat': 0.6, 'sugar': 0.0, 'carbohydrates': 10.0, 'protein': 0.9}}, {'name': 'Passionfruit', 'id': 70, 'family': 'Passifloraceae', 'order': 'Malpighiales', 'genus': 'Passiflora', 'nutritions': {'calories': 97, 'fat': 0.7, 'sugar': 11.2, 'carbohydrates': 22.4, 'protein': 2.2}}, {'name': 'Plum', 'id': 71, 'family': 'Rosaceae', 'order': 'Rosales', 'genus': 'Prunus', 'nutritions': {'calories': 46, 'fat': 0.28, 'sugar': 9.92, 'carbohydrates': 11.4, 'protein': 0.7}}, {'name': 'Orange', 'id': 2, 'family': 'Rutaceae', 'order': 'Sapindales', 'genus': 'Citrus', 'nutritions': {'calories': 43, 'fat': 0.2, 'sugar': 8.2, 'carbohydrates': 8.3, 'protein': 1.0}}, {'name': 'GreenApple', 'id': 72, 'family': 'Rosaceae', 'order': 'Rosales', 'genus': 'Malus', 'nutritions': {'calories': 21, 'fat': 0.1, 'sugar': 6.4, 'carbohydrates': 3.1, 'protein': 0.4}}, {'name': 'Raspberry', 'id': 23, 'family': 'Rosaceae', 'order': 'Rosales', 'genus': 'Rubus', 'nutritions': {'calories': 53, 'fat': 0.7, 'sugar': 4.4, 'carbohydrates': 12.0, 'protein': 1.2}}, {'name': 'Watermelon', 'id': 25, 'family': 'Cucurbitaceae', 'order': 'Cucurbitales', 'genus': 'Citrullus', 'nutritions': {'calories': 30, 'fat': 0.2, 'sugar': 6.0, 'carbohydrates': 8.0, 'protein': 0.6}}, {'name': 'Lemon', 'id': 26, 'family': 'Rutaceae', 'order': 'Sapindales', 'genus': 'Citrus', 'nutritions': {'calories': 29, 'fat': 0.3, 'sugar': 2.5, 'carbohydrates': 9.0, 'protein': 1.1}}, {'name': 'Mango', 'id': 27, 'family': 'Anacardiaceae', 'order': 'Sapindales', 'genus': 'Mangifera', 'nutritions': {'calories': 60, 'fat': 0.38, 'sugar': 13.7, 'carbohydrates': 15.0, 'protein': 0.82}}, {'name': 'Blueberry', 'id': 33, 'family': 'Rosaceae', 'order': 'Rosales', 'genus': 'Fragaria', 'nutritions': {'calories': 29, 'fat': 0.4, 'sugar': 5.4, 'carbohydrates': 5.5, 'protein': 0.0}}, {'name': 'Apple', 'id': 6, 'family': 'Rosaceae', 'order': 'Rosales', 'genus': 'Malus', 'nutritions': {'calories': 52, 'fat': 0.4, 'sugar': 10.3, 'carbohydrates': 11.4, 'protein': 0.3}}, {'name': 'Guava', 'id': 37, 'family': 'Myrtaceae', 'order': 'Myrtales', 'genus': 'Psidium', 'nutritions': {'calories': 68, 'fat': 1.0, 'sugar': 9.0, 'carbohydrates': 14.0, 'protein': 2.6}}, {'name': 'Apricot', 'id': 35, 'family': 'Rosaceae', 'order': 'Rosales', 'genus': 'Prunus', 'nutritions': {'calories': 15, 'fat': 0.1, 'sugar': 3.2, 'carbohydrates': 3.9, 'protein': 0.5}}, {'name': 'Melon', 'id': 41, 'family': 'Cucurbitaceae', 'order': 'Cucurbitaceae', 'genus': 'Cucumis', 'nutritions': {'calories': 34, 'fat': 0.0, 'sugar': 8.0, 'carbohydrates': 8.0, 'protein': 0.0}}, {'name': 'Tangerine', 'id': 77, 'family': 'Rutaceae', 'order': 'Sapindales', 'genus': 'Citrus', 'nutritions': {'calories': 45, 'fat': 0.4, 'sugar': 9.1, 'carbohydrates': 8.3, 'protein': 0.0}}, {'name': 'Pitahaya', 'id': 78, 'family': 'Cactaceae', 'order': 'Caryophyllales', 'genus': 'Cactaceae', 'nutritions': {'calories': 36, 'fat': 0.4, 'sugar': 3.0, 'carbohydrates': 7.0, 'protein': 1.0}}, {'name': 'Lime', 'id': 44, 'family': 'Rutaceae', 'order': 'Sapindales', 'genus': 'Citrus', 'nutritions': {'calories': 25, 'fat': 0.1, 'sugar': 1.7, 'carbohydrates': 8.4, 'protein': 0.3}}, {'name': 'Pomegranate', 'id': 79, 'family': 'Lythraceae', 'order': 'Myrtales', 'genus': 'Punica', 'nutritions': {'calories': 83, 'fat': 1.2, 'sugar': 13.7, 'carbohydrates': 18.7, 'protein': 1.7}}, {'name': 'Dragonfruit', 'id': 80, 'family': 'Cactaceae', 'order': 'Caryophyllales', 'genus': 'Selenicereus', 'nutritions': {'calories': 60, 'fat': 1.5, 'sugar': 8.0, 'carbohydrates': 9.0, 'protein': 9.0}}, {'name': 'Grape', 'id': 81, 'family': 'Vitaceae', 'order': 'Vitales', 'genus': 'Vitis', 'nutritions': {'calories': 69, 'fat': 0.16, 'sugar': 16.0, 'carbohydrates': 18.1, 'protein': 0.72}}, {'name': 'Morus', 'id': 82, 'family': 'Moraceae', 'order': 'Rosales', 'genus': 'Morus', 'nutritions': {'calories': 43, 'fat': 0.39, 'sugar': 8.1, 'carbohydrates': 9.8, 'protein': 1.44}}, {'name': 'Feijoa', 'id': 76, 'family': 'Myrtaceae', 'order': 'Myrtoideae', 'genus': 'Sellowiana', 'nutritions': {'calories': 44, 'fat': 0.4, 'sugar': 3.0, 'carbohydrates': 8.0, 'protein': 0.6}}, {'name': 'Avocado', 'id': 84, 'family': 'Lauraceae', 'order': 'Laurales', 'genus': 'Persea', 'nutritions': {'calories': 160, 'fat': 14.66, 'sugar': 0.66, 'carbohydrates': 8.53, 'protein': 2.0}}, {'name': 'Kiwifruit', 'id': 85, 'family': 'Actinidiaceae', 'order': 'Ericales', 'genus': 'Actinidia', 'nutritions': {'calories': 61, 'fat': 0.5, 'sugar': 8.9, 'carbohydrates': 14.6, 'protein': 1.14}}, {'name': 'Cranberry', 'id': 87, 'family': 'Ericaceae', 'order': 'Ericales', 'genus': 'Vaccinium', 'nutritions': {'calories': 46, 'fat': 0.1, 'sugar': 4.0, 'carbohydrates': 12.2, 'protein': 0.4}}, {'name': 'Cherry', 'id': 9, 'family': 'Rosaceae', 'order': 'Rosales', 'genus': 'Prunus', 'nutritions': {'calories': 50, 'fat': 0.3, 'sugar': 8.0, 'carbohydrates': 12.0, 'protein': 1.0}}, {'name': 'Peach', 'id': 86, 'family': 'Rosaceae', 'order': 'Rosales', 'genus': 'Prunus', 'nutritions': {'calories': 39, 'fat': 0.25, 'sugar': 8.4, 'carbohydrates': 9.5, 'protein': 0.9}}, {'name': 'Jackfruit', 'id': 94, 'family': 'Moraceae', 'order': 'Rosales', 'genus': 'Artocarpus', 'nutritions': {'calories': 95, 'fat': 0.0, 'sugar': 19.1, 'carbohydrates': 23.2, 'protein': 1.72}}, {'name': 'Horned Melon', 'id': 95, 'family': 'Cucurbitaceae', 'order': 'Cucurbitales', 'genus': 'Cucumis', 'nutritions': {'calories': 44, 'fat': 1.26, 'sugar': 0.5, 'carbohydrates': 7.56, 'protein': 1.78}}, {'name': 'Hazelnut', 'id': 96, 'family': 'Betulaceae', 'order': 'Fagales', 'genus': 'Corylus', 'nutritions': {'calories': 628, 'fat': 61.0, 'sugar': 4.3, 'carbohydrates': 17.0, 'protein': 15.0}}, {'name': 'Pomelo', 'id': 98, 'family': 'Rutaceae', 'order': 'Sapindales', 'genus': 'Citrus', 'nutritions': {'calories': 37, 'fat': 0.0, 'sugar': 8.5, 'carbohydrates': 9.67, 'protein': 0.82}}, {'name': 'Mangosteen', 'id': 99, 'family': 'Clusiaceae', 'order': 'Malpighiales', 'genus': 'Garcinia', 'nutritions': {'calories': 73, 'fat': 0.58, 'sugar': 16.11, 'carbohydrates': 17.91, 'protein': 0.41}}, {'name': 'Pumpkin', 'id': 100, 'family': 'Cucurbitaceae', 'order': 'Cucurbitales', 'genus': 'Cucurbita', 'nutritions': {'calories': 25, 'fat': 0.3, 'sugar': 3.3, 'carbohydrates': 4.6, 'protein': 1.1}}, {'name': 'Japanese Persimmon', 'id': 101, 'family': ' Ebenaceae', 'order': ' Ericales', 'genus': 'Diospyros', 'nutritions': {'calories': 70, 'fat': 0.2, 'sugar': 13.0, 'carbohydrates': 19.0, 'protein': 0.6}}, {'name': 'Papaya', 'id': 42, 'family': 'Caricaceae', 'order': 'Brassicales', 'genus': 'Carica', 'nutritions': {'calories': 39, 'fat': 0.3, 'sugar': 4.4, 'carbohydrates': 5.8, 'protein': 0.5}}, {'name': 'Annona', 'id': 103, 'family': 'Annonaceae', 'order': 'Rosales', 'genus': 'Annonas', 'nutritions': {'calories': 92, 'fat': 0.29, 'sugar': 3.4, 'carbohydrates': 19.1, 'protein': 1.5}}, {'name': 'Ceylon Gooseberry', 'id': 104, 'family': 'Salicaceae', 'order': 'Malpighiales', 'genus': 'Dovyalis', 'nutritions': {'calories': 47, 'fat': 0.3, 'sugar': 8.1, 'carbohydrates': 9.6, 'protein': 1.2}}]\n"
     ]
    }
   ],
   "source": [
    "# let us try https://www.fruityvice.com/api/fruit/all\n",
    "url = \"https://www.fruityvice.com/api/fruit/all\"\n",
    "response = requests.get(url)\n",
    "if response.status_code == 200:\n",
    "    data = response.json()\n",
    "    print(data)\n",
    "else:\n",
    "    print(f\"Status code is {response.status_code}\")\n",
    "    # raise Exception(\"API did not return 200 status code\")\n",
    "    "
   ]
  },
  {
   "cell_type": "code",
   "execution_count": 17,
   "metadata": {},
   "outputs": [
    {
     "name": "stdout",
     "output_type": "stream",
     "text": [
      "Number of fruits is 49\n"
     ]
    }
   ],
   "source": [
    "# how many fruits did I get?\n",
    "print(f\"Number of fruits is {len(data)}\")"
   ]
  },
  {
   "cell_type": "markdown",
   "metadata": {},
   "source": [
    "## Conclusion\n",
    "\n",
    "When working with JSON APIs the request is simple\n",
    "\n",
    "Most of the work is AFTER parsing the JSON into a Python data structure. This is where the real work begins.\n",
    "\n",
    "This usually involves extracting the data you need from the JSON data structure and transforming it into a format that is useful for your application.\n",
    "\n",
    "This could mean transforming from dictionary into a list of dictionaries, or from a list of dictionaries into a dictionary of dictionaries, or from a dictionary of dictionaries into a list of tuples, etc."
   ]
  }
 ],
 "metadata": {
  "kernelspec": {
   "display_name": ".venv",
   "language": "python",
   "name": "python3"
  },
  "language_info": {
   "codemirror_mode": {
    "name": "ipython",
    "version": 3
   },
   "file_extension": ".py",
   "mimetype": "text/x-python",
   "name": "python",
   "nbconvert_exporter": "python",
   "pygments_lexer": "ipython3",
   "version": "3.12.3"
  }
 },
 "nbformat": 4,
 "nbformat_minor": 2
}
